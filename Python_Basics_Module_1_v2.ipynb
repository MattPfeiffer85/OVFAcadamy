{
  "cells": [
    {
      "cell_type": "markdown",
      "metadata": {
        "id": "view-in-github",
        "colab_type": "text"
      },
      "source": [
        "<a href=\"https://colab.research.google.com/github/MattPfeiffer85/OVFAcadamy/blob/main/Python_Basics_Module_1_v2.ipynb\" target=\"_parent\"><img src=\"https://colab.research.google.com/assets/colab-badge.svg\" alt=\"Open In Colab\"/></a>"
      ]
    },
    {
      "cell_type": "markdown",
      "metadata": {
        "id": "ItZ8Qh9B16ek"
      },
      "source": [
        "This is a brief overview of basics concepts of Python programming"
      ]
    },
    {
      "cell_type": "markdown",
      "metadata": {
        "id": "y8Vyx71SCZGY"
      },
      "source": [
        "**Topics:**\n",
        "\n",
        "1. Syntax, comments, operations\n",
        "2. Workflow & Indentation\n",
        "3. True, False\n",
        "4. Conditions: IF, ELSE, ELIF\n",
        "5. Variable Types \n",
        "6. Lists\n",
        "7. Strings\n",
        "8. Tuples\n",
        "9. Dictionaries\n",
        "10. DataFrames\n",
        "11. Loops\n",
        "12. Functions\n",
        "\n",
        "\n",
        "\n"
      ]
    },
    {
      "cell_type": "markdown",
      "source": [
        "Helpfull links:\n",
        "\n",
        "\n",
        "\n",
        "*   https://www.datacamp.com/\n",
        "*   https://stackoverflow.com/\n",
        "*   https://www.w3schools.com/python/default.asp\n",
        "*   https://pynative.com/python/\n",
        "*   https://www.programiz.com/python-programming\n",
        "\n",
        "\n"
      ],
      "metadata": {
        "id": "gz83JTQVHJVk"
      }
    },
    {
      "cell_type": "markdown",
      "metadata": {
        "id": "UyZje8VICleI"
      },
      "source": [
        "# 1.&nbsp;Syntax"
      ]
    },
    {
      "cell_type": "markdown",
      "source": [
        "This is a text section\n"
      ],
      "metadata": {
        "id": "YPUDRp3CHv5-"
      }
    },
    {
      "cell_type": "code",
      "execution_count": 5,
      "metadata": {
        "id": "-j4USlfaCzNh"
      },
      "outputs": [],
      "source": [
        "# Comment\n",
        "\n",
        "# This is a comment !"
      ]
    },
    {
      "cell_type": "markdown",
      "source": [
        "Function"
      ],
      "metadata": {
        "id": "liSOdcBXIqEc"
      }
    },
    {
      "cell_type": "code",
      "source": [
        "print()"
      ],
      "metadata": {
        "id": "LRcfx6_vIveg",
        "outputId": "772540d9-38e1-439a-dc41-e717c2c832e1",
        "colab": {
          "base_uri": "https://localhost:8080/"
        }
      },
      "execution_count": 6,
      "outputs": [
        {
          "output_type": "stream",
          "name": "stdout",
          "text": [
            "\n"
          ]
        }
      ]
    },
    {
      "cell_type": "markdown",
      "source": [
        "The *print()* function prints the specified message to the screen, or other standard output device.\n",
        "\n",
        "The message can be a string, or any other object, the object will be converted into a string before written to the screen."
      ],
      "metadata": {
        "id": "SbxPjINSrWoH"
      }
    },
    {
      "cell_type": "code",
      "execution_count": 7,
      "metadata": {
        "id": "1EED_IDgCn85",
        "outputId": "c121c6d4-fd05-4eec-d612-3f7722bd2b76",
        "colab": {
          "base_uri": "https://localhost:8080/"
        }
      },
      "outputs": [
        {
          "output_type": "stream",
          "name": "stdout",
          "text": [
            "Hello world\n"
          ]
        }
      ],
      "source": [
        "# to display the string 'Hello world' use the function print()\n",
        "\n",
        "# as Hello world is a string you have to add single or double quotations marks\n",
        "\n",
        "print('Hello world')"
      ]
    },
    {
      "cell_type": "code",
      "execution_count": 8,
      "metadata": {
        "id": "9U7laFcWDHKQ",
        "outputId": "fbd8a5be-f184-4439-835d-4fd3e1b70922",
        "colab": {
          "base_uri": "https://localhost:8080/"
        }
      },
      "outputs": [
        {
          "output_type": "stream",
          "name": "stdout",
          "text": [
            "2\n"
          ]
        }
      ],
      "source": [
        "# numbers\n",
        "\n",
        "print(2)"
      ]
    },
    {
      "cell_type": "code",
      "execution_count": 9,
      "metadata": {
        "id": "2tl2osBcCwqx",
        "outputId": "68292035-d8c2-45f2-9005-d263e7fa8960",
        "colab": {
          "base_uri": "https://localhost:8080/"
        }
      },
      "outputs": [
        {
          "output_type": "stream",
          "name": "stdout",
          "text": [
            "5\n"
          ]
        }
      ],
      "source": [
        "# operations / calculation\n",
        "\n",
        "print(2+3)"
      ]
    },
    {
      "cell_type": "code",
      "source": [
        "2+3"
      ],
      "metadata": {
        "id": "UIb69VacKr5g",
        "outputId": "0e6eb593-f6f6-4661-a87d-69c275d5261e",
        "colab": {
          "base_uri": "https://localhost:8080/"
        }
      },
      "execution_count": 10,
      "outputs": [
        {
          "output_type": "execute_result",
          "data": {
            "text/plain": [
              "5"
            ]
          },
          "metadata": {},
          "execution_count": 10
        }
      ]
    },
    {
      "cell_type": "code",
      "source": [
        "2+4\n",
        "print(2+3)\n",
        "print(1*8)"
      ],
      "metadata": {
        "id": "-FJFYI2LLe8V",
        "outputId": "26b033ca-d3fc-408b-e6cf-9aafa8d450e9",
        "colab": {
          "base_uri": "https://localhost:8080/"
        }
      },
      "execution_count": 11,
      "outputs": [
        {
          "output_type": "stream",
          "name": "stdout",
          "text": [
            "5\n",
            "8\n"
          ]
        }
      ]
    },
    {
      "cell_type": "code",
      "execution_count": 12,
      "metadata": {
        "id": "d9dgKKRhDJGV",
        "outputId": "de51896d-2065-427b-8237-23c98702c967",
        "colab": {
          "base_uri": "https://localhost:8080/"
        }
      },
      "outputs": [
        {
          "output_type": "stream",
          "name": "stdout",
          "text": [
            "This is a string\n",
            "This is a string\n"
          ]
        }
      ],
      "source": [
        "# string/text ==> quotation marks: single or double\n",
        "\n",
        "print('This is a string')\n",
        "print(\"This is a string\")"
      ]
    },
    {
      "cell_type": "code",
      "execution_count": 13,
      "metadata": {
        "id": "Wyr2-8pnDQmw",
        "outputId": "2cb90ea5-36f4-4c60-b04b-ede6c50e313f",
        "colab": {
          "base_uri": "https://localhost:8080/"
        }
      },
      "outputs": [
        {
          "output_type": "stream",
          "name": "stdout",
          "text": [
            "2\n",
            "3\n",
            "2 3\n"
          ]
        }
      ],
      "source": [
        "# variables\n",
        "\n",
        "# to assign a value use the symbol =\n",
        "# assign a numerical variables\n",
        "\n",
        "x = 2\n",
        "y = 3\n",
        "\n",
        "print(x)\n",
        "print(y)\n",
        "print(x, y)"
      ]
    },
    {
      "cell_type": "code",
      "execution_count": 14,
      "metadata": {
        "id": "pM5wsL-3DcDs",
        "outputId": "209c5862-a460-4961-b788-0eca0ea919e3",
        "colab": {
          "base_uri": "https://localhost:8080/"
        }
      },
      "outputs": [
        {
          "output_type": "execute_result",
          "data": {
            "text/plain": [
              "5"
            ]
          },
          "metadata": {},
          "execution_count": 14
        }
      ],
      "source": [
        "# make operations with assigned variables\n",
        "\n",
        "x+y"
      ]
    },
    {
      "cell_type": "code",
      "source": [
        "# assign a 'text' value to a variable\n",
        "# make operations with strings\n",
        "\n",
        "string1='love'\n",
        "string2='data'\n",
        "\n",
        "print(string1)\n",
        "print(string2)\n",
        "\n",
        "# concatenate them\n",
        "print(string1 + string2)"
      ],
      "metadata": {
        "id": "-qkRXhjWz393",
        "outputId": "0e9f90cb-e6b3-402f-8661-8a34ffb8d1ad",
        "colab": {
          "base_uri": "https://localhost:8080/"
        }
      },
      "execution_count": 15,
      "outputs": [
        {
          "output_type": "stream",
          "name": "stdout",
          "text": [
            "love\n",
            "data\n",
            "lovedata\n"
          ]
        }
      ]
    },
    {
      "cell_type": "code",
      "source": [
        "# add a space\n",
        "print(string1 + ' ' + string2)"
      ],
      "metadata": {
        "id": "VAxYSLO6MHsJ",
        "outputId": "b3c5699c-d725-44e0-d027-585086584d09",
        "colab": {
          "base_uri": "https://localhost:8080/"
        }
      },
      "execution_count": 16,
      "outputs": [
        {
          "output_type": "stream",
          "name": "stdout",
          "text": [
            "love data\n"
          ]
        }
      ]
    },
    {
      "cell_type": "markdown",
      "source": [
        "# 2.&nbsp;Workflow & Indentation"
      ],
      "metadata": {
        "id": "yDHbUKWR6rEq"
      }
    },
    {
      "cell_type": "markdown",
      "source": [
        "Workflow is the series of activities that are necessary to complete a task"
      ],
      "metadata": {
        "id": "KvnMKa6Q6Vog"
      }
    },
    {
      "cell_type": "markdown",
      "source": [
        "Indentation refers to the spaces at the beginning of a code line.\n",
        "\n",
        "Where in other programming languages the indentation in code is for readability only, the indentation in Python is very important.\n",
        "\n",
        "Python uses indentation to indicate a block of code. The standard Python indentation is 4 spaces, although tabs and any other space size will work, as long as it is consistent. \n",
        "\n",
        "\n"
      ],
      "metadata": {
        "id": "RFVAV3c_6pSF"
      }
    },
    {
      "cell_type": "code",
      "source": [
        "# Python will give you an error if you skip the indentation:\n",
        "\n",
        "a=5\n",
        "b=2\n",
        "\n",
        "if a > b:\n",
        "print(\"a is greater than b !\")"
      ],
      "metadata": {
        "id": "wwiv1Tb47B86",
        "outputId": "c884e253-06bd-4bdb-fb51-867ebeca5b43",
        "colab": {
          "base_uri": "https://localhost:8080/",
          "height": 130
        }
      },
      "execution_count": 17,
      "outputs": [
        {
          "output_type": "error",
          "ename": "IndentationError",
          "evalue": "ignored",
          "traceback": [
            "\u001b[0;36m  File \u001b[0;32m\"<ipython-input-17-224e75f4f98e>\"\u001b[0;36m, line \u001b[0;32m7\u001b[0m\n\u001b[0;31m    print(\"a is greater than b !\")\u001b[0m\n\u001b[0m    ^\u001b[0m\n\u001b[0;31mIndentationError\u001b[0m\u001b[0;31m:\u001b[0m expected an indented block\n"
          ]
        }
      ]
    },
    {
      "cell_type": "code",
      "source": [
        "# the correct way to use indentation\n",
        "# ends with a colon (:)\n",
        "\n",
        "a=5\n",
        "b=2\n",
        "\n",
        "if a > b:\n",
        "  print(\"a is greater than b !\")"
      ],
      "metadata": {
        "id": "32nwt5pG6om_",
        "outputId": "72eb1a3c-3d6f-48ca-da49-c3c4cc585442",
        "colab": {
          "base_uri": "https://localhost:8080/"
        }
      },
      "execution_count": 18,
      "outputs": [
        {
          "output_type": "stream",
          "name": "stdout",
          "text": [
            "a is greater than b !\n"
          ]
        }
      ]
    },
    {
      "cell_type": "markdown",
      "source": [
        "# 3.&nbsp;True, False"
      ],
      "metadata": {
        "id": "Ghvv-PtA8E3_"
      }
    },
    {
      "cell_type": "code",
      "source": [
        "# Boolean True, False\n",
        "\n",
        "# If a statement is correct then it will return True\n",
        "# IF the statement is NOT correct , it will return False\n",
        "# use == symbol\n",
        "\n",
        "a=1\n",
        "b=2\n",
        "c=1\n",
        "\n",
        "print(a==b)"
      ],
      "metadata": {
        "id": "yyqL-2dO7x38",
        "outputId": "a10e0afd-f282-4cb1-ad83-15b66a57abe7",
        "colab": {
          "base_uri": "https://localhost:8080/"
        }
      },
      "execution_count": 19,
      "outputs": [
        {
          "output_type": "stream",
          "name": "stdout",
          "text": [
            "False\n"
          ]
        }
      ]
    },
    {
      "cell_type": "code",
      "source": [
        "print(a==c)"
      ],
      "metadata": {
        "id": "qcV_vGkY8pZk",
        "outputId": "c4688ec2-1a49-4130-e6e6-f0ff44290b40",
        "colab": {
          "base_uri": "https://localhost:8080/"
        }
      },
      "execution_count": 20,
      "outputs": [
        {
          "output_type": "stream",
          "name": "stdout",
          "text": [
            "True\n"
          ]
        }
      ]
    },
    {
      "cell_type": "markdown",
      "source": [
        "# 4.&nbsp; Condition: IF, ELSE, ELIF"
      ],
      "metadata": {
        "id": "jhEHMTfE7o9K"
      }
    },
    {
      "cell_type": "code",
      "execution_count": 21,
      "metadata": {
        "id": "a6UxeOH3DdZb",
        "outputId": "9f020294-18fa-473c-8911-6bdffa14294d",
        "colab": {
          "base_uri": "https://localhost:8080/"
        }
      },
      "outputs": [
        {
          "output_type": "stream",
          "name": "stdout",
          "text": [
            "x is grater then 0\n"
          ]
        }
      ],
      "source": [
        "# IF the statement is true then..do something\n",
        "\n",
        "x = 1\n",
        "\n",
        "if x > 0:\n",
        "  print('x is grater then 0')"
      ]
    },
    {
      "cell_type": "code",
      "execution_count": 22,
      "metadata": {
        "id": "NBBxbc7FD6OU"
      },
      "outputs": [],
      "source": [
        "x = -2\n",
        "\n",
        "if x > 0:\n",
        "  print('x is greater then 0')"
      ]
    },
    {
      "cell_type": "code",
      "execution_count": 23,
      "metadata": {
        "id": "anr0MY6ND8SS",
        "outputId": "94e8ea18-b4ca-41dd-b823-2a8dd9fb48a3",
        "colab": {
          "base_uri": "https://localhost:8080/"
        }
      },
      "outputs": [
        {
          "output_type": "stream",
          "name": "stdout",
          "text": [
            "x is less then 0\n"
          ]
        }
      ],
      "source": [
        "# IF the statement is true then..do something, ELSE otherwise do something else\n",
        "\n",
        "x= -5\n",
        "\n",
        "if x>0:\n",
        "  print('x is grater then 0')\n",
        "else:\n",
        "  print('x is less then 0')\n"
      ]
    },
    {
      "cell_type": "code",
      "execution_count": 24,
      "metadata": {
        "id": "W5dMiQ1uEHul",
        "outputId": "24dd608e-0092-4385-b190-7cd1bad97955",
        "colab": {
          "base_uri": "https://localhost:8080/"
        }
      },
      "outputs": [
        {
          "output_type": "stream",
          "name": "stdout",
          "text": [
            "x is less then 0\n"
          ]
        }
      ],
      "source": [
        "x=0\n",
        "\n",
        "if x>0:\n",
        "  print('x is grater then 0')\n",
        "else:\n",
        "  print('x is less then 0')\n"
      ]
    },
    {
      "cell_type": "code",
      "execution_count": 25,
      "metadata": {
        "id": "BfmAv-flEjNn",
        "outputId": "56ea711a-fecf-4f01-f325-ab88bfd1dd73",
        "colab": {
          "base_uri": "https://localhost:8080/"
        }
      },
      "outputs": [
        {
          "output_type": "stream",
          "name": "stdout",
          "text": [
            "x is grater then 0\n"
          ]
        }
      ],
      "source": [
        "x= 8\n",
        "\n",
        "if x>0:\n",
        "  print('x is grater then 0')\n",
        "elif x==0:\n",
        "  print('x is equal to 0')\n",
        "else:\n",
        "  print('x is less then 0')\n"
      ]
    },
    {
      "cell_type": "markdown",
      "source": [
        "## IF, ELIF, ELSE Practice ***\n",
        "\n",
        "Write a code to return the evaluation of a variable called \"grade\". \n",
        "The grade has to be a numerical variable from 1 to 10.\n",
        ">If the grade is below 5 return \"You failed\".\n",
        "\n",
        ">If the grade is between 5 and 8 included return \"You passed\"\n",
        "\n",
        ">If the grade is over 8 then return \"You excelled\"\n",
        "\n",
        "Hint:\n",
        "\n",
        "\n",
        "1.   create a variable called grade, and give it a randome value from 1 to 10\n",
        "2.   Then imagine possible scenarios of what value that variable can get, to correctly use IF, ELIF, ELSE\n",
        "\n",
        "grade = ???\n",
        "\n",
        "if grade ??? 5:\n",
        "\n",
        "____print(????)\n",
        "\n",
        "elif grade ??? 5 and ????:\n",
        "\n",
        "____print(????)\n",
        "\n",
        "else:\n",
        "____???? \n",
        "\n",
        "\n",
        "\n"
      ],
      "metadata": {
        "id": "Krs-SXVzB5Kp"
      }
    },
    {
      "cell_type": "markdown",
      "source": [
        "In order to better understand how to work with IF, ELIF, ELSE, please try to write by yourself the code for the following tasks.\n",
        "\n",
        "If you don't figure out how to do it, or you just want to check if you got the right solution, just click the arrow next to \"Display Solution\" and click on \"Run button\" to execute the code"
      ],
      "metadata": {
        "id": "PisGGzmnGI7K"
      }
    },
    {
      "cell_type": "code",
      "source": [
        "#  return the evaluation of a variable called \"grade\". The grade has to be a numerical variable from 1 to 10.\n",
        "\n",
        "# create a variable 'grade' and assign a random value from 1 to 10\n",
        "\n",
        "# use IF, ELIF, ELSE statements\n",
        "\n",
        "### If the grade is below 5 return \"You failed\".\n",
        "\n",
        "### If the grade is between 5 and 8 included return \"You passed\"\n",
        "\n",
        "##  If the grade is over 8 then return \"You excelled\"\n",
        "\n",
        "\n",
        "\n",
        "# your code here ....\n"
      ],
      "metadata": {
        "id": "SPc_ZtjjGdAU"
      },
      "execution_count": 26,
      "outputs": []
    },
    {
      "cell_type": "code",
      "source": [
        "#@title Display the solution \n",
        "\n",
        "#  return the evaluation of a variable called \"grade\". The grade has to be a numerical variable from 1 to 10.\n",
        "\n",
        "# create a variable 'grade' and assign a random value from 1 to 10\n",
        "\n",
        "grade = 2\n",
        "\n",
        "if grade < 5:\n",
        "  print('You failed')\n",
        "elif grade >= 5 and grade <=8:\n",
        "  print('You passed')\n",
        "else:\n",
        "  print('You excelled')"
      ],
      "metadata": {
        "id": "UGZVe8bA5NLE",
        "outputId": "5a0f0a3d-63d5-47d3-8548-49b887754d93",
        "colab": {
          "base_uri": "https://localhost:8080/"
        }
      },
      "execution_count": 27,
      "outputs": [
        {
          "output_type": "stream",
          "name": "stdout",
          "text": [
            "You failed\n"
          ]
        }
      ]
    },
    {
      "cell_type": "markdown",
      "metadata": {
        "id": "BIG_swA1FbTA"
      },
      "source": [
        "# 5.&nbsp;Variable types"
      ]
    },
    {
      "cell_type": "markdown",
      "source": [
        "## Integer"
      ],
      "metadata": {
        "id": "tFIFcXo4G6lY"
      }
    },
    {
      "cell_type": "code",
      "execution_count": 28,
      "metadata": {
        "id": "0ICbAeHDFgON",
        "outputId": "220e5275-f394-4129-afed-1ec8646ae5cb",
        "colab": {
          "base_uri": "https://localhost:8080/"
        }
      },
      "outputs": [
        {
          "output_type": "stream",
          "name": "stdout",
          "text": [
            "<class 'int'>\n"
          ]
        }
      ],
      "source": [
        "# integer\n",
        "age = 7\n",
        "print(type(age))"
      ]
    },
    {
      "cell_type": "markdown",
      "source": [
        "##Float"
      ],
      "metadata": {
        "id": "__n8FPACG86I"
      }
    },
    {
      "cell_type": "code",
      "execution_count": 29,
      "metadata": {
        "id": "LqbLd6yQGGg8",
        "outputId": "454a459a-00a4-486e-e146-98723b48ed5e",
        "colab": {
          "base_uri": "https://localhost:8080/"
        }
      },
      "outputs": [
        {
          "output_type": "stream",
          "name": "stdout",
          "text": [
            "<class 'float'>\n"
          ]
        }
      ],
      "source": [
        "# float\n",
        "age = 7.5\n",
        "print(type(age))"
      ]
    },
    {
      "cell_type": "markdown",
      "source": [
        "## String"
      ],
      "metadata": {
        "id": "r0Ky2ZlTG_9u"
      }
    },
    {
      "cell_type": "code",
      "execution_count": 30,
      "metadata": {
        "id": "LiP3qLRcF5MP",
        "outputId": "958810eb-68ce-49cd-c41e-cb8fd8aac575",
        "colab": {
          "base_uri": "https://localhost:8080/"
        }
      },
      "outputs": [
        {
          "output_type": "stream",
          "name": "stdout",
          "text": [
            "<class 'str'>\n"
          ]
        }
      ],
      "source": [
        "# str\n",
        "name = 'Jessica'\n",
        "print(type(name))"
      ]
    },
    {
      "cell_type": "code",
      "execution_count": 31,
      "metadata": {
        "id": "BdS6G_aJ4mMe",
        "outputId": "41b8395b-50b5-4f1f-ce90-1c50a119702d",
        "colab": {
          "base_uri": "https://localhost:8080/"
        }
      },
      "outputs": [
        {
          "output_type": "stream",
          "name": "stdout",
          "text": [
            "the type of pi_string variable:  <class 'str'>\n",
            "the value of pi_string variable:  3.1415926\n",
            "\n"
          ]
        }
      ],
      "source": [
        "# Definition of pi_string\n",
        "pi_string = \"3.1415926\"\n",
        "print('the type of pi_string variable: ', type(pi_string))\n",
        "print('the value of pi_string variable: ', pi_string)\n",
        "print('')\n",
        "\n"
      ]
    },
    {
      "cell_type": "code",
      "source": [
        "# convert string to float\n",
        "pi_float= float(pi_string)\n",
        "print('the type of pi_float variable: ', type(pi_float))\n",
        "print('the value of pi_float variable: ', pi_float)\n",
        "print('')\n",
        "\n"
      ],
      "metadata": {
        "id": "W40ZiUzqUX68",
        "outputId": "97fc3e84-b5ce-4bda-86ad-23d68fd7aec5",
        "colab": {
          "base_uri": "https://localhost:8080/"
        }
      },
      "execution_count": 32,
      "outputs": [
        {
          "output_type": "stream",
          "name": "stdout",
          "text": [
            "the type of pi_float variable:  <class 'float'>\n",
            "the value of pi_float variable:  3.1415926\n",
            "\n"
          ]
        }
      ]
    },
    {
      "cell_type": "code",
      "source": [
        "# convert float to integer\n",
        "pi_int= int(pi_float)\n",
        "print('the type of pi_int variable: ', type(pi_int))\n",
        "print('the value of pi_int variable: ', pi_int)\n",
        "print('')"
      ],
      "metadata": {
        "id": "klj49EnvUZad",
        "outputId": "2303deb3-1dd7-4d14-a25a-68070e344608",
        "colab": {
          "base_uri": "https://localhost:8080/"
        }
      },
      "execution_count": 33,
      "outputs": [
        {
          "output_type": "stream",
          "name": "stdout",
          "text": [
            "the type of pi_int variable:  <class 'int'>\n",
            "the value of pi_int variable:  3\n",
            "\n"
          ]
        }
      ]
    },
    {
      "cell_type": "markdown",
      "source": [
        "More about convertion of string and int\n",
        "https://realpython.com/convert-python-string-to-int/"
      ],
      "metadata": {
        "id": "nmKufxbPI9Na"
      }
    },
    {
      "cell_type": "markdown",
      "source": [
        "##Tuple"
      ],
      "metadata": {
        "id": "yF9kwxHAHDKg"
      }
    },
    {
      "cell_type": "code",
      "execution_count": 34,
      "metadata": {
        "id": "T4jrai7pF-Og",
        "outputId": "2bec93ce-e47f-4ad7-f6c1-8aade3b255a5",
        "colab": {
          "base_uri": "https://localhost:8080/"
        }
      },
      "outputs": [
        {
          "output_type": "stream",
          "name": "stdout",
          "text": [
            "('Jessica', 7.5)\n",
            "<class 'tuple'>\n"
          ]
        }
      ],
      "source": [
        "# tuple\n",
        "name_age = (name, age)\n",
        "print(name_age)\n",
        "print(type(name_age))"
      ]
    },
    {
      "cell_type": "markdown",
      "source": [
        "## Date"
      ],
      "metadata": {
        "id": "gsOtlqqEHFFf"
      }
    },
    {
      "cell_type": "code",
      "execution_count": 35,
      "metadata": {
        "id": "yPDOQZXwGZHM",
        "outputId": "4444dd0a-58c3-406c-c818-231e583baf17",
        "colab": {
          "base_uri": "https://localhost:8080/"
        }
      },
      "outputs": [
        {
          "output_type": "stream",
          "name": "stdout",
          "text": [
            "2022-12-31\n",
            "<class 'str'>\n"
          ]
        }
      ],
      "source": [
        "# date\n",
        "date = '2022-12-31' # separated by hyphens\n",
        "print(date)\n",
        "print(type(date))"
      ]
    },
    {
      "cell_type": "code",
      "source": [
        "# To manipulate dates in Python ...\n",
        "# we need to import datetime package from datetime module ( very important !!! )\n",
        "\n",
        "from datetime import datetime"
      ],
      "metadata": {
        "id": "QhYhHsrosnqe"
      },
      "execution_count": 36,
      "outputs": []
    },
    {
      "cell_type": "code",
      "source": [
        "# to convert the string into a date object...\n",
        "\n",
        "# with .strptime method  we tell Python how to read the string, by specifying which part is the year (%Y), month (%m), day (%d), \n",
        "# all separated by hyphen '%Y-%m-%d'\n",
        "\n",
        "date = datetime.strptime(date, '%Y-%m-%d')\n",
        "\n",
        "print(date)\n",
        "print(type(date))\n"
      ],
      "metadata": {
        "id": "L_ki3poOq-9b",
        "outputId": "1184354c-1694-4d7b-8839-8b46aee15b98",
        "colab": {
          "base_uri": "https://localhost:8080/"
        }
      },
      "execution_count": 37,
      "outputs": [
        {
          "output_type": "stream",
          "name": "stdout",
          "text": [
            "2022-12-31 00:00:00\n",
            "<class 'datetime.datetime'>\n"
          ]
        }
      ]
    },
    {
      "cell_type": "code",
      "source": [
        "# if we want to omitt time (hous, minutes, seconds)\n",
        "\n",
        "# to convert the string into a date object...\n",
        "\n",
        "# with .strptime method  we tell Python how to read the string, by specifying which part is the year (%Y), month (%m), day (%d), \n",
        "# all separated by hyphen '%Y-%m-%d'\n",
        "\n",
        "# we need to add .date() in the end, to tell python to convert it to date\n",
        "\n",
        "date = '2022-12-31' # separated by hyphens\n",
        "\n",
        "date = datetime.strptime(date, '%Y-%m-%d').date()\n",
        "\n",
        "print(date)\n",
        "print(type(date))\n",
        "\n"
      ],
      "metadata": {
        "id": "aV28-ZDD5IXZ",
        "outputId": "b77a392e-6883-4d4a-b6f6-4b9786224c1d",
        "colab": {
          "base_uri": "https://localhost:8080/"
        }
      },
      "execution_count": 38,
      "outputs": [
        {
          "output_type": "stream",
          "name": "stdout",
          "text": [
            "2022-12-31\n",
            "<class 'datetime.date'>\n"
          ]
        }
      ]
    },
    {
      "cell_type": "code",
      "execution_count": 39,
      "metadata": {
        "id": "Gq7qbSFhGrn-",
        "outputId": "523bd81c-8069-4a56-d6e6-df3bbccf7697",
        "colab": {
          "base_uri": "https://localhost:8080/"
        }
      },
      "outputs": [
        {
          "output_type": "stream",
          "name": "stdout",
          "text": [
            "<class 'datetime.datetime'>\n",
            "2018-09-19 13:55:26\n"
          ]
        }
      ],
      "source": [
        "# to convert a string that have date + time (hours, minutes, seconds...)\n",
        "# we need to tell python that the 1st bit of the string is the month, separated by a slash, \n",
        "# then day, \n",
        "# then year (with format %y, meaning 18 instead of 2018)\n",
        "# the hours, (%H) separated by :\n",
        "# then minutes, (%M) separated by :\n",
        "# the seconds, (%S)\n",
        "\n",
        "datetime_time = '09/19/18 13:55:26'\n",
        "\n",
        "datetime_time = datetime.strptime(datetime_time, '%m/%d/%y %H:%M:%S')\n",
        "\n",
        "print(type(datetime_time))\n",
        "print(datetime_time)  # printed in default format"
      ]
    },
    {
      "cell_type": "code",
      "source": [
        "# Print the date in the format 'YYYY-MM'\n",
        "\n",
        "# our datetime_time variable is already perceived as a date by Python...\n",
        "\n",
        "\n",
        "print(datetime_time.strftime('%Y-%m'))"
      ],
      "metadata": {
        "id": "6FCkTBmppZQh",
        "outputId": "d28a429c-d52f-4edf-d6d8-fe94f453c586",
        "colab": {
          "base_uri": "https://localhost:8080/"
        }
      },
      "execution_count": 40,
      "outputs": [
        {
          "output_type": "stream",
          "name": "stdout",
          "text": [
            "2018-09\n"
          ]
        }
      ]
    },
    {
      "cell_type": "code",
      "source": [
        "# if we want the month first and then the year\n",
        "print(datetime_time.strftime('%m-%Y'))"
      ],
      "metadata": {
        "id": "Kle7LCEI_9rb",
        "outputId": "a68c01ed-367b-4817-e4ce-bccaccda9605",
        "colab": {
          "base_uri": "https://localhost:8080/"
        }
      },
      "execution_count": 41,
      "outputs": [
        {
          "output_type": "stream",
          "name": "stdout",
          "text": [
            "09-2018\n"
          ]
        }
      ]
    },
    {
      "cell_type": "markdown",
      "source": [
        "The date conversions can be helpfull, as when working with excels, often, Python reads the dates as a string.\n",
        "\n",
        "So, you'll need to convert the strings that are supposed to be read as a date ...."
      ],
      "metadata": {
        "id": "Me8gk10A6CX8"
      }
    },
    {
      "cell_type": "code",
      "source": [
        "# ... But, Python allows you create a date from the start\n",
        "\n",
        "# to do so, you need to import package date from datetime module\n",
        "\n",
        "from datetime import date\n",
        "\n",
        "anniversary_date = date(1992, 8, 24) # year, month, day\n",
        "print(anniversary_date)\n",
        "print(type(anniversary_date))"
      ],
      "metadata": {
        "id": "Ofxog2KK5_eo",
        "outputId": "051ff23c-5fab-489e-dfce-e1ef6fd9df62",
        "colab": {
          "base_uri": "https://localhost:8080/"
        }
      },
      "execution_count": 42,
      "outputs": [
        {
          "output_type": "stream",
          "name": "stdout",
          "text": [
            "1992-08-24\n",
            "<class 'datetime.date'>\n"
          ]
        }
      ]
    },
    {
      "cell_type": "markdown",
      "source": [
        "More about date conversion\n",
        "https://www.digitalocean.com/community/tutorials/python-string-to-datetime-strptime\n",
        "\n",
        "More about dates https://www.w3schools.com/python/python_datetime.asp\n",
        "\n",
        "More about date and time manipulation https://www.programiz.com/python-programming/datetime\n",
        "\n",
        "How to format dates https://www.geeksforgeeks.org/how-to-format-date-using-strftime-in-python/\n",
        "\n",
        "Practice dates https://campus.datacamp.com/courses/working-with-dates-and-times-in-python/dates-and-calendars?ex=1"
      ],
      "metadata": {
        "id": "Nw6iK08OJQnX"
      }
    },
    {
      "cell_type": "markdown",
      "metadata": {
        "id": "NjB4qFKcJrjh"
      },
      "source": [
        "# 6.&nbsp;Lists"
      ]
    },
    {
      "cell_type": "markdown",
      "source": [
        "Lists are used to store multiple items in a single variable."
      ],
      "metadata": {
        "id": "3iihaoGCxjUM"
      }
    },
    {
      "cell_type": "markdown",
      "source": [
        "More about lists https://www.w3schools.com/python/python_lists.asp"
      ],
      "metadata": {
        "id": "62gzT1Qkz7CO"
      }
    },
    {
      "cell_type": "markdown",
      "source": [
        "## List creation"
      ],
      "metadata": {
        "id": "YonfVue1LYmX"
      }
    },
    {
      "cell_type": "code",
      "source": [
        "# Using list constructor\n",
        "my_list1 = list((1, 2, 3))\n",
        "print(my_list1)"
      ],
      "metadata": {
        "id": "GTl4nyT3K9e_",
        "outputId": "20a5ab9b-ff14-43bc-de3a-c3ef3295da14",
        "colab": {
          "base_uri": "https://localhost:8080/"
        }
      },
      "execution_count": 43,
      "outputs": [
        {
          "output_type": "stream",
          "name": "stdout",
          "text": [
            "[1, 2, 3]\n"
          ]
        }
      ]
    },
    {
      "cell_type": "code",
      "execution_count": 44,
      "metadata": {
        "id": "R53W5QqYJtFz",
        "outputId": "86321cca-25c5-4bdc-99d6-e8050cbf3f71",
        "colab": {
          "base_uri": "https://localhost:8080/"
        }
      },
      "outputs": [
        {
          "output_type": "stream",
          "name": "stdout",
          "text": [
            "the type of our_list <class 'list'>\n",
            "['a', 'b', 'c', 1, 1.5]\n"
          ]
        }
      ],
      "source": [
        "# create a list\n",
        "our_list = [\"a\",\"b\",\"c\", 1, 1.5]\n",
        "print('the type of our_list', type(our_list))\n",
        "print(our_list)"
      ]
    },
    {
      "cell_type": "markdown",
      "source": [
        "## Append an element"
      ],
      "metadata": {
        "id": "BvQyUPBdLcDg"
      }
    },
    {
      "cell_type": "code",
      "execution_count": 45,
      "metadata": {
        "id": "qbDBvcLKJv89",
        "outputId": "a22f230f-66da-47aa-9f98-01ded5851ad4",
        "colab": {
          "base_uri": "https://localhost:8080/"
        }
      },
      "outputs": [
        {
          "output_type": "stream",
          "name": "stdout",
          "text": [
            "['a', 'b', 'c', 1, 1.5, 'd']\n"
          ]
        }
      ],
      "source": [
        "# append an element to the list\n",
        "\n",
        "our_list.append(\"d\") # it will append 'd' at the end of the list\n",
        "print(our_list)"
      ]
    },
    {
      "cell_type": "markdown",
      "source": [
        "## Index and Slicing"
      ],
      "metadata": {
        "id": "VNNw5dTVLsQv"
      }
    },
    {
      "cell_type": "markdown",
      "source": [
        "The items in a list can be accessed through indexing and slicing. This section will guide you by accessing the list using the following two ways\n",
        "\n",
        "\n",
        "\n",
        "*   **Using indexing**, we can access any item from a list using its index number\n",
        "*   **Using slicing** , we can access a range of items from a list"
      ],
      "metadata": {
        "id": "E8UrdgcGMFEu"
      }
    },
    {
      "cell_type": "markdown",
      "source": [
        "Index"
      ],
      "metadata": {
        "id": "YaAEJS58NNUK"
      }
    },
    {
      "cell_type": "code",
      "execution_count": 46,
      "metadata": {
        "id": "mxihBDedKIN1",
        "outputId": "0c1c6139-077d-45ae-c4aa-2d7166b2a36d",
        "colab": {
          "base_uri": "https://localhost:8080/",
          "height": 35
        }
      },
      "outputs": [
        {
          "output_type": "execute_result",
          "data": {
            "text/plain": [
              "'a'"
            ],
            "application/vnd.google.colaboratory.intrinsic+json": {
              "type": "string"
            }
          },
          "metadata": {},
          "execution_count": 46
        }
      ],
      "source": [
        "# access element in the list\n",
        "\n",
        "# list indexing starts a 0\n",
        "\n",
        "# access first element in the list\n",
        "our_list[0]"
      ]
    },
    {
      "cell_type": "code",
      "execution_count": 47,
      "metadata": {
        "id": "s2KS0Vy9KhJd",
        "outputId": "f1b1fd68-8ffb-4265-cf65-0ea5ad51c7fc",
        "colab": {
          "base_uri": "https://localhost:8080/",
          "height": 35
        }
      },
      "outputs": [
        {
          "output_type": "execute_result",
          "data": {
            "text/plain": [
              "'d'"
            ],
            "application/vnd.google.colaboratory.intrinsic+json": {
              "type": "string"
            }
          },
          "metadata": {},
          "execution_count": 47
        }
      ],
      "source": [
        "# access last element in the list\n",
        "our_list[-1]"
      ]
    },
    {
      "cell_type": "code",
      "source": [
        "# negative index: the seconf element from the end of the list\n",
        "\n",
        "our_list[-2]"
      ],
      "metadata": {
        "id": "q6_N3_VOMyBp",
        "outputId": "d8cd45cb-9452-4395-ca7d-093a866da921",
        "colab": {
          "base_uri": "https://localhost:8080/"
        }
      },
      "execution_count": 48,
      "outputs": [
        {
          "output_type": "execute_result",
          "data": {
            "text/plain": [
              "1.5"
            ]
          },
          "metadata": {},
          "execution_count": 48
        }
      ]
    },
    {
      "cell_type": "code",
      "source": [
        "# access the 3rd element of the list\n",
        "\n",
        "print(our_list)\n",
        "our_list[2] # because our first index is 0"
      ],
      "metadata": {
        "id": "a24Xzhr6MfDG",
        "outputId": "d681dd1b-22ad-4b9f-bf05-ad9381e742d4",
        "colab": {
          "base_uri": "https://localhost:8080/",
          "height": 53
        }
      },
      "execution_count": 49,
      "outputs": [
        {
          "output_type": "stream",
          "name": "stdout",
          "text": [
            "['a', 'b', 'c', 1, 1.5, 'd']\n"
          ]
        },
        {
          "output_type": "execute_result",
          "data": {
            "text/plain": [
              "'c'"
            ],
            "application/vnd.google.colaboratory.intrinsic+json": {
              "type": "string"
            }
          },
          "metadata": {},
          "execution_count": 49
        }
      ]
    },
    {
      "cell_type": "markdown",
      "source": [
        "Slicing"
      ],
      "metadata": {
        "id": "P_qDJkWnNP9h"
      }
    },
    {
      "cell_type": "code",
      "source": [
        "# the first 2 elements\n",
        "\n",
        "print(our_list)\n",
        "print(our_list[2])\n",
        "our_list[:2] "
      ],
      "metadata": {
        "id": "Fr3S-xjsMs6h",
        "outputId": "1d3211c5-92c7-40e4-bd0e-9b168139187f",
        "colab": {
          "base_uri": "https://localhost:8080/"
        }
      },
      "execution_count": 50,
      "outputs": [
        {
          "output_type": "stream",
          "name": "stdout",
          "text": [
            "['a', 'b', 'c', 1, 1.5, 'd']\n",
            "c\n"
          ]
        },
        {
          "output_type": "execute_result",
          "data": {
            "text/plain": [
              "['a', 'b']"
            ]
          },
          "metadata": {},
          "execution_count": 50
        }
      ]
    },
    {
      "cell_type": "code",
      "source": [
        "# Stating from 2nd item to last item ==> ['c', 1, 1.5, 'd']\n",
        "\n",
        "print(our_list)\n",
        "print(our_list[2:]) # not that here the lower limit is included"
      ],
      "metadata": {
        "id": "PwfDJYlPPkrk",
        "outputId": "7bfc04b9-6b6f-4e4d-be8e-20d23cbb73ee",
        "colab": {
          "base_uri": "https://localhost:8080/"
        }
      },
      "execution_count": 51,
      "outputs": [
        {
          "output_type": "stream",
          "name": "stdout",
          "text": [
            "['a', 'b', 'c', 1, 1.5, 'd']\n",
            "['c', 1, 1.5, 'd']\n"
          ]
        }
      ]
    },
    {
      "cell_type": "code",
      "source": [
        "# access the sublist c to 1.5 ==> ['c', 1, 1.5]\n",
        "\n",
        "print(our_list)\n",
        "print(our_list[2])\n",
        "print(our_list[4])\n"
      ],
      "metadata": {
        "id": "0opo7jc0NwYy",
        "outputId": "dbb0f863-fb4b-45a3-80e6-67fd640b116c",
        "colab": {
          "base_uri": "https://localhost:8080/"
        }
      },
      "execution_count": 52,
      "outputs": [
        {
          "output_type": "stream",
          "name": "stdout",
          "text": [
            "['a', 'b', 'c', 1, 1.5, 'd']\n",
            "c\n",
            "1.5\n"
          ]
        }
      ]
    },
    {
      "cell_type": "code",
      "source": [
        "our_list[2:4] # note that upper limit is not included"
      ],
      "metadata": {
        "id": "vPvF_0pfgvC4",
        "outputId": "79988758-735d-4bf9-dc55-0c65075d3bff",
        "colab": {
          "base_uri": "https://localhost:8080/"
        }
      },
      "execution_count": 53,
      "outputs": [
        {
          "output_type": "execute_result",
          "data": {
            "text/plain": [
              "['c', 1]"
            ]
          },
          "metadata": {},
          "execution_count": 53
        }
      ]
    },
    {
      "cell_type": "code",
      "source": [
        "our_list[2:5] # we have to add +1 to upper limit if we want to include 1.5"
      ],
      "metadata": {
        "id": "st8AYAIHgTGm",
        "outputId": "1c8b372f-4eed-4306-d67c-26fc0daae7da",
        "colab": {
          "base_uri": "https://localhost:8080/"
        }
      },
      "execution_count": 54,
      "outputs": [
        {
          "output_type": "execute_result",
          "data": {
            "text/plain": [
              "['c', 1, 1.5]"
            ]
          },
          "metadata": {},
          "execution_count": 54
        }
      ]
    },
    {
      "cell_type": "markdown",
      "source": [
        "##Length"
      ],
      "metadata": {
        "id": "qSTSlqy6MbgR"
      }
    },
    {
      "cell_type": "code",
      "execution_count": 55,
      "metadata": {
        "id": "ohnrobWmKV4p",
        "outputId": "c8651070-654d-48fb-e46c-d5193d030ac9",
        "colab": {
          "base_uri": "https://localhost:8080/"
        }
      },
      "outputs": [
        {
          "output_type": "execute_result",
          "data": {
            "text/plain": [
              "6"
            ]
          },
          "metadata": {},
          "execution_count": 55
        }
      ],
      "source": [
        "# length of the list\n",
        "len(our_list)"
      ]
    },
    {
      "cell_type": "markdown",
      "source": [
        "## Insertions"
      ],
      "metadata": {
        "id": "_1NpXj6sYXwB"
      }
    },
    {
      "cell_type": "code",
      "execution_count": 56,
      "metadata": {
        "id": "cf3_W70uJzK8",
        "outputId": "e445c0d7-304d-44c2-b014-611f171a738c",
        "colab": {
          "base_uri": "https://localhost:8080/"
        }
      },
      "outputs": [
        {
          "output_type": "stream",
          "name": "stdout",
          "text": [
            "['First element', 'a', 'b', 'c', 1, 1.5, 'd']\n"
          ]
        }
      ],
      "source": [
        "# insert an element in the list at 1st position\n",
        "\n",
        "our_list.insert(0, \"First element\") # instert before 1st element\n",
        "print(our_list)"
      ]
    },
    {
      "cell_type": "code",
      "execution_count": 57,
      "metadata": {
        "id": "3iKzh86PKybY",
        "outputId": "5f0fa5aa-c6cc-4fbc-8062-570b9654066d",
        "colab": {
          "base_uri": "https://localhost:8080/"
        }
      },
      "outputs": [
        {
          "output_type": "stream",
          "name": "stdout",
          "text": [
            "['First element', 'a', 'b', 'c', 1, 1.5, 'element', 'd']\n"
          ]
        }
      ],
      "source": [
        "# insert an element in the list before the last one\n",
        "\n",
        "our_list.insert(-1,\"element\") # instert before last element\n",
        "print(our_list)\n"
      ]
    },
    {
      "cell_type": "markdown",
      "source": [
        "## Remove"
      ],
      "metadata": {
        "id": "Xd9B-CAkZSfJ"
      }
    },
    {
      "cell_type": "code",
      "execution_count": 58,
      "metadata": {
        "id": "Gb4Zet70J1Cd",
        "outputId": "37451fc2-84c5-47fc-ac08-498032a6d62b",
        "colab": {
          "base_uri": "https://localhost:8080/"
        }
      },
      "outputs": [
        {
          "output_type": "stream",
          "name": "stdout",
          "text": [
            "['a', 'b', 'c', 1, 1.5, 'element', 'd']\n"
          ]
        }
      ],
      "source": [
        "# remove element\n",
        "our_list.remove(\"First element\")\n",
        "print(our_list)\n"
      ]
    },
    {
      "cell_type": "code",
      "execution_count": 59,
      "metadata": {
        "id": "mSalYk6YJ2sG",
        "outputId": "66490388-fd30-4e45-9590-ed80c3519ba8",
        "colab": {
          "base_uri": "https://localhost:8080/"
        }
      },
      "outputs": [
        {
          "output_type": "stream",
          "name": "stdout",
          "text": [
            "['b', 'c', 1, 1.5, 'element', 'd']\n"
          ]
        }
      ],
      "source": [
        "# remove element by its index\n",
        "\n",
        "our_list.pop(0)\n",
        "print(our_list)\n"
      ]
    },
    {
      "cell_type": "markdown",
      "source": [
        "## Nested List"
      ],
      "metadata": {
        "id": "4uxmO7G7dBlm"
      }
    },
    {
      "cell_type": "code",
      "execution_count": 60,
      "metadata": {
        "id": "MYHwxGC7J6i_",
        "outputId": "9901a73c-9caa-4c71-e39a-89a9b6368ea7",
        "colab": {
          "base_uri": "https://localhost:8080/"
        }
      },
      "outputs": [
        {
          "output_type": "stream",
          "name": "stdout",
          "text": [
            "[[1, 2, 3], 6, 7, 5]\n"
          ]
        }
      ],
      "source": [
        "# we can have nested lists\n",
        "\n",
        "nested_list = [[1,2,3],6,7,5]\n",
        "print(nested_list)"
      ]
    },
    {
      "cell_type": "code",
      "execution_count": 61,
      "metadata": {
        "id": "HoXeJgLULVYI",
        "outputId": "7fc37330-2185-46a5-e8f2-61ac39a830a2",
        "colab": {
          "base_uri": "https://localhost:8080/"
        }
      },
      "outputs": [
        {
          "output_type": "execute_result",
          "data": {
            "text/plain": [
              "4"
            ]
          },
          "metadata": {},
          "execution_count": 61
        }
      ],
      "source": [
        "# length of nested ==> the list within my_list [1, 2, 3] will be considered a single element\n",
        "len(nested_list)"
      ]
    },
    {
      "cell_type": "code",
      "execution_count": 62,
      "metadata": {
        "id": "lWfUBRmDLZ0i",
        "outputId": "5536f2e0-995e-470b-ea17-02028622c962",
        "colab": {
          "base_uri": "https://localhost:8080/"
        }
      },
      "outputs": [
        {
          "output_type": "execute_result",
          "data": {
            "text/plain": [
              "[1, 2, 3]"
            ]
          },
          "metadata": {},
          "execution_count": 62
        }
      ],
      "source": [
        "# access 1st element of nested list\n",
        "nested_list[0]"
      ]
    },
    {
      "cell_type": "code",
      "execution_count": 63,
      "metadata": {
        "id": "OESQK8qeLi6z",
        "outputId": "c03b85e5-dc55-4de2-a27a-e23ea9d7b7dd",
        "colab": {
          "base_uri": "https://localhost:8080/"
        }
      },
      "outputs": [
        {
          "output_type": "execute_result",
          "data": {
            "text/plain": [
              "6"
            ]
          },
          "metadata": {},
          "execution_count": 63
        }
      ],
      "source": [
        "# access 2nd element of nested list\n",
        "nested_list[1]"
      ]
    },
    {
      "cell_type": "code",
      "execution_count": 64,
      "metadata": {
        "id": "0XjmRBPILf6J",
        "outputId": "64d389ea-3316-4d92-d4d3-ccb9779daa60",
        "colab": {
          "base_uri": "https://localhost:8080/"
        }
      },
      "outputs": [
        {
          "output_type": "execute_result",
          "data": {
            "text/plain": [
              "2"
            ]
          },
          "metadata": {},
          "execution_count": 64
        }
      ],
      "source": [
        "# access an element from a list within the nested list 2\n",
        "nested_list[0][1]"
      ]
    },
    {
      "cell_type": "markdown",
      "source": [
        "More about lists https://pynative.com/python-lists/"
      ],
      "metadata": {
        "id": "tTIB5A1pKRJA"
      }
    },
    {
      "cell_type": "markdown",
      "source": [
        "## List Practice ***"
      ],
      "metadata": {
        "id": "3TRz4t_DVRLK"
      }
    },
    {
      "cell_type": "markdown",
      "source": [
        "In order to better understand how to work with lists, please try to write by yourself the code for the following tasks.\n",
        "\n",
        "If you don't figure out how to do it, or you just want to check if you got the right solution, just click the arrow next to \"Display Solution\" and click on \"Run button\" to execute the code"
      ],
      "metadata": {
        "id": "OxpelYw0350M"
      }
    },
    {
      "cell_type": "code",
      "source": [
        "# Create a list called 'my_list' with elements 'John', 'Emma', 10, 5, 3, 'Daniel', 'Tom', 34, 30 and print it out\n",
        "\n",
        "# you code here ...."
      ],
      "metadata": {
        "id": "TpOMoqlb7eZG"
      },
      "execution_count": 65,
      "outputs": []
    },
    {
      "cell_type": "code",
      "source": [
        "#@title Display the solution 1\n",
        "\n",
        "my_list= ['John', 'Emma', 10, 5, 3, 'Daniel', 'Tom', 34, 30]\n",
        "print(my_list)\n"
      ],
      "metadata": {
        "cellView": "form",
        "id": "f2kwHEt27X8Z",
        "outputId": "c253e116-42a2-4d9b-91d6-551c5b6e9b7a",
        "colab": {
          "base_uri": "https://localhost:8080/"
        }
      },
      "execution_count": 66,
      "outputs": [
        {
          "output_type": "stream",
          "name": "stdout",
          "text": [
            "['John', 'Emma', 10, 5, 3, 'Daniel', 'Tom', 34, 30]\n"
          ]
        }
      ]
    },
    {
      "cell_type": "code",
      "source": [
        "# Write a code to check how many element my_list have (the lengh of my_list)\n",
        "\n",
        "# your code here ...."
      ],
      "metadata": {
        "id": "ccflDIoX8Q9Y"
      },
      "execution_count": 67,
      "outputs": []
    },
    {
      "cell_type": "code",
      "source": [
        "#@title Display the solution 2\n",
        "\n",
        "# how many elements my_list has ?\n",
        "\n",
        "len(my_list)"
      ],
      "metadata": {
        "cellView": "form",
        "id": "ESR6Bgti0sTE",
        "outputId": "1bc96db3-a87c-4b2e-96d8-e3745d52e572",
        "colab": {
          "base_uri": "https://localhost:8080/"
        }
      },
      "execution_count": 68,
      "outputs": [
        {
          "output_type": "execute_result",
          "data": {
            "text/plain": [
              "9"
            ]
          },
          "metadata": {},
          "execution_count": 68
        }
      ]
    },
    {
      "cell_type": "code",
      "source": [
        "# append 'Bill' to the list and check now its length\n",
        "\n",
        "# your code here..."
      ],
      "metadata": {
        "id": "AWMnUF-o0wq9"
      },
      "execution_count": 69,
      "outputs": []
    },
    {
      "cell_type": "code",
      "source": [
        "#@title Display the solution 3\n",
        "\n",
        "# append 'Bill' to the list and check now its length\n",
        "\n",
        "my_list.append('Bill')\n",
        "print('Now the modified my_list is: ', my_list)\n",
        "print('The length of the modified list is: ', len(my_list))"
      ],
      "metadata": {
        "id": "eolhEZfE8tDZ",
        "cellView": "form",
        "outputId": "f11b2dae-90d2-4bc3-da95-29706c692b1b",
        "colab": {
          "base_uri": "https://localhost:8080/"
        }
      },
      "execution_count": 70,
      "outputs": [
        {
          "output_type": "stream",
          "name": "stdout",
          "text": [
            "Now the modified my_list is:  ['John', 'Emma', 10, 5, 3, 'Daniel', 'Tom', 34, 30, 'Bill']\n",
            "The length of the modified list is:  10\n"
          ]
        }
      ]
    },
    {
      "cell_type": "code",
      "source": [
        "# return the element 'John' from my_list\n",
        "\n",
        "# your code here"
      ],
      "metadata": {
        "id": "wCCL9VRG8tIQ"
      },
      "execution_count": 71,
      "outputs": []
    },
    {
      "cell_type": "code",
      "source": [
        "#@title Display the solution 4\n",
        "\n",
        "# return 'John'\n",
        "my_list[0]"
      ],
      "metadata": {
        "id": "Pu6H_5kH0zL9",
        "cellView": "form",
        "outputId": "1ffa7068-bbdd-47e1-8db7-d7fae6d3817e",
        "colab": {
          "base_uri": "https://localhost:8080/",
          "height": 35
        }
      },
      "execution_count": 72,
      "outputs": [
        {
          "output_type": "execute_result",
          "data": {
            "text/plain": [
              "'John'"
            ],
            "application/vnd.google.colaboratory.intrinsic+json": {
              "type": "string"
            }
          },
          "metadata": {},
          "execution_count": 72
        }
      ]
    },
    {
      "cell_type": "code",
      "source": [
        "# return 'Bill'\n",
        "\n",
        "# your code here ..."
      ],
      "metadata": {
        "id": "Cp_ZWUNZ01ka"
      },
      "execution_count": 73,
      "outputs": []
    },
    {
      "cell_type": "code",
      "source": [
        "#@title Display the solution 5\n",
        "\n",
        "# return 'Bill'\n",
        "my_list[-1]"
      ],
      "metadata": {
        "cellView": "form",
        "id": "-qikJLpT_wGK",
        "outputId": "8451c393-0a54-4869-d277-c4fc0d5e0eab",
        "colab": {
          "base_uri": "https://localhost:8080/",
          "height": 35
        }
      },
      "execution_count": 74,
      "outputs": [
        {
          "output_type": "execute_result",
          "data": {
            "text/plain": [
              "'Bill'"
            ],
            "application/vnd.google.colaboratory.intrinsic+json": {
              "type": "string"
            }
          },
          "metadata": {},
          "execution_count": 74
        }
      ]
    },
    {
      "cell_type": "code",
      "source": [
        "# return element 34 from my_list\n",
        "\n",
        "# your code here ..."
      ],
      "metadata": {
        "id": "p_r4X73j03g4"
      },
      "execution_count": 75,
      "outputs": []
    },
    {
      "cell_type": "code",
      "source": [
        "#@title Display the solution 6\n",
        "\n",
        "# return 34\n",
        "my_list[-3]"
      ],
      "metadata": {
        "cellView": "form",
        "id": "rJk9aBWm_5Kd",
        "outputId": "7cfcd514-ee5f-4e78-9202-7b126696ff29",
        "colab": {
          "base_uri": "https://localhost:8080/"
        }
      },
      "execution_count": 76,
      "outputs": [
        {
          "output_type": "execute_result",
          "data": {
            "text/plain": [
              "34"
            ]
          },
          "metadata": {},
          "execution_count": 76
        }
      ]
    },
    {
      "cell_type": "code",
      "source": [
        "# return John and Emma\n",
        "\n",
        "# your code here ..."
      ],
      "metadata": {
        "id": "bRzniT7f06Dg"
      },
      "execution_count": 77,
      "outputs": []
    },
    {
      "cell_type": "code",
      "source": [
        "#@title Display the solution 7\n",
        "\n",
        "# return John and Emma\n",
        "my_list[:2]\n"
      ],
      "metadata": {
        "cellView": "form",
        "id": "6_sszPvX_7ew",
        "outputId": "54b3ac00-de42-47df-f3ae-a6982c5004e6",
        "colab": {
          "base_uri": "https://localhost:8080/"
        }
      },
      "execution_count": 78,
      "outputs": [
        {
          "output_type": "execute_result",
          "data": {
            "text/plain": [
              "['John', 'Emma']"
            ]
          },
          "metadata": {},
          "execution_count": 78
        }
      ]
    },
    {
      "cell_type": "code",
      "source": [
        "# return Emma, 10, 5\n",
        "\n",
        "# your code here ..."
      ],
      "metadata": {
        "id": "oVecGaro1AQA"
      },
      "execution_count": 79,
      "outputs": []
    },
    {
      "cell_type": "code",
      "source": [
        "#@title Display the solution 8\n",
        "\n",
        "# return Emma, 10, 5\n",
        "my_list[1:4]"
      ],
      "metadata": {
        "cellView": "form",
        "id": "1aiLIcAO_88I",
        "outputId": "682b08e4-6e64-4084-91a2-b3b4f1f2a728",
        "colab": {
          "base_uri": "https://localhost:8080/"
        }
      },
      "execution_count": 80,
      "outputs": [
        {
          "output_type": "execute_result",
          "data": {
            "text/plain": [
              "['Emma', 10, 5]"
            ]
          },
          "metadata": {},
          "execution_count": 80
        }
      ]
    },
    {
      "cell_type": "code",
      "source": [
        "# return Tom, 34, 30, Bill\n",
        "\n",
        "# your code here ..."
      ],
      "metadata": {
        "id": "XkfCFLNc1A2W"
      },
      "execution_count": 81,
      "outputs": []
    },
    {
      "cell_type": "code",
      "source": [
        "#@title Display the solution 9\n",
        "\n",
        "# return Tom, 34, 30, Bill\n",
        "\n",
        "print(my_list[-4:])\n",
        "\n",
        "#  OR\n",
        "\n",
        "my_list[6:]"
      ],
      "metadata": {
        "cellView": "form",
        "id": "Wv7dlrbT_-RM",
        "outputId": "ac9d2826-56d5-4e1f-f858-43e9555c978b",
        "colab": {
          "base_uri": "https://localhost:8080/"
        }
      },
      "execution_count": 82,
      "outputs": [
        {
          "output_type": "stream",
          "name": "stdout",
          "text": [
            "['Tom', 34, 30, 'Bill']\n"
          ]
        },
        {
          "output_type": "execute_result",
          "data": {
            "text/plain": [
              "['Tom', 34, 30, 'Bill']"
            ]
          },
          "metadata": {},
          "execution_count": 82
        }
      ]
    },
    {
      "cell_type": "code",
      "source": [
        "# insert an element 'Julia' in the list at 2nd position\n",
        "\n",
        "# your code here ..."
      ],
      "metadata": {
        "id": "yYdO-ouJ1DXh"
      },
      "execution_count": 83,
      "outputs": []
    },
    {
      "cell_type": "code",
      "source": [
        "#@title Display the solution 10\n",
        "\n",
        "# insert an element 'Julia' in the list at 2nd position (*** or 1st position in Python logic ***)\n",
        "\n",
        "my_list.insert(1, \"Julia\") # instert before 1st element\n",
        "print(my_list)"
      ],
      "metadata": {
        "cellView": "form",
        "id": "KgJMrnT6AAJw",
        "outputId": "78549650-2082-4df3-dcd8-72afed7ae831",
        "colab": {
          "base_uri": "https://localhost:8080/"
        }
      },
      "execution_count": 84,
      "outputs": [
        {
          "output_type": "stream",
          "name": "stdout",
          "text": [
            "['John', 'Julia', 'Emma', 10, 5, 3, 'Daniel', 'Tom', 34, 30, 'Bill']\n"
          ]
        }
      ]
    },
    {
      "cell_type": "code",
      "source": [
        "# insert an element 'Anna\" in the list before 30\n",
        "\n",
        "# your code here ..."
      ],
      "metadata": {
        "id": "kl0wyky61GL1"
      },
      "execution_count": 85,
      "outputs": []
    },
    {
      "cell_type": "code",
      "source": [
        "#@title Display the solution 11\n",
        "\n",
        "# insert an element 'Anna\" in the list before 30\n",
        "\n",
        "my_list.insert(-2,\"Anna\") # instert before last element\n",
        "print(my_list)"
      ],
      "metadata": {
        "cellView": "form",
        "id": "sNOfr1AMABhX",
        "outputId": "2083abda-caef-4e82-8f2d-677f065cbb61",
        "colab": {
          "base_uri": "https://localhost:8080/"
        }
      },
      "execution_count": 86,
      "outputs": [
        {
          "output_type": "stream",
          "name": "stdout",
          "text": [
            "['John', 'Julia', 'Emma', 10, 5, 3, 'Daniel', 'Tom', 34, 'Anna', 30, 'Bill']\n"
          ]
        }
      ]
    },
    {
      "cell_type": "code",
      "source": [
        "# remove element 'Emma' \n",
        "#  ==> 2 ways to remove it: \n",
        "# with .remove method (if you want tu use the value of the element) \n",
        "# or .pop method (using the index of the eelement)\n",
        "\n",
        "# your code here ...\n"
      ],
      "metadata": {
        "id": "JYUIiYBP1IYu"
      },
      "execution_count": 87,
      "outputs": []
    },
    {
      "cell_type": "code",
      "source": [
        "#@title Display the solution 12\n",
        "\n",
        "# remove element 'Emma'\n",
        "my_list.remove(\"Emma\")\n",
        "print(my_list)\n",
        "\n",
        "## OR \n",
        "my_list.insert(2,\"Emma\")\n",
        "my_list.pop(2)\n",
        "print(my_list)"
      ],
      "metadata": {
        "cellView": "form",
        "id": "cLCiGth-AC8m",
        "outputId": "31c252bb-17c5-4f96-f486-e9ddeee04a41",
        "colab": {
          "base_uri": "https://localhost:8080/"
        }
      },
      "execution_count": 88,
      "outputs": [
        {
          "output_type": "stream",
          "name": "stdout",
          "text": [
            "['John', 'Julia', 10, 5, 3, 'Daniel', 'Tom', 34, 'Anna', 30, 'Bill']\n",
            "['John', 'Julia', 10, 5, 3, 'Daniel', 'Tom', 34, 'Anna', 30, 'Bill']\n"
          ]
        }
      ]
    },
    {
      "cell_type": "code",
      "source": [
        "# append a new list [Sarah, 42, Jerry] ==> to obtain a nested list\n",
        "\n",
        "# your code here ..."
      ],
      "metadata": {
        "id": "MhMG8MjS1Phm"
      },
      "execution_count": 89,
      "outputs": []
    },
    {
      "cell_type": "code",
      "source": [
        "#@title Display the solution 13\n",
        "\n",
        "my_list.append(['Sarah', 42, 'Jerry'])\n",
        "print(my_list)"
      ],
      "metadata": {
        "cellView": "form",
        "id": "S_pYT0Z4AEZw",
        "outputId": "bb8b05d0-afea-407c-c529-09c2741fd1dc",
        "colab": {
          "base_uri": "https://localhost:8080/"
        }
      },
      "execution_count": 90,
      "outputs": [
        {
          "output_type": "stream",
          "name": "stdout",
          "text": [
            "['John', 'Julia', 10, 5, 3, 'Daniel', 'Tom', 34, 'Anna', 30, 'Bill', ['Sarah', 42, 'Jerry']]\n"
          ]
        }
      ]
    },
    {
      "cell_type": "code",
      "source": [
        "# return 'Sarah' (*** keep in mind that you have a nested list ***)\n",
        "\n",
        "# your code here ..."
      ],
      "metadata": {
        "id": "5ZSjSfnO1Lap"
      },
      "execution_count": 91,
      "outputs": []
    },
    {
      "cell_type": "code",
      "source": [
        "#@title Display the solution 14\n",
        "\n",
        "# return 'Sarah'\n",
        "my_list[-1][0]"
      ],
      "metadata": {
        "id": "iwLCEY4jAFjI",
        "outputId": "c92b08ee-4164-4559-ad5c-b5996e2fe7a4",
        "colab": {
          "base_uri": "https://localhost:8080/",
          "height": 35
        }
      },
      "execution_count": 92,
      "outputs": [
        {
          "output_type": "execute_result",
          "data": {
            "text/plain": [
              "'Sarah'"
            ],
            "application/vnd.google.colaboratory.intrinsic+json": {
              "type": "string"
            }
          },
          "metadata": {},
          "execution_count": 92
        }
      ]
    },
    {
      "cell_type": "markdown",
      "metadata": {
        "id": "ZCMxntYXMDiH"
      },
      "source": [
        "# 7.&nbsp;Strings"
      ]
    },
    {
      "cell_type": "code",
      "execution_count": 93,
      "metadata": {
        "id": "Yq-DuAVSLw8K",
        "outputId": "ac7019ac-a779-493d-c3a2-876c038f5e99",
        "colab": {
          "base_uri": "https://localhost:8080/",
          "height": 35
        }
      },
      "outputs": [
        {
          "output_type": "execute_result",
          "data": {
            "text/plain": [
              "'text'"
            ],
            "application/vnd.google.colaboratory.intrinsic+json": {
              "type": "string"
            }
          },
          "metadata": {},
          "execution_count": 93
        }
      ],
      "source": [
        "string_a = 'text'\n",
        "string_a"
      ]
    },
    {
      "cell_type": "code",
      "execution_count": 94,
      "metadata": {
        "id": "xyCf0t6TMKuG",
        "outputId": "f1456a53-9849-486d-9508-467191e50a5c",
        "colab": {
          "base_uri": "https://localhost:8080/",
          "height": 35
        }
      },
      "outputs": [
        {
          "output_type": "execute_result",
          "data": {
            "text/plain": [
              "'This is a '"
            ],
            "application/vnd.google.colaboratory.intrinsic+json": {
              "type": "string"
            }
          },
          "metadata": {},
          "execution_count": 94
        }
      ],
      "source": [
        "string_b = 'This is a '\n",
        "string_b"
      ]
    },
    {
      "cell_type": "code",
      "execution_count": 95,
      "metadata": {
        "id": "LA_YJDp1MRhu",
        "outputId": "367f659c-e42f-4a43-c5f3-c8c9ba3d2dcf",
        "colab": {
          "base_uri": "https://localhost:8080/",
          "height": 35
        }
      },
      "outputs": [
        {
          "output_type": "execute_result",
          "data": {
            "text/plain": [
              "'This is a text'"
            ],
            "application/vnd.google.colaboratory.intrinsic+json": {
              "type": "string"
            }
          },
          "metadata": {},
          "execution_count": 95
        }
      ],
      "source": [
        "string_b + string_a"
      ]
    },
    {
      "cell_type": "code",
      "execution_count": 96,
      "metadata": {
        "id": "OIRgk1h8MTuU",
        "outputId": "df563779-62d5-4cd3-e640-e5023b6a47ed",
        "colab": {
          "base_uri": "https://localhost:8080/",
          "height": 35
        }
      },
      "outputs": [
        {
          "output_type": "execute_result",
          "data": {
            "text/plain": [
              "'This is a text'"
            ],
            "application/vnd.google.colaboratory.intrinsic+json": {
              "type": "string"
            }
          },
          "metadata": {},
          "execution_count": 96
        }
      ],
      "source": [
        "string_c = string_b + string_a\n",
        "string_c"
      ]
    },
    {
      "cell_type": "code",
      "source": [
        "string_c.lower()"
      ],
      "metadata": {
        "id": "D1iQ5vBOe25p",
        "outputId": "d24d52f4-87e2-4535-e13f-8c7637ec29dc",
        "colab": {
          "base_uri": "https://localhost:8080/",
          "height": 35
        }
      },
      "execution_count": 97,
      "outputs": [
        {
          "output_type": "execute_result",
          "data": {
            "text/plain": [
              "'this is a text'"
            ],
            "application/vnd.google.colaboratory.intrinsic+json": {
              "type": "string"
            }
          },
          "metadata": {},
          "execution_count": 97
        }
      ]
    },
    {
      "cell_type": "code",
      "execution_count": 98,
      "metadata": {
        "id": "GHaA3MWoMjZ2",
        "outputId": "07a47b7c-6c1e-4e4a-f885-86ac7f45ee17",
        "colab": {
          "base_uri": "https://localhost:8080/",
          "height": 35
        }
      },
      "outputs": [
        {
          "output_type": "execute_result",
          "data": {
            "text/plain": [
              "'THIS IS A TEXT'"
            ],
            "application/vnd.google.colaboratory.intrinsic+json": {
              "type": "string"
            }
          },
          "metadata": {},
          "execution_count": 98
        }
      ],
      "source": [
        "string_c.upper()"
      ]
    },
    {
      "cell_type": "code",
      "execution_count": 99,
      "metadata": {
        "id": "dnmLHQCLMr1j",
        "outputId": "578d825f-7fd6-4332-acd2-b9d20008effc",
        "colab": {
          "base_uri": "https://localhost:8080/",
          "height": 35
        }
      },
      "outputs": [
        {
          "output_type": "execute_result",
          "data": {
            "text/plain": [
              "'T'"
            ],
            "application/vnd.google.colaboratory.intrinsic+json": {
              "type": "string"
            }
          },
          "metadata": {},
          "execution_count": 99
        }
      ],
      "source": [
        "# access a string\n",
        "string_c[0]"
      ]
    },
    {
      "cell_type": "code",
      "execution_count": 100,
      "metadata": {
        "id": "WnNXuxDCMveW",
        "outputId": "d2029d8f-d448-492b-ed2a-aff9e32c9aa6",
        "colab": {
          "base_uri": "https://localhost:8080/"
        }
      },
      "outputs": [
        {
          "output_type": "execute_result",
          "data": {
            "text/plain": [
              "14"
            ]
          },
          "metadata": {},
          "execution_count": 100
        }
      ],
      "source": [
        "# length (the space is counted a 1)\n",
        "len(string_c)"
      ]
    },
    {
      "cell_type": "code",
      "execution_count": 101,
      "metadata": {
        "id": "-OZKGMHVM0S-",
        "outputId": "e55c6b42-67ca-4ea9-ab2c-7776261f4e5a",
        "colab": {
          "base_uri": "https://localhost:8080/"
        }
      },
      "outputs": [
        {
          "output_type": "stream",
          "name": "stdout",
          "text": [
            "Derrick.Matt@gmail.com\n"
          ]
        }
      ],
      "source": [
        "# splitting strings\n",
        "string_d = \"Derrick.Matt@gmail.com\"\n",
        "print(string_d)"
      ]
    },
    {
      "cell_type": "code",
      "source": [
        "# Split a string into a list where each word is a list item, use split() function\n",
        "# split by hyphen\n",
        "\n",
        "print(string_d.split(\"@\"))"
      ],
      "metadata": {
        "id": "zVhs3mBvfWBf",
        "outputId": "e928fbe5-df85-4fde-eb13-5a7fc7bb0867",
        "colab": {
          "base_uri": "https://localhost:8080/"
        }
      },
      "execution_count": 102,
      "outputs": [
        {
          "output_type": "stream",
          "name": "stdout",
          "text": [
            "['Derrick.Matt', 'gmail.com']\n"
          ]
        }
      ]
    },
    {
      "cell_type": "markdown",
      "source": [
        "More about splitting strings https://www.w3schools.com/python/ref_string_split.asp\n",
        "\n",
        "More about strings manipulations https://www.w3schools.com/python/python_ref_string.asp\n",
        "\n",
        "https://www.programiz.com/python-programming/string"
      ],
      "metadata": {
        "id": "oWCzQow4fu29"
      }
    },
    {
      "cell_type": "markdown",
      "metadata": {
        "id": "-Z4YCvbvNRp6"
      },
      "source": [
        "# 8.&nbsp;Tuples"
      ]
    },
    {
      "cell_type": "markdown",
      "metadata": {
        "id": "X_zcTMzYNu9R"
      },
      "source": [
        "A tuple is a collection which is ordered and unchangeable (imuatable)\n",
        "."
      ]
    },
    {
      "cell_type": "code",
      "execution_count": 103,
      "metadata": {
        "id": "6S7ixeisOEv3"
      },
      "outputs": [],
      "source": [
        "tuple_a = ('Dog', 'Cat', 'Frog')"
      ]
    },
    {
      "cell_type": "code",
      "execution_count": 104,
      "metadata": {
        "id": "-cGHSxSYPlT2",
        "outputId": "57bfeb93-edd9-4df2-da0c-9bea33e17896",
        "colab": {
          "base_uri": "https://localhost:8080/",
          "height": 183
        }
      },
      "outputs": [
        {
          "output_type": "error",
          "ename": "AttributeError",
          "evalue": "ignored",
          "traceback": [
            "\u001b[0;31m---------------------------------------------------------------------------\u001b[0m",
            "\u001b[0;31mAttributeError\u001b[0m                            Traceback (most recent call last)",
            "\u001b[0;32m<ipython-input-104-460ad28a2d96>\u001b[0m in \u001b[0;36m<module>\u001b[0;34m\u001b[0m\n\u001b[1;32m      1\u001b[0m \u001b[0;31m# inmutable\u001b[0m\u001b[0;34m\u001b[0m\u001b[0;34m\u001b[0m\u001b[0;34m\u001b[0m\u001b[0m\n\u001b[0;32m----> 2\u001b[0;31m \u001b[0mtuple_a\u001b[0m\u001b[0;34m.\u001b[0m\u001b[0mappend\u001b[0m\u001b[0;34m(\u001b[0m\u001b[0;34m'Mouse'\u001b[0m\u001b[0;34m)\u001b[0m\u001b[0;34m\u001b[0m\u001b[0;34m\u001b[0m\u001b[0m\n\u001b[0m",
            "\u001b[0;31mAttributeError\u001b[0m: 'tuple' object has no attribute 'append'"
          ]
        }
      ],
      "source": [
        "# inmutable\n",
        "tuple_a.append('Mouse')"
      ]
    },
    {
      "cell_type": "code",
      "execution_count": null,
      "metadata": {
        "id": "H4i9_vbfPx3y"
      },
      "outputs": [],
      "source": [
        "# ordered\n",
        "\n",
        "tuple_a[0]"
      ]
    },
    {
      "cell_type": "markdown",
      "source": [
        "More about Tuples https://www.w3schools.com/python/python_tuples.asp"
      ],
      "metadata": {
        "id": "KeNK13iEhNgZ"
      }
    },
    {
      "cell_type": "markdown",
      "metadata": {
        "id": "VkCZO2ptNTTG"
      },
      "source": [
        "# 9.&nbsp;Dictionaries\n"
      ]
    },
    {
      "cell_type": "markdown",
      "source": [
        "Dictionaries are used to store data values in key:value pairs.\n",
        "\n",
        "A dictionary is a collection which is ordered*, changeable and do not allow duplicates."
      ],
      "metadata": {
        "id": "moJTUTDDicq0"
      }
    },
    {
      "cell_type": "code",
      "execution_count": null,
      "metadata": {
        "id": "l_3rD9hUQNxF"
      },
      "outputs": [],
      "source": [
        "# a dictionary is made of keys and values\n",
        "# dictionary have curly brackets\n",
        "\n",
        "dictionary = {\"key_1\":\"value_0\",\n",
        "               \"key_2\":\"value_2\",\n",
        "               \"key_3\":\"value_3\"}\n",
        "\n",
        "dictionary"
      ]
    },
    {
      "cell_type": "code",
      "execution_count": null,
      "metadata": {
        "id": "ixlvde_9NEkX"
      },
      "outputs": [],
      "source": [
        "# create a dictionary called 'our_dictionnary'\n",
        "\n",
        "our_dictionary = {\"name\":\"Derrick\",\n",
        "                  \"height\":\"6'0\",\n",
        "                  \"location\":\"Lost\"}\n",
        "                  \n",
        "# here \"name\" is the key and 'Derrick' is the value\n",
        "our_dictionary"
      ]
    },
    {
      "cell_type": "code",
      "execution_count": null,
      "metadata": {
        "id": "DXd9Sn8sQ86w"
      },
      "outputs": [],
      "source": [
        "# access dictionary by key\n",
        "\n",
        "print(dictionary[\"key_1\"])"
      ]
    },
    {
      "cell_type": "code",
      "execution_count": null,
      "metadata": {
        "id": "pevivAIGRD2F"
      },
      "outputs": [],
      "source": [
        "# change a value by key\n",
        "\n",
        "dictionary[\"key_1\"] = \"value_1\"\n",
        "print(dictionary)\n"
      ]
    },
    {
      "cell_type": "code",
      "execution_count": null,
      "metadata": {
        "id": "ly62zAkdRVsE"
      },
      "outputs": [],
      "source": [
        "# add an element to dictionary\n",
        "\n",
        "dictionary[\"eye color\"] = \"blue\"\n",
        "print(dictionary)"
      ]
    },
    {
      "cell_type": "code",
      "execution_count": null,
      "metadata": {
        "id": "MSSZPPFTRcA6"
      },
      "outputs": [],
      "source": [
        "# remove element\n",
        "dictionary.pop(\"eye color\")\n",
        "print(dictionary)\n"
      ]
    },
    {
      "cell_type": "markdown",
      "source": [
        "## Dictionary Practice ***"
      ],
      "metadata": {
        "id": "O0a13QpTjWcr"
      }
    },
    {
      "cell_type": "code",
      "source": [
        "# create a dictionary \"my_dictionary\"\n",
        "# 1st key: 'names'\n",
        "# values of 1st key: ['Anna', 'John', 'Matt']\n",
        "# 2nd key: 'age'\n",
        "# values of 2nd key: [23, 42, 12]\n",
        "\n",
        "# your code here ...."
      ],
      "metadata": {
        "id": "cCbfZyfAjY76"
      },
      "execution_count": null,
      "outputs": []
    },
    {
      "cell_type": "code",
      "source": [
        "#@title Display the solution 1\n",
        "\n",
        "my_dictionary = {'names': ['Anna', 'John', 'Matt'],\n",
        "                 'age': [23, 42, 12]   \n",
        "                }\n",
        "print(my_dictionary)"
      ],
      "metadata": {
        "cellView": "form",
        "id": "oQEo8yWbHcqk"
      },
      "execution_count": null,
      "outputs": []
    },
    {
      "cell_type": "code",
      "source": [
        "# add a new element with their gender: key='gender', values: ['F', 'M', 'M']\n",
        "\n",
        "# your code here ...\n"
      ],
      "metadata": {
        "id": "mpikw-IqHxdL"
      },
      "execution_count": null,
      "outputs": []
    },
    {
      "cell_type": "code",
      "source": [
        "#@title Display the solution 2\n",
        "\n",
        "# add a new element with their gender: key='gender', values: ['F', 'M', 'M']\n",
        "my_dictionary['gender']= ['F', 'M', 'M']\n",
        "print(my_dictionary)"
      ],
      "metadata": {
        "cellView": "form",
        "id": "K5evWdkQH2Mo"
      },
      "execution_count": null,
      "outputs": []
    },
    {
      "cell_type": "code",
      "source": [
        "# remove key age\n",
        "\n",
        "# your code here"
      ],
      "metadata": {
        "id": "IIapMz2UHy6M"
      },
      "execution_count": null,
      "outputs": []
    },
    {
      "cell_type": "code",
      "source": [
        "#@title Display the solution 3\n",
        "\n",
        "# remove key age\n",
        "my_dictionary.pop(\"age\")\n",
        "print(my_dictionary)"
      ],
      "metadata": {
        "cellView": "form",
        "id": "ZACWoPZJH_W6"
      },
      "execution_count": null,
      "outputs": []
    },
    {
      "cell_type": "markdown",
      "metadata": {
        "id": "SvqYQEAVRr5q"
      },
      "source": [
        "# 10.&nbsp;DataFrame"
      ]
    },
    {
      "cell_type": "markdown",
      "source": [
        "The dataframe is like a table with 2 dimensions, where you have columns and rows"
      ],
      "metadata": {
        "id": "Do7mXNyhlYmN"
      }
    },
    {
      "cell_type": "code",
      "execution_count": 105,
      "metadata": {
        "id": "20L4u09nRlXK",
        "outputId": "7c7a1a6a-4195-4f94-a83c-4b1cffacca57",
        "colab": {
          "base_uri": "https://localhost:8080/"
        }
      },
      "outputs": [
        {
          "output_type": "execute_result",
          "data": {
            "text/plain": [
              "{'name': ['Jess', 'Nick', 'Winston', 'Tom', 'Alex'],\n",
              " 'age': ['30', '35', '40', '27', '52'],\n",
              " 'city': ['Paris', 'Berlin', 'Madrid', 'Paris', 'London'],\n",
              " 'country': ['France', 'Germany', 'Spain', 'France', 'UK']}"
            ]
          },
          "metadata": {},
          "execution_count": 105
        }
      ],
      "source": [
        "dataframe = {\"name\":['Jess', 'Nick', 'Winston', 'Tom', 'Alex'],\n",
        "              \"age\":['30', '35', '40', '27', '52'],\n",
        "              \"city\":['Paris', 'Berlin', 'Madrid', 'Paris', 'London'],\n",
        "             \"country\": ['France', 'Germany', 'Spain', 'France', 'UK']}\n",
        "\n",
        "dataframe"
      ]
    },
    {
      "cell_type": "code",
      "source": [
        "# import pandas package\n",
        "\n",
        "import pandas as pd"
      ],
      "metadata": {
        "id": "DA2iU__p_Dsg"
      },
      "execution_count": 106,
      "outputs": []
    },
    {
      "cell_type": "markdown",
      "source": [
        "More about pandas package https://pandas.pydata.org/"
      ],
      "metadata": {
        "id": "CsIMpaaj_LiP"
      }
    },
    {
      "cell_type": "code",
      "execution_count": 107,
      "metadata": {
        "id": "zsvwKaUsSKaI",
        "outputId": "8bda74b7-5285-43b3-d6e1-98e857f3375f",
        "colab": {
          "base_uri": "https://localhost:8080/",
          "height": 206
        }
      },
      "outputs": [
        {
          "output_type": "execute_result",
          "data": {
            "text/plain": [
              "      name age    city  country\n",
              "0     Jess  30   Paris   France\n",
              "1     Nick  35  Berlin  Germany\n",
              "2  Winston  40  Madrid    Spain\n",
              "3      Tom  27   Paris   France\n",
              "4     Alex  52  London       UK"
            ],
            "text/html": [
              "\n",
              "  <div id=\"df-328b47f4-c52f-48be-8842-1dca8159d3d4\">\n",
              "    <div class=\"colab-df-container\">\n",
              "      <div>\n",
              "<style scoped>\n",
              "    .dataframe tbody tr th:only-of-type {\n",
              "        vertical-align: middle;\n",
              "    }\n",
              "\n",
              "    .dataframe tbody tr th {\n",
              "        vertical-align: top;\n",
              "    }\n",
              "\n",
              "    .dataframe thead th {\n",
              "        text-align: right;\n",
              "    }\n",
              "</style>\n",
              "<table border=\"1\" class=\"dataframe\">\n",
              "  <thead>\n",
              "    <tr style=\"text-align: right;\">\n",
              "      <th></th>\n",
              "      <th>name</th>\n",
              "      <th>age</th>\n",
              "      <th>city</th>\n",
              "      <th>country</th>\n",
              "    </tr>\n",
              "  </thead>\n",
              "  <tbody>\n",
              "    <tr>\n",
              "      <th>0</th>\n",
              "      <td>Jess</td>\n",
              "      <td>30</td>\n",
              "      <td>Paris</td>\n",
              "      <td>France</td>\n",
              "    </tr>\n",
              "    <tr>\n",
              "      <th>1</th>\n",
              "      <td>Nick</td>\n",
              "      <td>35</td>\n",
              "      <td>Berlin</td>\n",
              "      <td>Germany</td>\n",
              "    </tr>\n",
              "    <tr>\n",
              "      <th>2</th>\n",
              "      <td>Winston</td>\n",
              "      <td>40</td>\n",
              "      <td>Madrid</td>\n",
              "      <td>Spain</td>\n",
              "    </tr>\n",
              "    <tr>\n",
              "      <th>3</th>\n",
              "      <td>Tom</td>\n",
              "      <td>27</td>\n",
              "      <td>Paris</td>\n",
              "      <td>France</td>\n",
              "    </tr>\n",
              "    <tr>\n",
              "      <th>4</th>\n",
              "      <td>Alex</td>\n",
              "      <td>52</td>\n",
              "      <td>London</td>\n",
              "      <td>UK</td>\n",
              "    </tr>\n",
              "  </tbody>\n",
              "</table>\n",
              "</div>\n",
              "      <button class=\"colab-df-convert\" onclick=\"convertToInteractive('df-328b47f4-c52f-48be-8842-1dca8159d3d4')\"\n",
              "              title=\"Convert this dataframe to an interactive table.\"\n",
              "              style=\"display:none;\">\n",
              "        \n",
              "  <svg xmlns=\"http://www.w3.org/2000/svg\" height=\"24px\"viewBox=\"0 0 24 24\"\n",
              "       width=\"24px\">\n",
              "    <path d=\"M0 0h24v24H0V0z\" fill=\"none\"/>\n",
              "    <path d=\"M18.56 5.44l.94 2.06.94-2.06 2.06-.94-2.06-.94-.94-2.06-.94 2.06-2.06.94zm-11 1L8.5 8.5l.94-2.06 2.06-.94-2.06-.94L8.5 2.5l-.94 2.06-2.06.94zm10 10l.94 2.06.94-2.06 2.06-.94-2.06-.94-.94-2.06-.94 2.06-2.06.94z\"/><path d=\"M17.41 7.96l-1.37-1.37c-.4-.4-.92-.59-1.43-.59-.52 0-1.04.2-1.43.59L10.3 9.45l-7.72 7.72c-.78.78-.78 2.05 0 2.83L4 21.41c.39.39.9.59 1.41.59.51 0 1.02-.2 1.41-.59l7.78-7.78 2.81-2.81c.8-.78.8-2.07 0-2.86zM5.41 20L4 18.59l7.72-7.72 1.47 1.35L5.41 20z\"/>\n",
              "  </svg>\n",
              "      </button>\n",
              "      \n",
              "  <style>\n",
              "    .colab-df-container {\n",
              "      display:flex;\n",
              "      flex-wrap:wrap;\n",
              "      gap: 12px;\n",
              "    }\n",
              "\n",
              "    .colab-df-convert {\n",
              "      background-color: #E8F0FE;\n",
              "      border: none;\n",
              "      border-radius: 50%;\n",
              "      cursor: pointer;\n",
              "      display: none;\n",
              "      fill: #1967D2;\n",
              "      height: 32px;\n",
              "      padding: 0 0 0 0;\n",
              "      width: 32px;\n",
              "    }\n",
              "\n",
              "    .colab-df-convert:hover {\n",
              "      background-color: #E2EBFA;\n",
              "      box-shadow: 0px 1px 2px rgba(60, 64, 67, 0.3), 0px 1px 3px 1px rgba(60, 64, 67, 0.15);\n",
              "      fill: #174EA6;\n",
              "    }\n",
              "\n",
              "    [theme=dark] .colab-df-convert {\n",
              "      background-color: #3B4455;\n",
              "      fill: #D2E3FC;\n",
              "    }\n",
              "\n",
              "    [theme=dark] .colab-df-convert:hover {\n",
              "      background-color: #434B5C;\n",
              "      box-shadow: 0px 1px 3px 1px rgba(0, 0, 0, 0.15);\n",
              "      filter: drop-shadow(0px 1px 2px rgba(0, 0, 0, 0.3));\n",
              "      fill: #FFFFFF;\n",
              "    }\n",
              "  </style>\n",
              "\n",
              "      <script>\n",
              "        const buttonEl =\n",
              "          document.querySelector('#df-328b47f4-c52f-48be-8842-1dca8159d3d4 button.colab-df-convert');\n",
              "        buttonEl.style.display =\n",
              "          google.colab.kernel.accessAllowed ? 'block' : 'none';\n",
              "\n",
              "        async function convertToInteractive(key) {\n",
              "          const element = document.querySelector('#df-328b47f4-c52f-48be-8842-1dca8159d3d4');\n",
              "          const dataTable =\n",
              "            await google.colab.kernel.invokeFunction('convertToInteractive',\n",
              "                                                     [key], {});\n",
              "          if (!dataTable) return;\n",
              "\n",
              "          const docLinkHtml = 'Like what you see? Visit the ' +\n",
              "            '<a target=\"_blank\" href=https://colab.research.google.com/notebooks/data_table.ipynb>data table notebook</a>'\n",
              "            + ' to learn more about interactive tables.';\n",
              "          element.innerHTML = '';\n",
              "          dataTable['output_type'] = 'display_data';\n",
              "          await google.colab.output.renderOutput(dataTable, element);\n",
              "          const docLink = document.createElement('div');\n",
              "          docLink.innerHTML = docLinkHtml;\n",
              "          element.appendChild(docLink);\n",
              "        }\n",
              "      </script>\n",
              "    </div>\n",
              "  </div>\n",
              "  "
            ]
          },
          "metadata": {},
          "execution_count": 107
        }
      ],
      "source": [
        "# create a dataframe\n",
        "\n",
        "# load the the dictionary into a dataframe\n",
        "df1 = pd.DataFrame(dataframe)\n",
        "\n",
        "df1"
      ]
    },
    {
      "cell_type": "code",
      "execution_count": 108,
      "metadata": {
        "id": "JKCmX_eaSeeo",
        "outputId": "70f83833-4548-4aab-ceae-202f2f50861c",
        "colab": {
          "base_uri": "https://localhost:8080/",
          "height": 143
        }
      },
      "outputs": [
        {
          "output_type": "execute_result",
          "data": {
            "text/plain": [
              "      name age    city  country\n",
              "0     Jess  30   Paris   France\n",
              "1     Nick  35  Berlin  Germany\n",
              "2  Winston  40  Madrid    Spain"
            ],
            "text/html": [
              "\n",
              "  <div id=\"df-ae479ffc-3f24-429b-9e27-a194509e1da8\">\n",
              "    <div class=\"colab-df-container\">\n",
              "      <div>\n",
              "<style scoped>\n",
              "    .dataframe tbody tr th:only-of-type {\n",
              "        vertical-align: middle;\n",
              "    }\n",
              "\n",
              "    .dataframe tbody tr th {\n",
              "        vertical-align: top;\n",
              "    }\n",
              "\n",
              "    .dataframe thead th {\n",
              "        text-align: right;\n",
              "    }\n",
              "</style>\n",
              "<table border=\"1\" class=\"dataframe\">\n",
              "  <thead>\n",
              "    <tr style=\"text-align: right;\">\n",
              "      <th></th>\n",
              "      <th>name</th>\n",
              "      <th>age</th>\n",
              "      <th>city</th>\n",
              "      <th>country</th>\n",
              "    </tr>\n",
              "  </thead>\n",
              "  <tbody>\n",
              "    <tr>\n",
              "      <th>0</th>\n",
              "      <td>Jess</td>\n",
              "      <td>30</td>\n",
              "      <td>Paris</td>\n",
              "      <td>France</td>\n",
              "    </tr>\n",
              "    <tr>\n",
              "      <th>1</th>\n",
              "      <td>Nick</td>\n",
              "      <td>35</td>\n",
              "      <td>Berlin</td>\n",
              "      <td>Germany</td>\n",
              "    </tr>\n",
              "    <tr>\n",
              "      <th>2</th>\n",
              "      <td>Winston</td>\n",
              "      <td>40</td>\n",
              "      <td>Madrid</td>\n",
              "      <td>Spain</td>\n",
              "    </tr>\n",
              "  </tbody>\n",
              "</table>\n",
              "</div>\n",
              "      <button class=\"colab-df-convert\" onclick=\"convertToInteractive('df-ae479ffc-3f24-429b-9e27-a194509e1da8')\"\n",
              "              title=\"Convert this dataframe to an interactive table.\"\n",
              "              style=\"display:none;\">\n",
              "        \n",
              "  <svg xmlns=\"http://www.w3.org/2000/svg\" height=\"24px\"viewBox=\"0 0 24 24\"\n",
              "       width=\"24px\">\n",
              "    <path d=\"M0 0h24v24H0V0z\" fill=\"none\"/>\n",
              "    <path d=\"M18.56 5.44l.94 2.06.94-2.06 2.06-.94-2.06-.94-.94-2.06-.94 2.06-2.06.94zm-11 1L8.5 8.5l.94-2.06 2.06-.94-2.06-.94L8.5 2.5l-.94 2.06-2.06.94zm10 10l.94 2.06.94-2.06 2.06-.94-2.06-.94-.94-2.06-.94 2.06-2.06.94z\"/><path d=\"M17.41 7.96l-1.37-1.37c-.4-.4-.92-.59-1.43-.59-.52 0-1.04.2-1.43.59L10.3 9.45l-7.72 7.72c-.78.78-.78 2.05 0 2.83L4 21.41c.39.39.9.59 1.41.59.51 0 1.02-.2 1.41-.59l7.78-7.78 2.81-2.81c.8-.78.8-2.07 0-2.86zM5.41 20L4 18.59l7.72-7.72 1.47 1.35L5.41 20z\"/>\n",
              "  </svg>\n",
              "      </button>\n",
              "      \n",
              "  <style>\n",
              "    .colab-df-container {\n",
              "      display:flex;\n",
              "      flex-wrap:wrap;\n",
              "      gap: 12px;\n",
              "    }\n",
              "\n",
              "    .colab-df-convert {\n",
              "      background-color: #E8F0FE;\n",
              "      border: none;\n",
              "      border-radius: 50%;\n",
              "      cursor: pointer;\n",
              "      display: none;\n",
              "      fill: #1967D2;\n",
              "      height: 32px;\n",
              "      padding: 0 0 0 0;\n",
              "      width: 32px;\n",
              "    }\n",
              "\n",
              "    .colab-df-convert:hover {\n",
              "      background-color: #E2EBFA;\n",
              "      box-shadow: 0px 1px 2px rgba(60, 64, 67, 0.3), 0px 1px 3px 1px rgba(60, 64, 67, 0.15);\n",
              "      fill: #174EA6;\n",
              "    }\n",
              "\n",
              "    [theme=dark] .colab-df-convert {\n",
              "      background-color: #3B4455;\n",
              "      fill: #D2E3FC;\n",
              "    }\n",
              "\n",
              "    [theme=dark] .colab-df-convert:hover {\n",
              "      background-color: #434B5C;\n",
              "      box-shadow: 0px 1px 3px 1px rgba(0, 0, 0, 0.15);\n",
              "      filter: drop-shadow(0px 1px 2px rgba(0, 0, 0, 0.3));\n",
              "      fill: #FFFFFF;\n",
              "    }\n",
              "  </style>\n",
              "\n",
              "      <script>\n",
              "        const buttonEl =\n",
              "          document.querySelector('#df-ae479ffc-3f24-429b-9e27-a194509e1da8 button.colab-df-convert');\n",
              "        buttonEl.style.display =\n",
              "          google.colab.kernel.accessAllowed ? 'block' : 'none';\n",
              "\n",
              "        async function convertToInteractive(key) {\n",
              "          const element = document.querySelector('#df-ae479ffc-3f24-429b-9e27-a194509e1da8');\n",
              "          const dataTable =\n",
              "            await google.colab.kernel.invokeFunction('convertToInteractive',\n",
              "                                                     [key], {});\n",
              "          if (!dataTable) return;\n",
              "\n",
              "          const docLinkHtml = 'Like what you see? Visit the ' +\n",
              "            '<a target=\"_blank\" href=https://colab.research.google.com/notebooks/data_table.ipynb>data table notebook</a>'\n",
              "            + ' to learn more about interactive tables.';\n",
              "          element.innerHTML = '';\n",
              "          dataTable['output_type'] = 'display_data';\n",
              "          await google.colab.output.renderOutput(dataTable, element);\n",
              "          const docLink = document.createElement('div');\n",
              "          docLink.innerHTML = docLinkHtml;\n",
              "          element.appendChild(docLink);\n",
              "        }\n",
              "      </script>\n",
              "    </div>\n",
              "  </div>\n",
              "  "
            ]
          },
          "metadata": {},
          "execution_count": 108
        }
      ],
      "source": [
        "# visualize the first 3 rows of df\n",
        "\n",
        "df1.head(3) # please note that the row index start at 0"
      ]
    },
    {
      "cell_type": "code",
      "source": [
        "# visualize the last 3 rows of df\n",
        "\n",
        "df1.tail(3) # please note that the row index start at 0"
      ],
      "metadata": {
        "id": "iQjspbRK5vH3",
        "outputId": "9a4d71e3-ccf6-4c41-ae42-d5a6f1fafa7f",
        "colab": {
          "base_uri": "https://localhost:8080/",
          "height": 143
        }
      },
      "execution_count": 109,
      "outputs": [
        {
          "output_type": "execute_result",
          "data": {
            "text/plain": [
              "      name age    city country\n",
              "2  Winston  40  Madrid   Spain\n",
              "3      Tom  27   Paris  France\n",
              "4     Alex  52  London      UK"
            ],
            "text/html": [
              "\n",
              "  <div id=\"df-ff60103b-6b3d-4a65-994b-587b0221af3b\">\n",
              "    <div class=\"colab-df-container\">\n",
              "      <div>\n",
              "<style scoped>\n",
              "    .dataframe tbody tr th:only-of-type {\n",
              "        vertical-align: middle;\n",
              "    }\n",
              "\n",
              "    .dataframe tbody tr th {\n",
              "        vertical-align: top;\n",
              "    }\n",
              "\n",
              "    .dataframe thead th {\n",
              "        text-align: right;\n",
              "    }\n",
              "</style>\n",
              "<table border=\"1\" class=\"dataframe\">\n",
              "  <thead>\n",
              "    <tr style=\"text-align: right;\">\n",
              "      <th></th>\n",
              "      <th>name</th>\n",
              "      <th>age</th>\n",
              "      <th>city</th>\n",
              "      <th>country</th>\n",
              "    </tr>\n",
              "  </thead>\n",
              "  <tbody>\n",
              "    <tr>\n",
              "      <th>2</th>\n",
              "      <td>Winston</td>\n",
              "      <td>40</td>\n",
              "      <td>Madrid</td>\n",
              "      <td>Spain</td>\n",
              "    </tr>\n",
              "    <tr>\n",
              "      <th>3</th>\n",
              "      <td>Tom</td>\n",
              "      <td>27</td>\n",
              "      <td>Paris</td>\n",
              "      <td>France</td>\n",
              "    </tr>\n",
              "    <tr>\n",
              "      <th>4</th>\n",
              "      <td>Alex</td>\n",
              "      <td>52</td>\n",
              "      <td>London</td>\n",
              "      <td>UK</td>\n",
              "    </tr>\n",
              "  </tbody>\n",
              "</table>\n",
              "</div>\n",
              "      <button class=\"colab-df-convert\" onclick=\"convertToInteractive('df-ff60103b-6b3d-4a65-994b-587b0221af3b')\"\n",
              "              title=\"Convert this dataframe to an interactive table.\"\n",
              "              style=\"display:none;\">\n",
              "        \n",
              "  <svg xmlns=\"http://www.w3.org/2000/svg\" height=\"24px\"viewBox=\"0 0 24 24\"\n",
              "       width=\"24px\">\n",
              "    <path d=\"M0 0h24v24H0V0z\" fill=\"none\"/>\n",
              "    <path d=\"M18.56 5.44l.94 2.06.94-2.06 2.06-.94-2.06-.94-.94-2.06-.94 2.06-2.06.94zm-11 1L8.5 8.5l.94-2.06 2.06-.94-2.06-.94L8.5 2.5l-.94 2.06-2.06.94zm10 10l.94 2.06.94-2.06 2.06-.94-2.06-.94-.94-2.06-.94 2.06-2.06.94z\"/><path d=\"M17.41 7.96l-1.37-1.37c-.4-.4-.92-.59-1.43-.59-.52 0-1.04.2-1.43.59L10.3 9.45l-7.72 7.72c-.78.78-.78 2.05 0 2.83L4 21.41c.39.39.9.59 1.41.59.51 0 1.02-.2 1.41-.59l7.78-7.78 2.81-2.81c.8-.78.8-2.07 0-2.86zM5.41 20L4 18.59l7.72-7.72 1.47 1.35L5.41 20z\"/>\n",
              "  </svg>\n",
              "      </button>\n",
              "      \n",
              "  <style>\n",
              "    .colab-df-container {\n",
              "      display:flex;\n",
              "      flex-wrap:wrap;\n",
              "      gap: 12px;\n",
              "    }\n",
              "\n",
              "    .colab-df-convert {\n",
              "      background-color: #E8F0FE;\n",
              "      border: none;\n",
              "      border-radius: 50%;\n",
              "      cursor: pointer;\n",
              "      display: none;\n",
              "      fill: #1967D2;\n",
              "      height: 32px;\n",
              "      padding: 0 0 0 0;\n",
              "      width: 32px;\n",
              "    }\n",
              "\n",
              "    .colab-df-convert:hover {\n",
              "      background-color: #E2EBFA;\n",
              "      box-shadow: 0px 1px 2px rgba(60, 64, 67, 0.3), 0px 1px 3px 1px rgba(60, 64, 67, 0.15);\n",
              "      fill: #174EA6;\n",
              "    }\n",
              "\n",
              "    [theme=dark] .colab-df-convert {\n",
              "      background-color: #3B4455;\n",
              "      fill: #D2E3FC;\n",
              "    }\n",
              "\n",
              "    [theme=dark] .colab-df-convert:hover {\n",
              "      background-color: #434B5C;\n",
              "      box-shadow: 0px 1px 3px 1px rgba(0, 0, 0, 0.15);\n",
              "      filter: drop-shadow(0px 1px 2px rgba(0, 0, 0, 0.3));\n",
              "      fill: #FFFFFF;\n",
              "    }\n",
              "  </style>\n",
              "\n",
              "      <script>\n",
              "        const buttonEl =\n",
              "          document.querySelector('#df-ff60103b-6b3d-4a65-994b-587b0221af3b button.colab-df-convert');\n",
              "        buttonEl.style.display =\n",
              "          google.colab.kernel.accessAllowed ? 'block' : 'none';\n",
              "\n",
              "        async function convertToInteractive(key) {\n",
              "          const element = document.querySelector('#df-ff60103b-6b3d-4a65-994b-587b0221af3b');\n",
              "          const dataTable =\n",
              "            await google.colab.kernel.invokeFunction('convertToInteractive',\n",
              "                                                     [key], {});\n",
              "          if (!dataTable) return;\n",
              "\n",
              "          const docLinkHtml = 'Like what you see? Visit the ' +\n",
              "            '<a target=\"_blank\" href=https://colab.research.google.com/notebooks/data_table.ipynb>data table notebook</a>'\n",
              "            + ' to learn more about interactive tables.';\n",
              "          element.innerHTML = '';\n",
              "          dataTable['output_type'] = 'display_data';\n",
              "          await google.colab.output.renderOutput(dataTable, element);\n",
              "          const docLink = document.createElement('div');\n",
              "          docLink.innerHTML = docLinkHtml;\n",
              "          element.appendChild(docLink);\n",
              "        }\n",
              "      </script>\n",
              "    </div>\n",
              "  </div>\n",
              "  "
            ]
          },
          "metadata": {},
          "execution_count": 109
        }
      ]
    },
    {
      "cell_type": "code",
      "execution_count": 110,
      "metadata": {
        "id": "Qbj76q-xTEYB",
        "outputId": "76307413-b4a1-4ef2-c507-14d11436a521",
        "colab": {
          "base_uri": "https://localhost:8080/"
        }
      },
      "outputs": [
        {
          "output_type": "execute_result",
          "data": {
            "text/plain": [
              "(5, 4)"
            ]
          },
          "metadata": {},
          "execution_count": 110
        }
      ],
      "source": [
        "# df dimensions\n",
        "\n",
        "df1.shape #retunr nb of rows, and nb of columns"
      ]
    },
    {
      "cell_type": "code",
      "execution_count": 111,
      "metadata": {
        "id": "KHLBVTXjTH0W",
        "outputId": "7db910f4-bf2e-443f-ebd5-49c9f99ca19b",
        "colab": {
          "base_uri": "https://localhost:8080/"
        }
      },
      "outputs": [
        {
          "output_type": "execute_result",
          "data": {
            "text/plain": [
              "5"
            ]
          },
          "metadata": {},
          "execution_count": 111
        }
      ],
      "source": [
        "# nb of rows\n",
        "\n",
        "df1.shape[0]"
      ]
    },
    {
      "cell_type": "code",
      "execution_count": 112,
      "metadata": {
        "id": "5IUZErk6TOhS",
        "outputId": "00d2b41a-c817-46f8-f599-49864af296bc",
        "colab": {
          "base_uri": "https://localhost:8080/"
        }
      },
      "outputs": [
        {
          "output_type": "execute_result",
          "data": {
            "text/plain": [
              "5"
            ]
          },
          "metadata": {},
          "execution_count": 112
        }
      ],
      "source": [
        "len(df1)"
      ]
    },
    {
      "cell_type": "code",
      "execution_count": 113,
      "metadata": {
        "id": "QFprcZGjTQSZ",
        "outputId": "6c9b5be6-0ce1-4d8e-9735-993f88e3146b",
        "colab": {
          "base_uri": "https://localhost:8080/"
        }
      },
      "outputs": [
        {
          "output_type": "execute_result",
          "data": {
            "text/plain": [
              "4"
            ]
          },
          "metadata": {},
          "execution_count": 113
        }
      ],
      "source": [
        "# nb. of columns\n",
        "df1.shape[1]"
      ]
    },
    {
      "cell_type": "code",
      "execution_count": 114,
      "metadata": {
        "id": "5Yqcxa8aTUPD",
        "outputId": "44c5d306-5adb-4d2e-a8b4-d4e6efead7cd",
        "colab": {
          "base_uri": "https://localhost:8080/"
        }
      },
      "outputs": [
        {
          "output_type": "execute_result",
          "data": {
            "text/plain": [
              "4"
            ]
          },
          "metadata": {},
          "execution_count": 114
        }
      ],
      "source": [
        "len(df1.columns)"
      ]
    },
    {
      "cell_type": "code",
      "execution_count": null,
      "metadata": {
        "id": "N7UPeznrTXaF"
      },
      "outputs": [],
      "source": [
        "# get df columns\n",
        "\n",
        "df1.columns"
      ]
    },
    {
      "cell_type": "code",
      "execution_count": 116,
      "metadata": {
        "id": "gMZxm5PBTbbT",
        "outputId": "03d240a6-0d93-4c36-f13f-4a16e5fdbd1e",
        "colab": {
          "base_uri": "https://localhost:8080/",
          "height": 35
        }
      },
      "outputs": [
        {
          "output_type": "execute_result",
          "data": {
            "text/plain": [
              "'name'"
            ],
            "application/vnd.google.colaboratory.intrinsic+json": {
              "type": "string"
            }
          },
          "metadata": {},
          "execution_count": 116
        }
      ],
      "source": [
        "# 1st column index: starts at 0\n",
        "\n",
        "df1.columns[0]\n"
      ]
    },
    {
      "cell_type": "markdown",
      "metadata": {
        "id": "6LU-ODP8TpPl"
      },
      "source": [
        "## Locations: .iloc & .loc"
      ]
    },
    {
      "cell_type": "code",
      "execution_count": 117,
      "metadata": {
        "id": "CIVlcWu7TjH7",
        "outputId": "9d2ac8df-53d9-485c-cc3b-3d2007655b8b",
        "colab": {
          "base_uri": "https://localhost:8080/"
        }
      },
      "outputs": [
        {
          "output_type": "execute_result",
          "data": {
            "text/plain": [
              "0    30\n",
              "1    35\n",
              "2    40\n",
              "3    27\n",
              "4    52\n",
              "Name: age, dtype: object"
            ]
          },
          "metadata": {},
          "execution_count": 117
        }
      ],
      "source": [
        "# access values by column name\n",
        "\n",
        "df1['age']"
      ]
    },
    {
      "cell_type": "markdown",
      "source": [
        "TO access values from dataframe we use **.iloc** and **.loc** attributes"
      ],
      "metadata": {
        "id": "B0-676TUtflQ"
      }
    },
    {
      "cell_type": "markdown",
      "source": [
        "**.iloc**"
      ],
      "metadata": {
        "id": "MY-NbgI53D-M"
      }
    },
    {
      "cell_type": "markdown",
      "source": [
        "The pandas.DataFrame.iloc attribute is used to access elements from a pandas DataFrame using the integer position. \n",
        "\n",
        "The “.iloc” attribute allows inputs like an integer value, a list of integer values, and a slicing object with integers, and boolean array, etc.\n",
        "\n",
        "The attribute will raise an “IndexError” if the requested index is out of bounds, except for the slicing indexer object."
      ],
      "metadata": {
        "id": "ULjHVL_GtvJu"
      }
    },
    {
      "cell_type": "markdown",
      "source": [
        "iloc[row_position, column_position]"
      ],
      "metadata": {
        "id": "UpVrqgNPypXm"
      }
    },
    {
      "cell_type": "code",
      "source": [
        "print(df1)\n",
        "print('')\n",
        "\n",
        "# acces 1st row with .iloc\n",
        "df1.iloc[0] # a sing argument"
      ],
      "metadata": {
        "id": "raOFtmy6uq11",
        "outputId": "7525a5e9-493e-4f5a-e25f-9ee9df759613",
        "colab": {
          "base_uri": "https://localhost:8080/"
        }
      },
      "execution_count": 118,
      "outputs": [
        {
          "output_type": "stream",
          "name": "stdout",
          "text": [
            "      name age    city  country\n",
            "0     Jess  30   Paris   France\n",
            "1     Nick  35  Berlin  Germany\n",
            "2  Winston  40  Madrid    Spain\n",
            "3      Tom  27   Paris   France\n",
            "4     Alex  52  London       UK\n",
            "\n"
          ]
        },
        {
          "output_type": "execute_result",
          "data": {
            "text/plain": [
              "name         Jess\n",
              "age            30\n",
              "city        Paris\n",
              "country    France\n",
              "Name: 0, dtype: object"
            ]
          },
          "metadata": {},
          "execution_count": 118
        }
      ]
    },
    {
      "cell_type": "code",
      "source": [
        "print(df1)\n",
        "print('')\n",
        "\n",
        "# acces the last row with .iloc\n",
        "df1.iloc[-1]"
      ],
      "metadata": {
        "id": "BvHA_OaCu9w3",
        "outputId": "7e80a520-22b5-49d1-b1b9-42d8e693db4c",
        "colab": {
          "base_uri": "https://localhost:8080/"
        }
      },
      "execution_count": 121,
      "outputs": [
        {
          "output_type": "stream",
          "name": "stdout",
          "text": [
            "      name age    city  country\n",
            "0     Jess  30   Paris   France\n",
            "1     Nick  35  Berlin  Germany\n",
            "2  Winston  40  Madrid    Spain\n",
            "3      Tom  27   Paris   France\n",
            "4     Alex  52  London       UK\n",
            "\n"
          ]
        },
        {
          "output_type": "execute_result",
          "data": {
            "text/plain": [
              "name         Alex\n",
              "age            52\n",
              "city       London\n",
              "country        UK\n",
              "Name: 4, dtype: object"
            ]
          },
          "metadata": {},
          "execution_count": 121
        }
      ]
    },
    {
      "cell_type": "code",
      "execution_count": 120,
      "metadata": {
        "id": "mCZA0A_MTwJ5",
        "outputId": "a6d328b7-d688-481c-de32-85ebd9f6cbc2",
        "colab": {
          "base_uri": "https://localhost:8080/"
        }
      },
      "outputs": [
        {
          "output_type": "stream",
          "name": "stdout",
          "text": [
            "      name age    city  country\n",
            "0     Jess  30   Paris   France\n",
            "1     Nick  35  Berlin  Germany\n",
            "2  Winston  40  Madrid    Spain\n",
            "3      Tom  27   Paris   France\n",
            "4     Alex  52  London       UK\n",
            "\n",
            "the 1st element of df is:  Jess\n"
          ]
        }
      ],
      "source": [
        "# accessing a single element by index with .iloc attribute\n",
        "\n",
        "print(df1)\n",
        "print('')\n",
        "print('the 1st element of df is: ', df1.iloc[0, 0])"
      ]
    },
    {
      "cell_type": "code",
      "execution_count": 122,
      "metadata": {
        "id": "6h4TipVET-4y",
        "outputId": "1eadd02d-6412-4ce5-b6fa-89688ce49064",
        "colab": {
          "base_uri": "https://localhost:8080/",
          "height": 35
        }
      },
      "outputs": [
        {
          "output_type": "execute_result",
          "data": {
            "text/plain": [
              "'UK'"
            ],
            "application/vnd.google.colaboratory.intrinsic+json": {
              "type": "string"
            }
          },
          "metadata": {},
          "execution_count": 122
        }
      ],
      "source": [
        "# accessing the last element of the df\n",
        "df1.iloc[-1, -1]"
      ]
    },
    {
      "cell_type": "code",
      "execution_count": 123,
      "metadata": {
        "id": "2TmwbnFJUEME",
        "outputId": "ad410f81-3aba-44d7-db14-a89e5c3f6fc4",
        "colab": {
          "base_uri": "https://localhost:8080/",
          "height": 157
        }
      },
      "outputs": [
        {
          "output_type": "stream",
          "name": "stdout",
          "text": [
            "      name age    city  country\n",
            "0     Jess  30   Paris   France\n",
            "1     Nick  35  Berlin  Germany\n",
            "2  Winston  40  Madrid    Spain\n",
            "3      Tom  27   Paris   France\n",
            "4     Alex  52  London       UK\n",
            "\n"
          ]
        },
        {
          "output_type": "execute_result",
          "data": {
            "text/plain": [
              "'40'"
            ],
            "application/vnd.google.colaboratory.intrinsic+json": {
              "type": "string"
            }
          },
          "metadata": {},
          "execution_count": 123
        }
      ],
      "source": [
        "# return element with value 40\n",
        "\n",
        "print(df1)\n",
        "print('')\n",
        "df1.iloc[2,1] # row index 2 and col index 1"
      ]
    },
    {
      "cell_type": "code",
      "source": [
        "# out of bounds index\n",
        "df1.iloc[12,2]"
      ],
      "metadata": {
        "id": "0HMhG2BduBtO",
        "outputId": "b24b9b58-4969-4c31-da7e-8fca91e6bdf7",
        "colab": {
          "base_uri": "https://localhost:8080/",
          "height": 328
        }
      },
      "execution_count": 125,
      "outputs": [
        {
          "output_type": "error",
          "ename": "IndexError",
          "evalue": "ignored",
          "traceback": [
            "\u001b[0;31m---------------------------------------------------------------------------\u001b[0m",
            "\u001b[0;31mIndexError\u001b[0m                                Traceback (most recent call last)",
            "\u001b[0;32m<ipython-input-125-1dd5cf549c44>\u001b[0m in \u001b[0;36m<module>\u001b[0;34m\u001b[0m\n\u001b[1;32m      1\u001b[0m \u001b[0;31m# out of bounds index\u001b[0m\u001b[0;34m\u001b[0m\u001b[0;34m\u001b[0m\u001b[0;34m\u001b[0m\u001b[0m\n\u001b[0;32m----> 2\u001b[0;31m \u001b[0mdf1\u001b[0m\u001b[0;34m.\u001b[0m\u001b[0miloc\u001b[0m\u001b[0;34m[\u001b[0m\u001b[0;36m12\u001b[0m\u001b[0;34m,\u001b[0m\u001b[0;36m2\u001b[0m\u001b[0;34m]\u001b[0m\u001b[0;34m\u001b[0m\u001b[0;34m\u001b[0m\u001b[0m\n\u001b[0m",
            "\u001b[0;32m/usr/local/lib/python3.8/dist-packages/pandas/core/indexing.py\u001b[0m in \u001b[0;36m__getitem__\u001b[0;34m(self, key)\u001b[0m\n\u001b[1;32m    923\u001b[0m                 \u001b[0;32mwith\u001b[0m \u001b[0msuppress\u001b[0m\u001b[0;34m(\u001b[0m\u001b[0mKeyError\u001b[0m\u001b[0;34m,\u001b[0m \u001b[0mIndexError\u001b[0m\u001b[0;34m)\u001b[0m\u001b[0;34m:\u001b[0m\u001b[0;34m\u001b[0m\u001b[0;34m\u001b[0m\u001b[0m\n\u001b[1;32m    924\u001b[0m                     \u001b[0;32mreturn\u001b[0m \u001b[0mself\u001b[0m\u001b[0;34m.\u001b[0m\u001b[0mobj\u001b[0m\u001b[0;34m.\u001b[0m\u001b[0m_get_value\u001b[0m\u001b[0;34m(\u001b[0m\u001b[0;34m*\u001b[0m\u001b[0mkey\u001b[0m\u001b[0;34m,\u001b[0m \u001b[0mtakeable\u001b[0m\u001b[0;34m=\u001b[0m\u001b[0mself\u001b[0m\u001b[0;34m.\u001b[0m\u001b[0m_takeable\u001b[0m\u001b[0;34m)\u001b[0m\u001b[0;34m\u001b[0m\u001b[0;34m\u001b[0m\u001b[0m\n\u001b[0;32m--> 925\u001b[0;31m             \u001b[0;32mreturn\u001b[0m \u001b[0mself\u001b[0m\u001b[0;34m.\u001b[0m\u001b[0m_getitem_tuple\u001b[0m\u001b[0;34m(\u001b[0m\u001b[0mkey\u001b[0m\u001b[0;34m)\u001b[0m\u001b[0;34m\u001b[0m\u001b[0;34m\u001b[0m\u001b[0m\n\u001b[0m\u001b[1;32m    926\u001b[0m         \u001b[0;32melse\u001b[0m\u001b[0;34m:\u001b[0m\u001b[0;34m\u001b[0m\u001b[0;34m\u001b[0m\u001b[0m\n\u001b[1;32m    927\u001b[0m             \u001b[0;31m# we by definition only have the 0th axis\u001b[0m\u001b[0;34m\u001b[0m\u001b[0;34m\u001b[0m\u001b[0;34m\u001b[0m\u001b[0m\n",
            "\u001b[0;32m/usr/local/lib/python3.8/dist-packages/pandas/core/indexing.py\u001b[0m in \u001b[0;36m_getitem_tuple\u001b[0;34m(self, tup)\u001b[0m\n\u001b[1;32m   1504\u001b[0m     \u001b[0;32mdef\u001b[0m \u001b[0m_getitem_tuple\u001b[0m\u001b[0;34m(\u001b[0m\u001b[0mself\u001b[0m\u001b[0;34m,\u001b[0m \u001b[0mtup\u001b[0m\u001b[0;34m:\u001b[0m \u001b[0mtuple\u001b[0m\u001b[0;34m)\u001b[0m\u001b[0;34m:\u001b[0m\u001b[0;34m\u001b[0m\u001b[0;34m\u001b[0m\u001b[0m\n\u001b[1;32m   1505\u001b[0m \u001b[0;34m\u001b[0m\u001b[0m\n\u001b[0;32m-> 1506\u001b[0;31m         \u001b[0mself\u001b[0m\u001b[0;34m.\u001b[0m\u001b[0m_has_valid_tuple\u001b[0m\u001b[0;34m(\u001b[0m\u001b[0mtup\u001b[0m\u001b[0;34m)\u001b[0m\u001b[0;34m\u001b[0m\u001b[0;34m\u001b[0m\u001b[0m\n\u001b[0m\u001b[1;32m   1507\u001b[0m         \u001b[0;32mwith\u001b[0m \u001b[0msuppress\u001b[0m\u001b[0;34m(\u001b[0m\u001b[0mIndexingError\u001b[0m\u001b[0;34m)\u001b[0m\u001b[0;34m:\u001b[0m\u001b[0;34m\u001b[0m\u001b[0;34m\u001b[0m\u001b[0m\n\u001b[1;32m   1508\u001b[0m             \u001b[0;32mreturn\u001b[0m \u001b[0mself\u001b[0m\u001b[0;34m.\u001b[0m\u001b[0m_getitem_lowerdim\u001b[0m\u001b[0;34m(\u001b[0m\u001b[0mtup\u001b[0m\u001b[0;34m)\u001b[0m\u001b[0;34m\u001b[0m\u001b[0;34m\u001b[0m\u001b[0m\n",
            "\u001b[0;32m/usr/local/lib/python3.8/dist-packages/pandas/core/indexing.py\u001b[0m in \u001b[0;36m_has_valid_tuple\u001b[0;34m(self, key)\u001b[0m\n\u001b[1;32m    752\u001b[0m         \u001b[0;32mfor\u001b[0m \u001b[0mi\u001b[0m\u001b[0;34m,\u001b[0m \u001b[0mk\u001b[0m \u001b[0;32min\u001b[0m \u001b[0menumerate\u001b[0m\u001b[0;34m(\u001b[0m\u001b[0mkey\u001b[0m\u001b[0;34m)\u001b[0m\u001b[0;34m:\u001b[0m\u001b[0;34m\u001b[0m\u001b[0;34m\u001b[0m\u001b[0m\n\u001b[1;32m    753\u001b[0m             \u001b[0;32mtry\u001b[0m\u001b[0;34m:\u001b[0m\u001b[0;34m\u001b[0m\u001b[0;34m\u001b[0m\u001b[0m\n\u001b[0;32m--> 754\u001b[0;31m                 \u001b[0mself\u001b[0m\u001b[0;34m.\u001b[0m\u001b[0m_validate_key\u001b[0m\u001b[0;34m(\u001b[0m\u001b[0mk\u001b[0m\u001b[0;34m,\u001b[0m \u001b[0mi\u001b[0m\u001b[0;34m)\u001b[0m\u001b[0;34m\u001b[0m\u001b[0;34m\u001b[0m\u001b[0m\n\u001b[0m\u001b[1;32m    755\u001b[0m             \u001b[0;32mexcept\u001b[0m \u001b[0mValueError\u001b[0m \u001b[0;32mas\u001b[0m \u001b[0merr\u001b[0m\u001b[0;34m:\u001b[0m\u001b[0;34m\u001b[0m\u001b[0;34m\u001b[0m\u001b[0m\n\u001b[1;32m    756\u001b[0m                 raise ValueError(\n",
            "\u001b[0;32m/usr/local/lib/python3.8/dist-packages/pandas/core/indexing.py\u001b[0m in \u001b[0;36m_validate_key\u001b[0;34m(self, key, axis)\u001b[0m\n\u001b[1;32m   1407\u001b[0m             \u001b[0;32mreturn\u001b[0m\u001b[0;34m\u001b[0m\u001b[0;34m\u001b[0m\u001b[0m\n\u001b[1;32m   1408\u001b[0m         \u001b[0;32melif\u001b[0m \u001b[0mis_integer\u001b[0m\u001b[0;34m(\u001b[0m\u001b[0mkey\u001b[0m\u001b[0;34m)\u001b[0m\u001b[0;34m:\u001b[0m\u001b[0;34m\u001b[0m\u001b[0;34m\u001b[0m\u001b[0m\n\u001b[0;32m-> 1409\u001b[0;31m             \u001b[0mself\u001b[0m\u001b[0;34m.\u001b[0m\u001b[0m_validate_integer\u001b[0m\u001b[0;34m(\u001b[0m\u001b[0mkey\u001b[0m\u001b[0;34m,\u001b[0m \u001b[0maxis\u001b[0m\u001b[0;34m)\u001b[0m\u001b[0;34m\u001b[0m\u001b[0;34m\u001b[0m\u001b[0m\n\u001b[0m\u001b[1;32m   1410\u001b[0m         \u001b[0;32melif\u001b[0m \u001b[0misinstance\u001b[0m\u001b[0;34m(\u001b[0m\u001b[0mkey\u001b[0m\u001b[0;34m,\u001b[0m \u001b[0mtuple\u001b[0m\u001b[0;34m)\u001b[0m\u001b[0;34m:\u001b[0m\u001b[0;34m\u001b[0m\u001b[0;34m\u001b[0m\u001b[0m\n\u001b[1;32m   1411\u001b[0m             \u001b[0;31m# a tuple should already have been caught by this point\u001b[0m\u001b[0;34m\u001b[0m\u001b[0;34m\u001b[0m\u001b[0;34m\u001b[0m\u001b[0m\n",
            "\u001b[0;32m/usr/local/lib/python3.8/dist-packages/pandas/core/indexing.py\u001b[0m in \u001b[0;36m_validate_integer\u001b[0;34m(self, key, axis)\u001b[0m\n\u001b[1;32m   1498\u001b[0m         \u001b[0mlen_axis\u001b[0m \u001b[0;34m=\u001b[0m \u001b[0mlen\u001b[0m\u001b[0;34m(\u001b[0m\u001b[0mself\u001b[0m\u001b[0;34m.\u001b[0m\u001b[0mobj\u001b[0m\u001b[0;34m.\u001b[0m\u001b[0m_get_axis\u001b[0m\u001b[0;34m(\u001b[0m\u001b[0maxis\u001b[0m\u001b[0;34m)\u001b[0m\u001b[0;34m)\u001b[0m\u001b[0;34m\u001b[0m\u001b[0;34m\u001b[0m\u001b[0m\n\u001b[1;32m   1499\u001b[0m         \u001b[0;32mif\u001b[0m \u001b[0mkey\u001b[0m \u001b[0;34m>=\u001b[0m \u001b[0mlen_axis\u001b[0m \u001b[0;32mor\u001b[0m \u001b[0mkey\u001b[0m \u001b[0;34m<\u001b[0m \u001b[0;34m-\u001b[0m\u001b[0mlen_axis\u001b[0m\u001b[0;34m:\u001b[0m\u001b[0;34m\u001b[0m\u001b[0;34m\u001b[0m\u001b[0m\n\u001b[0;32m-> 1500\u001b[0;31m             \u001b[0;32mraise\u001b[0m \u001b[0mIndexError\u001b[0m\u001b[0;34m(\u001b[0m\u001b[0;34m\"single positional indexer is out-of-bounds\"\u001b[0m\u001b[0;34m)\u001b[0m\u001b[0;34m\u001b[0m\u001b[0;34m\u001b[0m\u001b[0m\n\u001b[0m\u001b[1;32m   1501\u001b[0m \u001b[0;34m\u001b[0m\u001b[0m\n\u001b[1;32m   1502\u001b[0m     \u001b[0;31m# -------------------------------------------------------------------\u001b[0m\u001b[0;34m\u001b[0m\u001b[0;34m\u001b[0m\u001b[0;34m\u001b[0m\u001b[0m\n",
            "\u001b[0;31mIndexError\u001b[0m: single positional indexer is out-of-bounds"
          ]
        }
      ]
    },
    {
      "cell_type": "code",
      "source": [
        "print(df1)\n",
        "print('')\n",
        "\n",
        "# accessing a range of values by index\n",
        "df1.iloc[:3, 1:3] # all elements till the 2nd row (not included) and columns from 1 to 3 (where 3 not included)"
      ],
      "metadata": {
        "id": "sTX-Dk8JvQPc",
        "outputId": "baf76d6c-553a-457c-eb42-e20ac3813f5d",
        "colab": {
          "base_uri": "https://localhost:8080/",
          "height": 265
        }
      },
      "execution_count": 126,
      "outputs": [
        {
          "output_type": "stream",
          "name": "stdout",
          "text": [
            "      name age    city  country\n",
            "0     Jess  30   Paris   France\n",
            "1     Nick  35  Berlin  Germany\n",
            "2  Winston  40  Madrid    Spain\n",
            "3      Tom  27   Paris   France\n",
            "4     Alex  52  London       UK\n",
            "\n"
          ]
        },
        {
          "output_type": "execute_result",
          "data": {
            "text/plain": [
              "  age    city\n",
              "0  30   Paris\n",
              "1  35  Berlin\n",
              "2  40  Madrid"
            ],
            "text/html": [
              "\n",
              "  <div id=\"df-d0fe8126-3250-44b1-861c-9779c482ce0c\">\n",
              "    <div class=\"colab-df-container\">\n",
              "      <div>\n",
              "<style scoped>\n",
              "    .dataframe tbody tr th:only-of-type {\n",
              "        vertical-align: middle;\n",
              "    }\n",
              "\n",
              "    .dataframe tbody tr th {\n",
              "        vertical-align: top;\n",
              "    }\n",
              "\n",
              "    .dataframe thead th {\n",
              "        text-align: right;\n",
              "    }\n",
              "</style>\n",
              "<table border=\"1\" class=\"dataframe\">\n",
              "  <thead>\n",
              "    <tr style=\"text-align: right;\">\n",
              "      <th></th>\n",
              "      <th>age</th>\n",
              "      <th>city</th>\n",
              "    </tr>\n",
              "  </thead>\n",
              "  <tbody>\n",
              "    <tr>\n",
              "      <th>0</th>\n",
              "      <td>30</td>\n",
              "      <td>Paris</td>\n",
              "    </tr>\n",
              "    <tr>\n",
              "      <th>1</th>\n",
              "      <td>35</td>\n",
              "      <td>Berlin</td>\n",
              "    </tr>\n",
              "    <tr>\n",
              "      <th>2</th>\n",
              "      <td>40</td>\n",
              "      <td>Madrid</td>\n",
              "    </tr>\n",
              "  </tbody>\n",
              "</table>\n",
              "</div>\n",
              "      <button class=\"colab-df-convert\" onclick=\"convertToInteractive('df-d0fe8126-3250-44b1-861c-9779c482ce0c')\"\n",
              "              title=\"Convert this dataframe to an interactive table.\"\n",
              "              style=\"display:none;\">\n",
              "        \n",
              "  <svg xmlns=\"http://www.w3.org/2000/svg\" height=\"24px\"viewBox=\"0 0 24 24\"\n",
              "       width=\"24px\">\n",
              "    <path d=\"M0 0h24v24H0V0z\" fill=\"none\"/>\n",
              "    <path d=\"M18.56 5.44l.94 2.06.94-2.06 2.06-.94-2.06-.94-.94-2.06-.94 2.06-2.06.94zm-11 1L8.5 8.5l.94-2.06 2.06-.94-2.06-.94L8.5 2.5l-.94 2.06-2.06.94zm10 10l.94 2.06.94-2.06 2.06-.94-2.06-.94-.94-2.06-.94 2.06-2.06.94z\"/><path d=\"M17.41 7.96l-1.37-1.37c-.4-.4-.92-.59-1.43-.59-.52 0-1.04.2-1.43.59L10.3 9.45l-7.72 7.72c-.78.78-.78 2.05 0 2.83L4 21.41c.39.39.9.59 1.41.59.51 0 1.02-.2 1.41-.59l7.78-7.78 2.81-2.81c.8-.78.8-2.07 0-2.86zM5.41 20L4 18.59l7.72-7.72 1.47 1.35L5.41 20z\"/>\n",
              "  </svg>\n",
              "      </button>\n",
              "      \n",
              "  <style>\n",
              "    .colab-df-container {\n",
              "      display:flex;\n",
              "      flex-wrap:wrap;\n",
              "      gap: 12px;\n",
              "    }\n",
              "\n",
              "    .colab-df-convert {\n",
              "      background-color: #E8F0FE;\n",
              "      border: none;\n",
              "      border-radius: 50%;\n",
              "      cursor: pointer;\n",
              "      display: none;\n",
              "      fill: #1967D2;\n",
              "      height: 32px;\n",
              "      padding: 0 0 0 0;\n",
              "      width: 32px;\n",
              "    }\n",
              "\n",
              "    .colab-df-convert:hover {\n",
              "      background-color: #E2EBFA;\n",
              "      box-shadow: 0px 1px 2px rgba(60, 64, 67, 0.3), 0px 1px 3px 1px rgba(60, 64, 67, 0.15);\n",
              "      fill: #174EA6;\n",
              "    }\n",
              "\n",
              "    [theme=dark] .colab-df-convert {\n",
              "      background-color: #3B4455;\n",
              "      fill: #D2E3FC;\n",
              "    }\n",
              "\n",
              "    [theme=dark] .colab-df-convert:hover {\n",
              "      background-color: #434B5C;\n",
              "      box-shadow: 0px 1px 3px 1px rgba(0, 0, 0, 0.15);\n",
              "      filter: drop-shadow(0px 1px 2px rgba(0, 0, 0, 0.3));\n",
              "      fill: #FFFFFF;\n",
              "    }\n",
              "  </style>\n",
              "\n",
              "      <script>\n",
              "        const buttonEl =\n",
              "          document.querySelector('#df-d0fe8126-3250-44b1-861c-9779c482ce0c button.colab-df-convert');\n",
              "        buttonEl.style.display =\n",
              "          google.colab.kernel.accessAllowed ? 'block' : 'none';\n",
              "\n",
              "        async function convertToInteractive(key) {\n",
              "          const element = document.querySelector('#df-d0fe8126-3250-44b1-861c-9779c482ce0c');\n",
              "          const dataTable =\n",
              "            await google.colab.kernel.invokeFunction('convertToInteractive',\n",
              "                                                     [key], {});\n",
              "          if (!dataTable) return;\n",
              "\n",
              "          const docLinkHtml = 'Like what you see? Visit the ' +\n",
              "            '<a target=\"_blank\" href=https://colab.research.google.com/notebooks/data_table.ipynb>data table notebook</a>'\n",
              "            + ' to learn more about interactive tables.';\n",
              "          element.innerHTML = '';\n",
              "          dataTable['output_type'] = 'display_data';\n",
              "          await google.colab.output.renderOutput(dataTable, element);\n",
              "          const docLink = document.createElement('div');\n",
              "          docLink.innerHTML = docLinkHtml;\n",
              "          element.appendChild(docLink);\n",
              "        }\n",
              "      </script>\n",
              "    </div>\n",
              "  </div>\n",
              "  "
            ]
          },
          "metadata": {},
          "execution_count": 126
        }
      ]
    },
    {
      "cell_type": "markdown",
      "source": [
        "**.loc** "
      ],
      "metadata": {
        "id": "2HV9UOOS3JOI"
      }
    },
    {
      "cell_type": "markdown",
      "source": [
        "The “.loc” is an attribute of the pandas.DataFrame. it is used to access elements from DataFrame based on row/column label indexing."
      ],
      "metadata": {
        "id": "7bZXVxdbs0t5"
      }
    },
    {
      "cell_type": "markdown",
      "source": [
        "loc[row_label, column_label]"
      ],
      "metadata": {
        "id": "UDgRy2cFywRY"
      }
    },
    {
      "cell_type": "code",
      "source": [
        "# the rows have indices, but no labels\n",
        "\n",
        "print(df1.shape)\n",
        "\n",
        "df1"
      ],
      "metadata": {
        "id": "AqWGf5FB5Y9s",
        "outputId": "4c3d94e6-d60f-4f82-e07a-dd643980fce1",
        "colab": {
          "base_uri": "https://localhost:8080/",
          "height": 224
        }
      },
      "execution_count": 127,
      "outputs": [
        {
          "output_type": "stream",
          "name": "stdout",
          "text": [
            "(5, 4)\n"
          ]
        },
        {
          "output_type": "execute_result",
          "data": {
            "text/plain": [
              "      name age    city  country\n",
              "0     Jess  30   Paris   France\n",
              "1     Nick  35  Berlin  Germany\n",
              "2  Winston  40  Madrid    Spain\n",
              "3      Tom  27   Paris   France\n",
              "4     Alex  52  London       UK"
            ],
            "text/html": [
              "\n",
              "  <div id=\"df-096a513b-dd1d-46d3-9e51-0a97752fe7f9\">\n",
              "    <div class=\"colab-df-container\">\n",
              "      <div>\n",
              "<style scoped>\n",
              "    .dataframe tbody tr th:only-of-type {\n",
              "        vertical-align: middle;\n",
              "    }\n",
              "\n",
              "    .dataframe tbody tr th {\n",
              "        vertical-align: top;\n",
              "    }\n",
              "\n",
              "    .dataframe thead th {\n",
              "        text-align: right;\n",
              "    }\n",
              "</style>\n",
              "<table border=\"1\" class=\"dataframe\">\n",
              "  <thead>\n",
              "    <tr style=\"text-align: right;\">\n",
              "      <th></th>\n",
              "      <th>name</th>\n",
              "      <th>age</th>\n",
              "      <th>city</th>\n",
              "      <th>country</th>\n",
              "    </tr>\n",
              "  </thead>\n",
              "  <tbody>\n",
              "    <tr>\n",
              "      <th>0</th>\n",
              "      <td>Jess</td>\n",
              "      <td>30</td>\n",
              "      <td>Paris</td>\n",
              "      <td>France</td>\n",
              "    </tr>\n",
              "    <tr>\n",
              "      <th>1</th>\n",
              "      <td>Nick</td>\n",
              "      <td>35</td>\n",
              "      <td>Berlin</td>\n",
              "      <td>Germany</td>\n",
              "    </tr>\n",
              "    <tr>\n",
              "      <th>2</th>\n",
              "      <td>Winston</td>\n",
              "      <td>40</td>\n",
              "      <td>Madrid</td>\n",
              "      <td>Spain</td>\n",
              "    </tr>\n",
              "    <tr>\n",
              "      <th>3</th>\n",
              "      <td>Tom</td>\n",
              "      <td>27</td>\n",
              "      <td>Paris</td>\n",
              "      <td>France</td>\n",
              "    </tr>\n",
              "    <tr>\n",
              "      <th>4</th>\n",
              "      <td>Alex</td>\n",
              "      <td>52</td>\n",
              "      <td>London</td>\n",
              "      <td>UK</td>\n",
              "    </tr>\n",
              "  </tbody>\n",
              "</table>\n",
              "</div>\n",
              "      <button class=\"colab-df-convert\" onclick=\"convertToInteractive('df-096a513b-dd1d-46d3-9e51-0a97752fe7f9')\"\n",
              "              title=\"Convert this dataframe to an interactive table.\"\n",
              "              style=\"display:none;\">\n",
              "        \n",
              "  <svg xmlns=\"http://www.w3.org/2000/svg\" height=\"24px\"viewBox=\"0 0 24 24\"\n",
              "       width=\"24px\">\n",
              "    <path d=\"M0 0h24v24H0V0z\" fill=\"none\"/>\n",
              "    <path d=\"M18.56 5.44l.94 2.06.94-2.06 2.06-.94-2.06-.94-.94-2.06-.94 2.06-2.06.94zm-11 1L8.5 8.5l.94-2.06 2.06-.94-2.06-.94L8.5 2.5l-.94 2.06-2.06.94zm10 10l.94 2.06.94-2.06 2.06-.94-2.06-.94-.94-2.06-.94 2.06-2.06.94z\"/><path d=\"M17.41 7.96l-1.37-1.37c-.4-.4-.92-.59-1.43-.59-.52 0-1.04.2-1.43.59L10.3 9.45l-7.72 7.72c-.78.78-.78 2.05 0 2.83L4 21.41c.39.39.9.59 1.41.59.51 0 1.02-.2 1.41-.59l7.78-7.78 2.81-2.81c.8-.78.8-2.07 0-2.86zM5.41 20L4 18.59l7.72-7.72 1.47 1.35L5.41 20z\"/>\n",
              "  </svg>\n",
              "      </button>\n",
              "      \n",
              "  <style>\n",
              "    .colab-df-container {\n",
              "      display:flex;\n",
              "      flex-wrap:wrap;\n",
              "      gap: 12px;\n",
              "    }\n",
              "\n",
              "    .colab-df-convert {\n",
              "      background-color: #E8F0FE;\n",
              "      border: none;\n",
              "      border-radius: 50%;\n",
              "      cursor: pointer;\n",
              "      display: none;\n",
              "      fill: #1967D2;\n",
              "      height: 32px;\n",
              "      padding: 0 0 0 0;\n",
              "      width: 32px;\n",
              "    }\n",
              "\n",
              "    .colab-df-convert:hover {\n",
              "      background-color: #E2EBFA;\n",
              "      box-shadow: 0px 1px 2px rgba(60, 64, 67, 0.3), 0px 1px 3px 1px rgba(60, 64, 67, 0.15);\n",
              "      fill: #174EA6;\n",
              "    }\n",
              "\n",
              "    [theme=dark] .colab-df-convert {\n",
              "      background-color: #3B4455;\n",
              "      fill: #D2E3FC;\n",
              "    }\n",
              "\n",
              "    [theme=dark] .colab-df-convert:hover {\n",
              "      background-color: #434B5C;\n",
              "      box-shadow: 0px 1px 3px 1px rgba(0, 0, 0, 0.15);\n",
              "      filter: drop-shadow(0px 1px 2px rgba(0, 0, 0, 0.3));\n",
              "      fill: #FFFFFF;\n",
              "    }\n",
              "  </style>\n",
              "\n",
              "      <script>\n",
              "        const buttonEl =\n",
              "          document.querySelector('#df-096a513b-dd1d-46d3-9e51-0a97752fe7f9 button.colab-df-convert');\n",
              "        buttonEl.style.display =\n",
              "          google.colab.kernel.accessAllowed ? 'block' : 'none';\n",
              "\n",
              "        async function convertToInteractive(key) {\n",
              "          const element = document.querySelector('#df-096a513b-dd1d-46d3-9e51-0a97752fe7f9');\n",
              "          const dataTable =\n",
              "            await google.colab.kernel.invokeFunction('convertToInteractive',\n",
              "                                                     [key], {});\n",
              "          if (!dataTable) return;\n",
              "\n",
              "          const docLinkHtml = 'Like what you see? Visit the ' +\n",
              "            '<a target=\"_blank\" href=https://colab.research.google.com/notebooks/data_table.ipynb>data table notebook</a>'\n",
              "            + ' to learn more about interactive tables.';\n",
              "          element.innerHTML = '';\n",
              "          dataTable['output_type'] = 'display_data';\n",
              "          await google.colab.output.renderOutput(dataTable, element);\n",
              "          const docLink = document.createElement('div');\n",
              "          docLink.innerHTML = docLinkHtml;\n",
              "          element.appendChild(docLink);\n",
              "        }\n",
              "      </script>\n",
              "    </div>\n",
              "  </div>\n",
              "  "
            ]
          },
          "metadata": {},
          "execution_count": 127
        }
      ]
    },
    {
      "cell_type": "code",
      "source": [
        "# reset the index of df, use the column name as index\n",
        "\n",
        "df1 = df1.set_index('name')\n",
        "print('the new shape of df1 is: ', df1.shape)\n",
        "print('')\n",
        "df1"
      ],
      "metadata": {
        "id": "jv7Kheu60Yrx",
        "outputId": "d196e2d7-4a70-4287-9b66-b16268813f53",
        "colab": {
          "base_uri": "https://localhost:8080/",
          "height": 272
        }
      },
      "execution_count": 128,
      "outputs": [
        {
          "output_type": "stream",
          "name": "stdout",
          "text": [
            "the new shape of df1 is:  (5, 3)\n",
            "\n"
          ]
        },
        {
          "output_type": "execute_result",
          "data": {
            "text/plain": [
              "        age    city  country\n",
              "name                        \n",
              "Jess     30   Paris   France\n",
              "Nick     35  Berlin  Germany\n",
              "Winston  40  Madrid    Spain\n",
              "Tom      27   Paris   France\n",
              "Alex     52  London       UK"
            ],
            "text/html": [
              "\n",
              "  <div id=\"df-65aef6f0-3b2c-484f-80da-c50aeb0c8d08\">\n",
              "    <div class=\"colab-df-container\">\n",
              "      <div>\n",
              "<style scoped>\n",
              "    .dataframe tbody tr th:only-of-type {\n",
              "        vertical-align: middle;\n",
              "    }\n",
              "\n",
              "    .dataframe tbody tr th {\n",
              "        vertical-align: top;\n",
              "    }\n",
              "\n",
              "    .dataframe thead th {\n",
              "        text-align: right;\n",
              "    }\n",
              "</style>\n",
              "<table border=\"1\" class=\"dataframe\">\n",
              "  <thead>\n",
              "    <tr style=\"text-align: right;\">\n",
              "      <th></th>\n",
              "      <th>age</th>\n",
              "      <th>city</th>\n",
              "      <th>country</th>\n",
              "    </tr>\n",
              "    <tr>\n",
              "      <th>name</th>\n",
              "      <th></th>\n",
              "      <th></th>\n",
              "      <th></th>\n",
              "    </tr>\n",
              "  </thead>\n",
              "  <tbody>\n",
              "    <tr>\n",
              "      <th>Jess</th>\n",
              "      <td>30</td>\n",
              "      <td>Paris</td>\n",
              "      <td>France</td>\n",
              "    </tr>\n",
              "    <tr>\n",
              "      <th>Nick</th>\n",
              "      <td>35</td>\n",
              "      <td>Berlin</td>\n",
              "      <td>Germany</td>\n",
              "    </tr>\n",
              "    <tr>\n",
              "      <th>Winston</th>\n",
              "      <td>40</td>\n",
              "      <td>Madrid</td>\n",
              "      <td>Spain</td>\n",
              "    </tr>\n",
              "    <tr>\n",
              "      <th>Tom</th>\n",
              "      <td>27</td>\n",
              "      <td>Paris</td>\n",
              "      <td>France</td>\n",
              "    </tr>\n",
              "    <tr>\n",
              "      <th>Alex</th>\n",
              "      <td>52</td>\n",
              "      <td>London</td>\n",
              "      <td>UK</td>\n",
              "    </tr>\n",
              "  </tbody>\n",
              "</table>\n",
              "</div>\n",
              "      <button class=\"colab-df-convert\" onclick=\"convertToInteractive('df-65aef6f0-3b2c-484f-80da-c50aeb0c8d08')\"\n",
              "              title=\"Convert this dataframe to an interactive table.\"\n",
              "              style=\"display:none;\">\n",
              "        \n",
              "  <svg xmlns=\"http://www.w3.org/2000/svg\" height=\"24px\"viewBox=\"0 0 24 24\"\n",
              "       width=\"24px\">\n",
              "    <path d=\"M0 0h24v24H0V0z\" fill=\"none\"/>\n",
              "    <path d=\"M18.56 5.44l.94 2.06.94-2.06 2.06-.94-2.06-.94-.94-2.06-.94 2.06-2.06.94zm-11 1L8.5 8.5l.94-2.06 2.06-.94-2.06-.94L8.5 2.5l-.94 2.06-2.06.94zm10 10l.94 2.06.94-2.06 2.06-.94-2.06-.94-.94-2.06-.94 2.06-2.06.94z\"/><path d=\"M17.41 7.96l-1.37-1.37c-.4-.4-.92-.59-1.43-.59-.52 0-1.04.2-1.43.59L10.3 9.45l-7.72 7.72c-.78.78-.78 2.05 0 2.83L4 21.41c.39.39.9.59 1.41.59.51 0 1.02-.2 1.41-.59l7.78-7.78 2.81-2.81c.8-.78.8-2.07 0-2.86zM5.41 20L4 18.59l7.72-7.72 1.47 1.35L5.41 20z\"/>\n",
              "  </svg>\n",
              "      </button>\n",
              "      \n",
              "  <style>\n",
              "    .colab-df-container {\n",
              "      display:flex;\n",
              "      flex-wrap:wrap;\n",
              "      gap: 12px;\n",
              "    }\n",
              "\n",
              "    .colab-df-convert {\n",
              "      background-color: #E8F0FE;\n",
              "      border: none;\n",
              "      border-radius: 50%;\n",
              "      cursor: pointer;\n",
              "      display: none;\n",
              "      fill: #1967D2;\n",
              "      height: 32px;\n",
              "      padding: 0 0 0 0;\n",
              "      width: 32px;\n",
              "    }\n",
              "\n",
              "    .colab-df-convert:hover {\n",
              "      background-color: #E2EBFA;\n",
              "      box-shadow: 0px 1px 2px rgba(60, 64, 67, 0.3), 0px 1px 3px 1px rgba(60, 64, 67, 0.15);\n",
              "      fill: #174EA6;\n",
              "    }\n",
              "\n",
              "    [theme=dark] .colab-df-convert {\n",
              "      background-color: #3B4455;\n",
              "      fill: #D2E3FC;\n",
              "    }\n",
              "\n",
              "    [theme=dark] .colab-df-convert:hover {\n",
              "      background-color: #434B5C;\n",
              "      box-shadow: 0px 1px 3px 1px rgba(0, 0, 0, 0.15);\n",
              "      filter: drop-shadow(0px 1px 2px rgba(0, 0, 0, 0.3));\n",
              "      fill: #FFFFFF;\n",
              "    }\n",
              "  </style>\n",
              "\n",
              "      <script>\n",
              "        const buttonEl =\n",
              "          document.querySelector('#df-65aef6f0-3b2c-484f-80da-c50aeb0c8d08 button.colab-df-convert');\n",
              "        buttonEl.style.display =\n",
              "          google.colab.kernel.accessAllowed ? 'block' : 'none';\n",
              "\n",
              "        async function convertToInteractive(key) {\n",
              "          const element = document.querySelector('#df-65aef6f0-3b2c-484f-80da-c50aeb0c8d08');\n",
              "          const dataTable =\n",
              "            await google.colab.kernel.invokeFunction('convertToInteractive',\n",
              "                                                     [key], {});\n",
              "          if (!dataTable) return;\n",
              "\n",
              "          const docLinkHtml = 'Like what you see? Visit the ' +\n",
              "            '<a target=\"_blank\" href=https://colab.research.google.com/notebooks/data_table.ipynb>data table notebook</a>'\n",
              "            + ' to learn more about interactive tables.';\n",
              "          element.innerHTML = '';\n",
              "          dataTable['output_type'] = 'display_data';\n",
              "          await google.colab.output.renderOutput(dataTable, element);\n",
              "          const docLink = document.createElement('div');\n",
              "          docLink.innerHTML = docLinkHtml;\n",
              "          element.appendChild(docLink);\n",
              "        }\n",
              "      </script>\n",
              "    </div>\n",
              "  </div>\n",
              "  "
            ]
          },
          "metadata": {},
          "execution_count": 128
        }
      ]
    },
    {
      "cell_type": "code",
      "execution_count": 129,
      "metadata": {
        "id": "-sFSyWUiUM2W",
        "outputId": "ea5ea1e6-5673-4880-d548-12af65fd6600",
        "colab": {
          "base_uri": "https://localhost:8080/",
          "height": 192
        }
      },
      "outputs": [
        {
          "output_type": "stream",
          "name": "stdout",
          "text": [
            "        age    city  country\n",
            "name                        \n",
            "Jess     30   Paris   France\n",
            "Nick     35  Berlin  Germany\n",
            "Winston  40  Madrid    Spain\n",
            "Tom      27   Paris   France\n",
            "Alex     52  London       UK\n",
            "\n",
            "The country of Nick is: ... \n"
          ]
        },
        {
          "output_type": "execute_result",
          "data": {
            "text/plain": [
              "'Germany'"
            ],
            "application/vnd.google.colaboratory.intrinsic+json": {
              "type": "string"
            }
          },
          "metadata": {},
          "execution_count": 129
        }
      ],
      "source": [
        "# access an element by labels\n",
        "\n",
        "print(df1)\n",
        "print('')\n",
        "print('The country of Nick is: ... ')\n",
        "df1.loc['Nick', 'country']"
      ]
    },
    {
      "cell_type": "code",
      "source": [
        "# access a range of elements by labels\n",
        "print(df1)\n",
        "print('')\n",
        "print('The countris of Nick and Winston is: ... ')\n",
        "df1.loc['Nick':'Tom', 'country']\n"
      ],
      "metadata": {
        "id": "aLnMucbz0XRT",
        "outputId": "1d767c21-804d-48dd-b6f7-30b9923325f4",
        "colab": {
          "base_uri": "https://localhost:8080/"
        }
      },
      "execution_count": 130,
      "outputs": [
        {
          "output_type": "stream",
          "name": "stdout",
          "text": [
            "        age    city  country\n",
            "name                        \n",
            "Jess     30   Paris   France\n",
            "Nick     35  Berlin  Germany\n",
            "Winston  40  Madrid    Spain\n",
            "Tom      27   Paris   France\n",
            "Alex     52  London       UK\n",
            "\n",
            "The countris of Nick and Winston is: ... \n"
          ]
        },
        {
          "output_type": "execute_result",
          "data": {
            "text/plain": [
              "name\n",
              "Nick       Germany\n",
              "Winston      Spain\n",
              "Tom         France\n",
              "Name: country, dtype: object"
            ]
          },
          "metadata": {},
          "execution_count": 130
        }
      ]
    },
    {
      "cell_type": "code",
      "execution_count": 131,
      "metadata": {
        "id": "hAS784HJUTsa",
        "outputId": "f4eff3a2-fc47-45fd-a17a-eaa3f2e9083b",
        "colab": {
          "base_uri": "https://localhost:8080/"
        }
      },
      "outputs": [
        {
          "output_type": "execute_result",
          "data": {
            "text/plain": [
              "name\n",
              "Alex         UK\n",
              "Nick    Germany\n",
              "Name: country, dtype: object"
            ]
          },
          "metadata": {},
          "execution_count": 131
        }
      ],
      "source": [
        "# the country of specific rows\n",
        "\n",
        "df1.loc[['Alex', 'Nick'], 'country']"
      ]
    },
    {
      "cell_type": "code",
      "source": [
        "# the country and city of specific rows\n",
        "\n",
        "df1.loc[['Alex', 'Nick'], ['country', 'city']]"
      ],
      "metadata": {
        "id": "GqJ-vGab68fm",
        "outputId": "d6b1aee0-e8dd-4dbd-9148-6c485d4df33f",
        "colab": {
          "base_uri": "https://localhost:8080/",
          "height": 143
        }
      },
      "execution_count": 132,
      "outputs": [
        {
          "output_type": "execute_result",
          "data": {
            "text/plain": [
              "      country    city\n",
              "name                 \n",
              "Alex       UK  London\n",
              "Nick  Germany  Berlin"
            ],
            "text/html": [
              "\n",
              "  <div id=\"df-13c3ef11-52ad-4d7a-9b88-c6247b3ac477\">\n",
              "    <div class=\"colab-df-container\">\n",
              "      <div>\n",
              "<style scoped>\n",
              "    .dataframe tbody tr th:only-of-type {\n",
              "        vertical-align: middle;\n",
              "    }\n",
              "\n",
              "    .dataframe tbody tr th {\n",
              "        vertical-align: top;\n",
              "    }\n",
              "\n",
              "    .dataframe thead th {\n",
              "        text-align: right;\n",
              "    }\n",
              "</style>\n",
              "<table border=\"1\" class=\"dataframe\">\n",
              "  <thead>\n",
              "    <tr style=\"text-align: right;\">\n",
              "      <th></th>\n",
              "      <th>country</th>\n",
              "      <th>city</th>\n",
              "    </tr>\n",
              "    <tr>\n",
              "      <th>name</th>\n",
              "      <th></th>\n",
              "      <th></th>\n",
              "    </tr>\n",
              "  </thead>\n",
              "  <tbody>\n",
              "    <tr>\n",
              "      <th>Alex</th>\n",
              "      <td>UK</td>\n",
              "      <td>London</td>\n",
              "    </tr>\n",
              "    <tr>\n",
              "      <th>Nick</th>\n",
              "      <td>Germany</td>\n",
              "      <td>Berlin</td>\n",
              "    </tr>\n",
              "  </tbody>\n",
              "</table>\n",
              "</div>\n",
              "      <button class=\"colab-df-convert\" onclick=\"convertToInteractive('df-13c3ef11-52ad-4d7a-9b88-c6247b3ac477')\"\n",
              "              title=\"Convert this dataframe to an interactive table.\"\n",
              "              style=\"display:none;\">\n",
              "        \n",
              "  <svg xmlns=\"http://www.w3.org/2000/svg\" height=\"24px\"viewBox=\"0 0 24 24\"\n",
              "       width=\"24px\">\n",
              "    <path d=\"M0 0h24v24H0V0z\" fill=\"none\"/>\n",
              "    <path d=\"M18.56 5.44l.94 2.06.94-2.06 2.06-.94-2.06-.94-.94-2.06-.94 2.06-2.06.94zm-11 1L8.5 8.5l.94-2.06 2.06-.94-2.06-.94L8.5 2.5l-.94 2.06-2.06.94zm10 10l.94 2.06.94-2.06 2.06-.94-2.06-.94-.94-2.06-.94 2.06-2.06.94z\"/><path d=\"M17.41 7.96l-1.37-1.37c-.4-.4-.92-.59-1.43-.59-.52 0-1.04.2-1.43.59L10.3 9.45l-7.72 7.72c-.78.78-.78 2.05 0 2.83L4 21.41c.39.39.9.59 1.41.59.51 0 1.02-.2 1.41-.59l7.78-7.78 2.81-2.81c.8-.78.8-2.07 0-2.86zM5.41 20L4 18.59l7.72-7.72 1.47 1.35L5.41 20z\"/>\n",
              "  </svg>\n",
              "      </button>\n",
              "      \n",
              "  <style>\n",
              "    .colab-df-container {\n",
              "      display:flex;\n",
              "      flex-wrap:wrap;\n",
              "      gap: 12px;\n",
              "    }\n",
              "\n",
              "    .colab-df-convert {\n",
              "      background-color: #E8F0FE;\n",
              "      border: none;\n",
              "      border-radius: 50%;\n",
              "      cursor: pointer;\n",
              "      display: none;\n",
              "      fill: #1967D2;\n",
              "      height: 32px;\n",
              "      padding: 0 0 0 0;\n",
              "      width: 32px;\n",
              "    }\n",
              "\n",
              "    .colab-df-convert:hover {\n",
              "      background-color: #E2EBFA;\n",
              "      box-shadow: 0px 1px 2px rgba(60, 64, 67, 0.3), 0px 1px 3px 1px rgba(60, 64, 67, 0.15);\n",
              "      fill: #174EA6;\n",
              "    }\n",
              "\n",
              "    [theme=dark] .colab-df-convert {\n",
              "      background-color: #3B4455;\n",
              "      fill: #D2E3FC;\n",
              "    }\n",
              "\n",
              "    [theme=dark] .colab-df-convert:hover {\n",
              "      background-color: #434B5C;\n",
              "      box-shadow: 0px 1px 3px 1px rgba(0, 0, 0, 0.15);\n",
              "      filter: drop-shadow(0px 1px 2px rgba(0, 0, 0, 0.3));\n",
              "      fill: #FFFFFF;\n",
              "    }\n",
              "  </style>\n",
              "\n",
              "      <script>\n",
              "        const buttonEl =\n",
              "          document.querySelector('#df-13c3ef11-52ad-4d7a-9b88-c6247b3ac477 button.colab-df-convert');\n",
              "        buttonEl.style.display =\n",
              "          google.colab.kernel.accessAllowed ? 'block' : 'none';\n",
              "\n",
              "        async function convertToInteractive(key) {\n",
              "          const element = document.querySelector('#df-13c3ef11-52ad-4d7a-9b88-c6247b3ac477');\n",
              "          const dataTable =\n",
              "            await google.colab.kernel.invokeFunction('convertToInteractive',\n",
              "                                                     [key], {});\n",
              "          if (!dataTable) return;\n",
              "\n",
              "          const docLinkHtml = 'Like what you see? Visit the ' +\n",
              "            '<a target=\"_blank\" href=https://colab.research.google.com/notebooks/data_table.ipynb>data table notebook</a>'\n",
              "            + ' to learn more about interactive tables.';\n",
              "          element.innerHTML = '';\n",
              "          dataTable['output_type'] = 'display_data';\n",
              "          await google.colab.output.renderOutput(dataTable, element);\n",
              "          const docLink = document.createElement('div');\n",
              "          docLink.innerHTML = docLinkHtml;\n",
              "          element.appendChild(docLink);\n",
              "        }\n",
              "      </script>\n",
              "    </div>\n",
              "  </div>\n",
              "  "
            ]
          },
          "metadata": {},
          "execution_count": 132
        }
      ]
    },
    {
      "cell_type": "markdown",
      "source": [
        "More about locations https://towardsdatascience.com/how-to-use-loc-and-iloc-for-selecting-data-in-pandas-bd09cb4c3d79\n",
        "\n",
        "https://www.tutorialspoint.com/how-to-access-pandas-dataframe-elements-using-the-loc-attribute\n",
        "\n",
        "https://www.tutorialspoint.com/how-to-access-pandas-dataframe-elements-using-the-iloc-attribute"
      ],
      "metadata": {
        "id": "8w69PGY29rJv"
      }
    },
    {
      "cell_type": "markdown",
      "metadata": {
        "id": "ak4ZKHL5WPFB"
      },
      "source": [
        "## Filter"
      ]
    },
    {
      "cell_type": "code",
      "execution_count": 133,
      "metadata": {
        "id": "c6kUmHEKVxYQ",
        "outputId": "10b2d38a-92a1-450f-91bf-52bca5900b9b",
        "colab": {
          "base_uri": "https://localhost:8080/",
          "height": 143
        }
      },
      "outputs": [
        {
          "output_type": "execute_result",
          "data": {
            "text/plain": [
              "     age   city country\n",
              "name                   \n",
              "Jess  30  Paris  France\n",
              "Tom   27  Paris  France"
            ],
            "text/html": [
              "\n",
              "  <div id=\"df-6ff1c4b9-48e7-459e-8334-f148937177fc\">\n",
              "    <div class=\"colab-df-container\">\n",
              "      <div>\n",
              "<style scoped>\n",
              "    .dataframe tbody tr th:only-of-type {\n",
              "        vertical-align: middle;\n",
              "    }\n",
              "\n",
              "    .dataframe tbody tr th {\n",
              "        vertical-align: top;\n",
              "    }\n",
              "\n",
              "    .dataframe thead th {\n",
              "        text-align: right;\n",
              "    }\n",
              "</style>\n",
              "<table border=\"1\" class=\"dataframe\">\n",
              "  <thead>\n",
              "    <tr style=\"text-align: right;\">\n",
              "      <th></th>\n",
              "      <th>age</th>\n",
              "      <th>city</th>\n",
              "      <th>country</th>\n",
              "    </tr>\n",
              "    <tr>\n",
              "      <th>name</th>\n",
              "      <th></th>\n",
              "      <th></th>\n",
              "      <th></th>\n",
              "    </tr>\n",
              "  </thead>\n",
              "  <tbody>\n",
              "    <tr>\n",
              "      <th>Jess</th>\n",
              "      <td>30</td>\n",
              "      <td>Paris</td>\n",
              "      <td>France</td>\n",
              "    </tr>\n",
              "    <tr>\n",
              "      <th>Tom</th>\n",
              "      <td>27</td>\n",
              "      <td>Paris</td>\n",
              "      <td>France</td>\n",
              "    </tr>\n",
              "  </tbody>\n",
              "</table>\n",
              "</div>\n",
              "      <button class=\"colab-df-convert\" onclick=\"convertToInteractive('df-6ff1c4b9-48e7-459e-8334-f148937177fc')\"\n",
              "              title=\"Convert this dataframe to an interactive table.\"\n",
              "              style=\"display:none;\">\n",
              "        \n",
              "  <svg xmlns=\"http://www.w3.org/2000/svg\" height=\"24px\"viewBox=\"0 0 24 24\"\n",
              "       width=\"24px\">\n",
              "    <path d=\"M0 0h24v24H0V0z\" fill=\"none\"/>\n",
              "    <path d=\"M18.56 5.44l.94 2.06.94-2.06 2.06-.94-2.06-.94-.94-2.06-.94 2.06-2.06.94zm-11 1L8.5 8.5l.94-2.06 2.06-.94-2.06-.94L8.5 2.5l-.94 2.06-2.06.94zm10 10l.94 2.06.94-2.06 2.06-.94-2.06-.94-.94-2.06-.94 2.06-2.06.94z\"/><path d=\"M17.41 7.96l-1.37-1.37c-.4-.4-.92-.59-1.43-.59-.52 0-1.04.2-1.43.59L10.3 9.45l-7.72 7.72c-.78.78-.78 2.05 0 2.83L4 21.41c.39.39.9.59 1.41.59.51 0 1.02-.2 1.41-.59l7.78-7.78 2.81-2.81c.8-.78.8-2.07 0-2.86zM5.41 20L4 18.59l7.72-7.72 1.47 1.35L5.41 20z\"/>\n",
              "  </svg>\n",
              "      </button>\n",
              "      \n",
              "  <style>\n",
              "    .colab-df-container {\n",
              "      display:flex;\n",
              "      flex-wrap:wrap;\n",
              "      gap: 12px;\n",
              "    }\n",
              "\n",
              "    .colab-df-convert {\n",
              "      background-color: #E8F0FE;\n",
              "      border: none;\n",
              "      border-radius: 50%;\n",
              "      cursor: pointer;\n",
              "      display: none;\n",
              "      fill: #1967D2;\n",
              "      height: 32px;\n",
              "      padding: 0 0 0 0;\n",
              "      width: 32px;\n",
              "    }\n",
              "\n",
              "    .colab-df-convert:hover {\n",
              "      background-color: #E2EBFA;\n",
              "      box-shadow: 0px 1px 2px rgba(60, 64, 67, 0.3), 0px 1px 3px 1px rgba(60, 64, 67, 0.15);\n",
              "      fill: #174EA6;\n",
              "    }\n",
              "\n",
              "    [theme=dark] .colab-df-convert {\n",
              "      background-color: #3B4455;\n",
              "      fill: #D2E3FC;\n",
              "    }\n",
              "\n",
              "    [theme=dark] .colab-df-convert:hover {\n",
              "      background-color: #434B5C;\n",
              "      box-shadow: 0px 1px 3px 1px rgba(0, 0, 0, 0.15);\n",
              "      filter: drop-shadow(0px 1px 2px rgba(0, 0, 0, 0.3));\n",
              "      fill: #FFFFFF;\n",
              "    }\n",
              "  </style>\n",
              "\n",
              "      <script>\n",
              "        const buttonEl =\n",
              "          document.querySelector('#df-6ff1c4b9-48e7-459e-8334-f148937177fc button.colab-df-convert');\n",
              "        buttonEl.style.display =\n",
              "          google.colab.kernel.accessAllowed ? 'block' : 'none';\n",
              "\n",
              "        async function convertToInteractive(key) {\n",
              "          const element = document.querySelector('#df-6ff1c4b9-48e7-459e-8334-f148937177fc');\n",
              "          const dataTable =\n",
              "            await google.colab.kernel.invokeFunction('convertToInteractive',\n",
              "                                                     [key], {});\n",
              "          if (!dataTable) return;\n",
              "\n",
              "          const docLinkHtml = 'Like what you see? Visit the ' +\n",
              "            '<a target=\"_blank\" href=https://colab.research.google.com/notebooks/data_table.ipynb>data table notebook</a>'\n",
              "            + ' to learn more about interactive tables.';\n",
              "          element.innerHTML = '';\n",
              "          dataTable['output_type'] = 'display_data';\n",
              "          await google.colab.output.renderOutput(dataTable, element);\n",
              "          const docLink = document.createElement('div');\n",
              "          docLink.innerHTML = docLinkHtml;\n",
              "          element.appendChild(docLink);\n",
              "        }\n",
              "      </script>\n",
              "    </div>\n",
              "  </div>\n",
              "  "
            ]
          },
          "metadata": {},
          "execution_count": 133
        }
      ],
      "source": [
        "# filter all data that are in Paris\n",
        "\n",
        "df1[df1['city']=='Paris']"
      ]
    },
    {
      "cell_type": "markdown",
      "metadata": {
        "id": "nQMIX8T4WujJ"
      },
      "source": [
        "## Join dataframes"
      ]
    },
    {
      "cell_type": "code",
      "execution_count": 134,
      "metadata": {
        "id": "W3dCne-CWc9v",
        "outputId": "4b531083-5ad4-4ac6-cef3-3d5a568e8d39",
        "colab": {
          "base_uri": "https://localhost:8080/",
          "height": 112
        }
      },
      "outputs": [
        {
          "output_type": "execute_result",
          "data": {
            "text/plain": [
              "     prénom age    city pays\n",
              "0   Matthew  32  London   UK\n",
              "1  Philippe  45  London   UK"
            ],
            "text/html": [
              "\n",
              "  <div id=\"df-aec4fd2f-dc02-4be2-93b5-89f68510cdb4\">\n",
              "    <div class=\"colab-df-container\">\n",
              "      <div>\n",
              "<style scoped>\n",
              "    .dataframe tbody tr th:only-of-type {\n",
              "        vertical-align: middle;\n",
              "    }\n",
              "\n",
              "    .dataframe tbody tr th {\n",
              "        vertical-align: top;\n",
              "    }\n",
              "\n",
              "    .dataframe thead th {\n",
              "        text-align: right;\n",
              "    }\n",
              "</style>\n",
              "<table border=\"1\" class=\"dataframe\">\n",
              "  <thead>\n",
              "    <tr style=\"text-align: right;\">\n",
              "      <th></th>\n",
              "      <th>prénom</th>\n",
              "      <th>age</th>\n",
              "      <th>city</th>\n",
              "      <th>pays</th>\n",
              "    </tr>\n",
              "  </thead>\n",
              "  <tbody>\n",
              "    <tr>\n",
              "      <th>0</th>\n",
              "      <td>Matthew</td>\n",
              "      <td>32</td>\n",
              "      <td>London</td>\n",
              "      <td>UK</td>\n",
              "    </tr>\n",
              "    <tr>\n",
              "      <th>1</th>\n",
              "      <td>Philippe</td>\n",
              "      <td>45</td>\n",
              "      <td>London</td>\n",
              "      <td>UK</td>\n",
              "    </tr>\n",
              "  </tbody>\n",
              "</table>\n",
              "</div>\n",
              "      <button class=\"colab-df-convert\" onclick=\"convertToInteractive('df-aec4fd2f-dc02-4be2-93b5-89f68510cdb4')\"\n",
              "              title=\"Convert this dataframe to an interactive table.\"\n",
              "              style=\"display:none;\">\n",
              "        \n",
              "  <svg xmlns=\"http://www.w3.org/2000/svg\" height=\"24px\"viewBox=\"0 0 24 24\"\n",
              "       width=\"24px\">\n",
              "    <path d=\"M0 0h24v24H0V0z\" fill=\"none\"/>\n",
              "    <path d=\"M18.56 5.44l.94 2.06.94-2.06 2.06-.94-2.06-.94-.94-2.06-.94 2.06-2.06.94zm-11 1L8.5 8.5l.94-2.06 2.06-.94-2.06-.94L8.5 2.5l-.94 2.06-2.06.94zm10 10l.94 2.06.94-2.06 2.06-.94-2.06-.94-.94-2.06-.94 2.06-2.06.94z\"/><path d=\"M17.41 7.96l-1.37-1.37c-.4-.4-.92-.59-1.43-.59-.52 0-1.04.2-1.43.59L10.3 9.45l-7.72 7.72c-.78.78-.78 2.05 0 2.83L4 21.41c.39.39.9.59 1.41.59.51 0 1.02-.2 1.41-.59l7.78-7.78 2.81-2.81c.8-.78.8-2.07 0-2.86zM5.41 20L4 18.59l7.72-7.72 1.47 1.35L5.41 20z\"/>\n",
              "  </svg>\n",
              "      </button>\n",
              "      \n",
              "  <style>\n",
              "    .colab-df-container {\n",
              "      display:flex;\n",
              "      flex-wrap:wrap;\n",
              "      gap: 12px;\n",
              "    }\n",
              "\n",
              "    .colab-df-convert {\n",
              "      background-color: #E8F0FE;\n",
              "      border: none;\n",
              "      border-radius: 50%;\n",
              "      cursor: pointer;\n",
              "      display: none;\n",
              "      fill: #1967D2;\n",
              "      height: 32px;\n",
              "      padding: 0 0 0 0;\n",
              "      width: 32px;\n",
              "    }\n",
              "\n",
              "    .colab-df-convert:hover {\n",
              "      background-color: #E2EBFA;\n",
              "      box-shadow: 0px 1px 2px rgba(60, 64, 67, 0.3), 0px 1px 3px 1px rgba(60, 64, 67, 0.15);\n",
              "      fill: #174EA6;\n",
              "    }\n",
              "\n",
              "    [theme=dark] .colab-df-convert {\n",
              "      background-color: #3B4455;\n",
              "      fill: #D2E3FC;\n",
              "    }\n",
              "\n",
              "    [theme=dark] .colab-df-convert:hover {\n",
              "      background-color: #434B5C;\n",
              "      box-shadow: 0px 1px 3px 1px rgba(0, 0, 0, 0.15);\n",
              "      filter: drop-shadow(0px 1px 2px rgba(0, 0, 0, 0.3));\n",
              "      fill: #FFFFFF;\n",
              "    }\n",
              "  </style>\n",
              "\n",
              "      <script>\n",
              "        const buttonEl =\n",
              "          document.querySelector('#df-aec4fd2f-dc02-4be2-93b5-89f68510cdb4 button.colab-df-convert');\n",
              "        buttonEl.style.display =\n",
              "          google.colab.kernel.accessAllowed ? 'block' : 'none';\n",
              "\n",
              "        async function convertToInteractive(key) {\n",
              "          const element = document.querySelector('#df-aec4fd2f-dc02-4be2-93b5-89f68510cdb4');\n",
              "          const dataTable =\n",
              "            await google.colab.kernel.invokeFunction('convertToInteractive',\n",
              "                                                     [key], {});\n",
              "          if (!dataTable) return;\n",
              "\n",
              "          const docLinkHtml = 'Like what you see? Visit the ' +\n",
              "            '<a target=\"_blank\" href=https://colab.research.google.com/notebooks/data_table.ipynb>data table notebook</a>'\n",
              "            + ' to learn more about interactive tables.';\n",
              "          element.innerHTML = '';\n",
              "          dataTable['output_type'] = 'display_data';\n",
              "          await google.colab.output.renderOutput(dataTable, element);\n",
              "          const docLink = document.createElement('div');\n",
              "          docLink.innerHTML = docLinkHtml;\n",
              "          element.appendChild(docLink);\n",
              "        }\n",
              "      </script>\n",
              "    </div>\n",
              "  </div>\n",
              "  "
            ]
          },
          "metadata": {},
          "execution_count": 134
        }
      ],
      "source": [
        "dataframe_1 = {\"prénom\":['Matthew', 'Philippe'],\n",
        "              \"age\":['32', '45'],\n",
        "              \"city\":['London', 'London'],\n",
        "               \"pays\": ['UK', 'UK']}\n",
        "\n",
        "df2 = pd.DataFrame(dataframe_1)\n",
        "\n",
        "df2.head()"
      ]
    },
    {
      "cell_type": "code",
      "execution_count": 135,
      "metadata": {
        "id": "xIvXdfzNXCCq",
        "outputId": "ceaa97d7-86d8-4704-bfb3-0d8dd28b1457",
        "colab": {
          "base_uri": "https://localhost:8080/"
        }
      },
      "outputs": [
        {
          "output_type": "stream",
          "name": "stdout",
          "text": [
            "Index(['prénom', 'age', 'city', 'pays'], dtype='object')\n"
          ]
        }
      ],
      "source": [
        "print(df2.columns)"
      ]
    },
    {
      "cell_type": "code",
      "execution_count": 136,
      "metadata": {
        "id": "_ARwE949XNVH",
        "outputId": "47eec748-dc52-4355-89d0-f00703b15725",
        "colab": {
          "base_uri": "https://localhost:8080/",
          "height": 112
        }
      },
      "outputs": [
        {
          "output_type": "execute_result",
          "data": {
            "text/plain": [
              "       name age    city country\n",
              "0   Matthew  32  London      UK\n",
              "1  Philippe  45  London      UK"
            ],
            "text/html": [
              "\n",
              "  <div id=\"df-41418e58-dbee-4018-9970-17d6a30074d0\">\n",
              "    <div class=\"colab-df-container\">\n",
              "      <div>\n",
              "<style scoped>\n",
              "    .dataframe tbody tr th:only-of-type {\n",
              "        vertical-align: middle;\n",
              "    }\n",
              "\n",
              "    .dataframe tbody tr th {\n",
              "        vertical-align: top;\n",
              "    }\n",
              "\n",
              "    .dataframe thead th {\n",
              "        text-align: right;\n",
              "    }\n",
              "</style>\n",
              "<table border=\"1\" class=\"dataframe\">\n",
              "  <thead>\n",
              "    <tr style=\"text-align: right;\">\n",
              "      <th></th>\n",
              "      <th>name</th>\n",
              "      <th>age</th>\n",
              "      <th>city</th>\n",
              "      <th>country</th>\n",
              "    </tr>\n",
              "  </thead>\n",
              "  <tbody>\n",
              "    <tr>\n",
              "      <th>0</th>\n",
              "      <td>Matthew</td>\n",
              "      <td>32</td>\n",
              "      <td>London</td>\n",
              "      <td>UK</td>\n",
              "    </tr>\n",
              "    <tr>\n",
              "      <th>1</th>\n",
              "      <td>Philippe</td>\n",
              "      <td>45</td>\n",
              "      <td>London</td>\n",
              "      <td>UK</td>\n",
              "    </tr>\n",
              "  </tbody>\n",
              "</table>\n",
              "</div>\n",
              "      <button class=\"colab-df-convert\" onclick=\"convertToInteractive('df-41418e58-dbee-4018-9970-17d6a30074d0')\"\n",
              "              title=\"Convert this dataframe to an interactive table.\"\n",
              "              style=\"display:none;\">\n",
              "        \n",
              "  <svg xmlns=\"http://www.w3.org/2000/svg\" height=\"24px\"viewBox=\"0 0 24 24\"\n",
              "       width=\"24px\">\n",
              "    <path d=\"M0 0h24v24H0V0z\" fill=\"none\"/>\n",
              "    <path d=\"M18.56 5.44l.94 2.06.94-2.06 2.06-.94-2.06-.94-.94-2.06-.94 2.06-2.06.94zm-11 1L8.5 8.5l.94-2.06 2.06-.94-2.06-.94L8.5 2.5l-.94 2.06-2.06.94zm10 10l.94 2.06.94-2.06 2.06-.94-2.06-.94-.94-2.06-.94 2.06-2.06.94z\"/><path d=\"M17.41 7.96l-1.37-1.37c-.4-.4-.92-.59-1.43-.59-.52 0-1.04.2-1.43.59L10.3 9.45l-7.72 7.72c-.78.78-.78 2.05 0 2.83L4 21.41c.39.39.9.59 1.41.59.51 0 1.02-.2 1.41-.59l7.78-7.78 2.81-2.81c.8-.78.8-2.07 0-2.86zM5.41 20L4 18.59l7.72-7.72 1.47 1.35L5.41 20z\"/>\n",
              "  </svg>\n",
              "      </button>\n",
              "      \n",
              "  <style>\n",
              "    .colab-df-container {\n",
              "      display:flex;\n",
              "      flex-wrap:wrap;\n",
              "      gap: 12px;\n",
              "    }\n",
              "\n",
              "    .colab-df-convert {\n",
              "      background-color: #E8F0FE;\n",
              "      border: none;\n",
              "      border-radius: 50%;\n",
              "      cursor: pointer;\n",
              "      display: none;\n",
              "      fill: #1967D2;\n",
              "      height: 32px;\n",
              "      padding: 0 0 0 0;\n",
              "      width: 32px;\n",
              "    }\n",
              "\n",
              "    .colab-df-convert:hover {\n",
              "      background-color: #E2EBFA;\n",
              "      box-shadow: 0px 1px 2px rgba(60, 64, 67, 0.3), 0px 1px 3px 1px rgba(60, 64, 67, 0.15);\n",
              "      fill: #174EA6;\n",
              "    }\n",
              "\n",
              "    [theme=dark] .colab-df-convert {\n",
              "      background-color: #3B4455;\n",
              "      fill: #D2E3FC;\n",
              "    }\n",
              "\n",
              "    [theme=dark] .colab-df-convert:hover {\n",
              "      background-color: #434B5C;\n",
              "      box-shadow: 0px 1px 3px 1px rgba(0, 0, 0, 0.15);\n",
              "      filter: drop-shadow(0px 1px 2px rgba(0, 0, 0, 0.3));\n",
              "      fill: #FFFFFF;\n",
              "    }\n",
              "  </style>\n",
              "\n",
              "      <script>\n",
              "        const buttonEl =\n",
              "          document.querySelector('#df-41418e58-dbee-4018-9970-17d6a30074d0 button.colab-df-convert');\n",
              "        buttonEl.style.display =\n",
              "          google.colab.kernel.accessAllowed ? 'block' : 'none';\n",
              "\n",
              "        async function convertToInteractive(key) {\n",
              "          const element = document.querySelector('#df-41418e58-dbee-4018-9970-17d6a30074d0');\n",
              "          const dataTable =\n",
              "            await google.colab.kernel.invokeFunction('convertToInteractive',\n",
              "                                                     [key], {});\n",
              "          if (!dataTable) return;\n",
              "\n",
              "          const docLinkHtml = 'Like what you see? Visit the ' +\n",
              "            '<a target=\"_blank\" href=https://colab.research.google.com/notebooks/data_table.ipynb>data table notebook</a>'\n",
              "            + ' to learn more about interactive tables.';\n",
              "          element.innerHTML = '';\n",
              "          dataTable['output_type'] = 'display_data';\n",
              "          await google.colab.output.renderOutput(dataTable, element);\n",
              "          const docLink = document.createElement('div');\n",
              "          docLink.innerHTML = docLinkHtml;\n",
              "          element.appendChild(docLink);\n",
              "        }\n",
              "      </script>\n",
              "    </div>\n",
              "  </div>\n",
              "  "
            ]
          },
          "metadata": {},
          "execution_count": 136
        }
      ],
      "source": [
        "# change df columns\n",
        "\n",
        "df2.columns = ['name', 'age', 'city', 'country']\n",
        "df2.head()"
      ]
    },
    {
      "cell_type": "code",
      "source": [
        "#compare both dfs column names\n",
        "\n",
        "print('the column names of 1st df are: ', df1.columns)\n",
        "print('the column names of 2nd df are: ', df2.columns)"
      ],
      "metadata": {
        "id": "5ahVjwLU4J1d",
        "outputId": "a2ddcba0-56ae-4ba4-b222-02b9a69da521",
        "colab": {
          "base_uri": "https://localhost:8080/"
        }
      },
      "execution_count": 137,
      "outputs": [
        {
          "output_type": "stream",
          "name": "stdout",
          "text": [
            "the column names of 1st df are:  Index(['age', 'city', 'country'], dtype='object')\n",
            "the column names of 2nd df are:  Index(['name', 'age', 'city', 'country'], dtype='object')\n"
          ]
        }
      ]
    },
    {
      "cell_type": "code",
      "execution_count": 138,
      "metadata": {
        "id": "U76Y_nvdXf_B",
        "outputId": "39dc5191-7f79-4c91-f910-1c30b7b0a90f",
        "colab": {
          "base_uri": "https://localhost:8080/",
          "height": 373
        }
      },
      "outputs": [
        {
          "output_type": "stream",
          "name": "stdout",
          "text": [
            "the df1 Shape is :  (5, 3)\n",
            "the df2 Shape is :  (2, 4)\n",
            "the new joined Dataframe Shape is :  (7, 4)\n",
            "\n",
            "\n",
            "The output is not what reall wanted as we have NaN values in name columns and not all indices are the names...\n"
          ]
        },
        {
          "output_type": "execute_result",
          "data": {
            "text/plain": [
              "        age    city  country      name\n",
              "Jess     30   Paris   France       NaN\n",
              "Nick     35  Berlin  Germany       NaN\n",
              "Winston  40  Madrid    Spain       NaN\n",
              "Tom      27   Paris   France       NaN\n",
              "Alex     52  London       UK       NaN\n",
              "0        32  London       UK   Matthew\n",
              "1        45  London       UK  Philippe"
            ],
            "text/html": [
              "\n",
              "  <div id=\"df-96c0a826-7c1b-4e51-97d7-8591720ab4d1\">\n",
              "    <div class=\"colab-df-container\">\n",
              "      <div>\n",
              "<style scoped>\n",
              "    .dataframe tbody tr th:only-of-type {\n",
              "        vertical-align: middle;\n",
              "    }\n",
              "\n",
              "    .dataframe tbody tr th {\n",
              "        vertical-align: top;\n",
              "    }\n",
              "\n",
              "    .dataframe thead th {\n",
              "        text-align: right;\n",
              "    }\n",
              "</style>\n",
              "<table border=\"1\" class=\"dataframe\">\n",
              "  <thead>\n",
              "    <tr style=\"text-align: right;\">\n",
              "      <th></th>\n",
              "      <th>age</th>\n",
              "      <th>city</th>\n",
              "      <th>country</th>\n",
              "      <th>name</th>\n",
              "    </tr>\n",
              "  </thead>\n",
              "  <tbody>\n",
              "    <tr>\n",
              "      <th>Jess</th>\n",
              "      <td>30</td>\n",
              "      <td>Paris</td>\n",
              "      <td>France</td>\n",
              "      <td>NaN</td>\n",
              "    </tr>\n",
              "    <tr>\n",
              "      <th>Nick</th>\n",
              "      <td>35</td>\n",
              "      <td>Berlin</td>\n",
              "      <td>Germany</td>\n",
              "      <td>NaN</td>\n",
              "    </tr>\n",
              "    <tr>\n",
              "      <th>Winston</th>\n",
              "      <td>40</td>\n",
              "      <td>Madrid</td>\n",
              "      <td>Spain</td>\n",
              "      <td>NaN</td>\n",
              "    </tr>\n",
              "    <tr>\n",
              "      <th>Tom</th>\n",
              "      <td>27</td>\n",
              "      <td>Paris</td>\n",
              "      <td>France</td>\n",
              "      <td>NaN</td>\n",
              "    </tr>\n",
              "    <tr>\n",
              "      <th>Alex</th>\n",
              "      <td>52</td>\n",
              "      <td>London</td>\n",
              "      <td>UK</td>\n",
              "      <td>NaN</td>\n",
              "    </tr>\n",
              "    <tr>\n",
              "      <th>0</th>\n",
              "      <td>32</td>\n",
              "      <td>London</td>\n",
              "      <td>UK</td>\n",
              "      <td>Matthew</td>\n",
              "    </tr>\n",
              "    <tr>\n",
              "      <th>1</th>\n",
              "      <td>45</td>\n",
              "      <td>London</td>\n",
              "      <td>UK</td>\n",
              "      <td>Philippe</td>\n",
              "    </tr>\n",
              "  </tbody>\n",
              "</table>\n",
              "</div>\n",
              "      <button class=\"colab-df-convert\" onclick=\"convertToInteractive('df-96c0a826-7c1b-4e51-97d7-8591720ab4d1')\"\n",
              "              title=\"Convert this dataframe to an interactive table.\"\n",
              "              style=\"display:none;\">\n",
              "        \n",
              "  <svg xmlns=\"http://www.w3.org/2000/svg\" height=\"24px\"viewBox=\"0 0 24 24\"\n",
              "       width=\"24px\">\n",
              "    <path d=\"M0 0h24v24H0V0z\" fill=\"none\"/>\n",
              "    <path d=\"M18.56 5.44l.94 2.06.94-2.06 2.06-.94-2.06-.94-.94-2.06-.94 2.06-2.06.94zm-11 1L8.5 8.5l.94-2.06 2.06-.94-2.06-.94L8.5 2.5l-.94 2.06-2.06.94zm10 10l.94 2.06.94-2.06 2.06-.94-2.06-.94-.94-2.06-.94 2.06-2.06.94z\"/><path d=\"M17.41 7.96l-1.37-1.37c-.4-.4-.92-.59-1.43-.59-.52 0-1.04.2-1.43.59L10.3 9.45l-7.72 7.72c-.78.78-.78 2.05 0 2.83L4 21.41c.39.39.9.59 1.41.59.51 0 1.02-.2 1.41-.59l7.78-7.78 2.81-2.81c.8-.78.8-2.07 0-2.86zM5.41 20L4 18.59l7.72-7.72 1.47 1.35L5.41 20z\"/>\n",
              "  </svg>\n",
              "      </button>\n",
              "      \n",
              "  <style>\n",
              "    .colab-df-container {\n",
              "      display:flex;\n",
              "      flex-wrap:wrap;\n",
              "      gap: 12px;\n",
              "    }\n",
              "\n",
              "    .colab-df-convert {\n",
              "      background-color: #E8F0FE;\n",
              "      border: none;\n",
              "      border-radius: 50%;\n",
              "      cursor: pointer;\n",
              "      display: none;\n",
              "      fill: #1967D2;\n",
              "      height: 32px;\n",
              "      padding: 0 0 0 0;\n",
              "      width: 32px;\n",
              "    }\n",
              "\n",
              "    .colab-df-convert:hover {\n",
              "      background-color: #E2EBFA;\n",
              "      box-shadow: 0px 1px 2px rgba(60, 64, 67, 0.3), 0px 1px 3px 1px rgba(60, 64, 67, 0.15);\n",
              "      fill: #174EA6;\n",
              "    }\n",
              "\n",
              "    [theme=dark] .colab-df-convert {\n",
              "      background-color: #3B4455;\n",
              "      fill: #D2E3FC;\n",
              "    }\n",
              "\n",
              "    [theme=dark] .colab-df-convert:hover {\n",
              "      background-color: #434B5C;\n",
              "      box-shadow: 0px 1px 3px 1px rgba(0, 0, 0, 0.15);\n",
              "      filter: drop-shadow(0px 1px 2px rgba(0, 0, 0, 0.3));\n",
              "      fill: #FFFFFF;\n",
              "    }\n",
              "  </style>\n",
              "\n",
              "      <script>\n",
              "        const buttonEl =\n",
              "          document.querySelector('#df-96c0a826-7c1b-4e51-97d7-8591720ab4d1 button.colab-df-convert');\n",
              "        buttonEl.style.display =\n",
              "          google.colab.kernel.accessAllowed ? 'block' : 'none';\n",
              "\n",
              "        async function convertToInteractive(key) {\n",
              "          const element = document.querySelector('#df-96c0a826-7c1b-4e51-97d7-8591720ab4d1');\n",
              "          const dataTable =\n",
              "            await google.colab.kernel.invokeFunction('convertToInteractive',\n",
              "                                                     [key], {});\n",
              "          if (!dataTable) return;\n",
              "\n",
              "          const docLinkHtml = 'Like what you see? Visit the ' +\n",
              "            '<a target=\"_blank\" href=https://colab.research.google.com/notebooks/data_table.ipynb>data table notebook</a>'\n",
              "            + ' to learn more about interactive tables.';\n",
              "          element.innerHTML = '';\n",
              "          dataTable['output_type'] = 'display_data';\n",
              "          await google.colab.output.renderOutput(dataTable, element);\n",
              "          const docLink = document.createElement('div');\n",
              "          docLink.innerHTML = docLinkHtml;\n",
              "          element.appendChild(docLink);\n",
              "        }\n",
              "      </script>\n",
              "    </div>\n",
              "  </div>\n",
              "  "
            ]
          },
          "metadata": {},
          "execution_count": 138
        }
      ],
      "source": [
        "# join the dfs into a single one\n",
        "\n",
        "# concatenate all df into a single one\n",
        "df = pd.concat([df1, df2]) # it will use the column names  to join by\n",
        "\n",
        "# check dataframes shapes\n",
        "print('the df1 Shape is : ', df1.shape)\n",
        "print('the df2 Shape is : ', df2.shape)\n",
        "print('the new joined Dataframe Shape is : ', df.shape)\n",
        "print('')\n",
        "\n",
        "# visualize the new df\n",
        "print('')\n",
        "print('The output is not what reall wanted as we have NaN values in name columns and not all indices are the names...')\n",
        "df"
      ]
    },
    {
      "cell_type": "code",
      "execution_count": 139,
      "metadata": {
        "id": "4evaUxEyX8rx",
        "outputId": "a7c6e45b-c25a-4ae5-e888-10b2d63d6140",
        "colab": {
          "base_uri": "https://localhost:8080/",
          "height": 143
        }
      },
      "outputs": [
        {
          "output_type": "execute_result",
          "data": {
            "text/plain": [
              "         age    city country\n",
              "name                        \n",
              "Matthew   32  London      UK\n",
              "Philippe  45  London      UK"
            ],
            "text/html": [
              "\n",
              "  <div id=\"df-c87786d1-afbb-414c-8300-4c5fdfd068fd\">\n",
              "    <div class=\"colab-df-container\">\n",
              "      <div>\n",
              "<style scoped>\n",
              "    .dataframe tbody tr th:only-of-type {\n",
              "        vertical-align: middle;\n",
              "    }\n",
              "\n",
              "    .dataframe tbody tr th {\n",
              "        vertical-align: top;\n",
              "    }\n",
              "\n",
              "    .dataframe thead th {\n",
              "        text-align: right;\n",
              "    }\n",
              "</style>\n",
              "<table border=\"1\" class=\"dataframe\">\n",
              "  <thead>\n",
              "    <tr style=\"text-align: right;\">\n",
              "      <th></th>\n",
              "      <th>age</th>\n",
              "      <th>city</th>\n",
              "      <th>country</th>\n",
              "    </tr>\n",
              "    <tr>\n",
              "      <th>name</th>\n",
              "      <th></th>\n",
              "      <th></th>\n",
              "      <th></th>\n",
              "    </tr>\n",
              "  </thead>\n",
              "  <tbody>\n",
              "    <tr>\n",
              "      <th>Matthew</th>\n",
              "      <td>32</td>\n",
              "      <td>London</td>\n",
              "      <td>UK</td>\n",
              "    </tr>\n",
              "    <tr>\n",
              "      <th>Philippe</th>\n",
              "      <td>45</td>\n",
              "      <td>London</td>\n",
              "      <td>UK</td>\n",
              "    </tr>\n",
              "  </tbody>\n",
              "</table>\n",
              "</div>\n",
              "      <button class=\"colab-df-convert\" onclick=\"convertToInteractive('df-c87786d1-afbb-414c-8300-4c5fdfd068fd')\"\n",
              "              title=\"Convert this dataframe to an interactive table.\"\n",
              "              style=\"display:none;\">\n",
              "        \n",
              "  <svg xmlns=\"http://www.w3.org/2000/svg\" height=\"24px\"viewBox=\"0 0 24 24\"\n",
              "       width=\"24px\">\n",
              "    <path d=\"M0 0h24v24H0V0z\" fill=\"none\"/>\n",
              "    <path d=\"M18.56 5.44l.94 2.06.94-2.06 2.06-.94-2.06-.94-.94-2.06-.94 2.06-2.06.94zm-11 1L8.5 8.5l.94-2.06 2.06-.94-2.06-.94L8.5 2.5l-.94 2.06-2.06.94zm10 10l.94 2.06.94-2.06 2.06-.94-2.06-.94-.94-2.06-.94 2.06-2.06.94z\"/><path d=\"M17.41 7.96l-1.37-1.37c-.4-.4-.92-.59-1.43-.59-.52 0-1.04.2-1.43.59L10.3 9.45l-7.72 7.72c-.78.78-.78 2.05 0 2.83L4 21.41c.39.39.9.59 1.41.59.51 0 1.02-.2 1.41-.59l7.78-7.78 2.81-2.81c.8-.78.8-2.07 0-2.86zM5.41 20L4 18.59l7.72-7.72 1.47 1.35L5.41 20z\"/>\n",
              "  </svg>\n",
              "      </button>\n",
              "      \n",
              "  <style>\n",
              "    .colab-df-container {\n",
              "      display:flex;\n",
              "      flex-wrap:wrap;\n",
              "      gap: 12px;\n",
              "    }\n",
              "\n",
              "    .colab-df-convert {\n",
              "      background-color: #E8F0FE;\n",
              "      border: none;\n",
              "      border-radius: 50%;\n",
              "      cursor: pointer;\n",
              "      display: none;\n",
              "      fill: #1967D2;\n",
              "      height: 32px;\n",
              "      padding: 0 0 0 0;\n",
              "      width: 32px;\n",
              "    }\n",
              "\n",
              "    .colab-df-convert:hover {\n",
              "      background-color: #E2EBFA;\n",
              "      box-shadow: 0px 1px 2px rgba(60, 64, 67, 0.3), 0px 1px 3px 1px rgba(60, 64, 67, 0.15);\n",
              "      fill: #174EA6;\n",
              "    }\n",
              "\n",
              "    [theme=dark] .colab-df-convert {\n",
              "      background-color: #3B4455;\n",
              "      fill: #D2E3FC;\n",
              "    }\n",
              "\n",
              "    [theme=dark] .colab-df-convert:hover {\n",
              "      background-color: #434B5C;\n",
              "      box-shadow: 0px 1px 3px 1px rgba(0, 0, 0, 0.15);\n",
              "      filter: drop-shadow(0px 1px 2px rgba(0, 0, 0, 0.3));\n",
              "      fill: #FFFFFF;\n",
              "    }\n",
              "  </style>\n",
              "\n",
              "      <script>\n",
              "        const buttonEl =\n",
              "          document.querySelector('#df-c87786d1-afbb-414c-8300-4c5fdfd068fd button.colab-df-convert');\n",
              "        buttonEl.style.display =\n",
              "          google.colab.kernel.accessAllowed ? 'block' : 'none';\n",
              "\n",
              "        async function convertToInteractive(key) {\n",
              "          const element = document.querySelector('#df-c87786d1-afbb-414c-8300-4c5fdfd068fd');\n",
              "          const dataTable =\n",
              "            await google.colab.kernel.invokeFunction('convertToInteractive',\n",
              "                                                     [key], {});\n",
              "          if (!dataTable) return;\n",
              "\n",
              "          const docLinkHtml = 'Like what you see? Visit the ' +\n",
              "            '<a target=\"_blank\" href=https://colab.research.google.com/notebooks/data_table.ipynb>data table notebook</a>'\n",
              "            + ' to learn more about interactive tables.';\n",
              "          element.innerHTML = '';\n",
              "          dataTable['output_type'] = 'display_data';\n",
              "          await google.colab.output.renderOutput(dataTable, element);\n",
              "          const docLink = document.createElement('div');\n",
              "          docLink.innerHTML = docLinkHtml;\n",
              "          element.appendChild(docLink);\n",
              "        }\n",
              "      </script>\n",
              "    </div>\n",
              "  </div>\n",
              "  "
            ]
          },
          "metadata": {},
          "execution_count": 139
        }
      ],
      "source": [
        "# to be obtain a homogeneous df we need both dfs to be structured the same\n",
        "# use name column as df index for df2 as df1 did\n",
        "\n",
        "df2 = df2.set_index('name')\n",
        "df2.head()"
      ]
    },
    {
      "cell_type": "code",
      "source": [
        "df100 = df2.reset_index()\n",
        "df100.head()"
      ],
      "metadata": {
        "id": "7LCyBwT5wgtb",
        "outputId": "4a01dbff-d7b8-4f44-ab54-8f8a9a20daef",
        "colab": {
          "base_uri": "https://localhost:8080/",
          "height": 112
        }
      },
      "execution_count": 140,
      "outputs": [
        {
          "output_type": "execute_result",
          "data": {
            "text/plain": [
              "       name age    city country\n",
              "0   Matthew  32  London      UK\n",
              "1  Philippe  45  London      UK"
            ],
            "text/html": [
              "\n",
              "  <div id=\"df-5a62ad00-5205-440e-84ed-a37aa5d3686d\">\n",
              "    <div class=\"colab-df-container\">\n",
              "      <div>\n",
              "<style scoped>\n",
              "    .dataframe tbody tr th:only-of-type {\n",
              "        vertical-align: middle;\n",
              "    }\n",
              "\n",
              "    .dataframe tbody tr th {\n",
              "        vertical-align: top;\n",
              "    }\n",
              "\n",
              "    .dataframe thead th {\n",
              "        text-align: right;\n",
              "    }\n",
              "</style>\n",
              "<table border=\"1\" class=\"dataframe\">\n",
              "  <thead>\n",
              "    <tr style=\"text-align: right;\">\n",
              "      <th></th>\n",
              "      <th>name</th>\n",
              "      <th>age</th>\n",
              "      <th>city</th>\n",
              "      <th>country</th>\n",
              "    </tr>\n",
              "  </thead>\n",
              "  <tbody>\n",
              "    <tr>\n",
              "      <th>0</th>\n",
              "      <td>Matthew</td>\n",
              "      <td>32</td>\n",
              "      <td>London</td>\n",
              "      <td>UK</td>\n",
              "    </tr>\n",
              "    <tr>\n",
              "      <th>1</th>\n",
              "      <td>Philippe</td>\n",
              "      <td>45</td>\n",
              "      <td>London</td>\n",
              "      <td>UK</td>\n",
              "    </tr>\n",
              "  </tbody>\n",
              "</table>\n",
              "</div>\n",
              "      <button class=\"colab-df-convert\" onclick=\"convertToInteractive('df-5a62ad00-5205-440e-84ed-a37aa5d3686d')\"\n",
              "              title=\"Convert this dataframe to an interactive table.\"\n",
              "              style=\"display:none;\">\n",
              "        \n",
              "  <svg xmlns=\"http://www.w3.org/2000/svg\" height=\"24px\"viewBox=\"0 0 24 24\"\n",
              "       width=\"24px\">\n",
              "    <path d=\"M0 0h24v24H0V0z\" fill=\"none\"/>\n",
              "    <path d=\"M18.56 5.44l.94 2.06.94-2.06 2.06-.94-2.06-.94-.94-2.06-.94 2.06-2.06.94zm-11 1L8.5 8.5l.94-2.06 2.06-.94-2.06-.94L8.5 2.5l-.94 2.06-2.06.94zm10 10l.94 2.06.94-2.06 2.06-.94-2.06-.94-.94-2.06-.94 2.06-2.06.94z\"/><path d=\"M17.41 7.96l-1.37-1.37c-.4-.4-.92-.59-1.43-.59-.52 0-1.04.2-1.43.59L10.3 9.45l-7.72 7.72c-.78.78-.78 2.05 0 2.83L4 21.41c.39.39.9.59 1.41.59.51 0 1.02-.2 1.41-.59l7.78-7.78 2.81-2.81c.8-.78.8-2.07 0-2.86zM5.41 20L4 18.59l7.72-7.72 1.47 1.35L5.41 20z\"/>\n",
              "  </svg>\n",
              "      </button>\n",
              "      \n",
              "  <style>\n",
              "    .colab-df-container {\n",
              "      display:flex;\n",
              "      flex-wrap:wrap;\n",
              "      gap: 12px;\n",
              "    }\n",
              "\n",
              "    .colab-df-convert {\n",
              "      background-color: #E8F0FE;\n",
              "      border: none;\n",
              "      border-radius: 50%;\n",
              "      cursor: pointer;\n",
              "      display: none;\n",
              "      fill: #1967D2;\n",
              "      height: 32px;\n",
              "      padding: 0 0 0 0;\n",
              "      width: 32px;\n",
              "    }\n",
              "\n",
              "    .colab-df-convert:hover {\n",
              "      background-color: #E2EBFA;\n",
              "      box-shadow: 0px 1px 2px rgba(60, 64, 67, 0.3), 0px 1px 3px 1px rgba(60, 64, 67, 0.15);\n",
              "      fill: #174EA6;\n",
              "    }\n",
              "\n",
              "    [theme=dark] .colab-df-convert {\n",
              "      background-color: #3B4455;\n",
              "      fill: #D2E3FC;\n",
              "    }\n",
              "\n",
              "    [theme=dark] .colab-df-convert:hover {\n",
              "      background-color: #434B5C;\n",
              "      box-shadow: 0px 1px 3px 1px rgba(0, 0, 0, 0.15);\n",
              "      filter: drop-shadow(0px 1px 2px rgba(0, 0, 0, 0.3));\n",
              "      fill: #FFFFFF;\n",
              "    }\n",
              "  </style>\n",
              "\n",
              "      <script>\n",
              "        const buttonEl =\n",
              "          document.querySelector('#df-5a62ad00-5205-440e-84ed-a37aa5d3686d button.colab-df-convert');\n",
              "        buttonEl.style.display =\n",
              "          google.colab.kernel.accessAllowed ? 'block' : 'none';\n",
              "\n",
              "        async function convertToInteractive(key) {\n",
              "          const element = document.querySelector('#df-5a62ad00-5205-440e-84ed-a37aa5d3686d');\n",
              "          const dataTable =\n",
              "            await google.colab.kernel.invokeFunction('convertToInteractive',\n",
              "                                                     [key], {});\n",
              "          if (!dataTable) return;\n",
              "\n",
              "          const docLinkHtml = 'Like what you see? Visit the ' +\n",
              "            '<a target=\"_blank\" href=https://colab.research.google.com/notebooks/data_table.ipynb>data table notebook</a>'\n",
              "            + ' to learn more about interactive tables.';\n",
              "          element.innerHTML = '';\n",
              "          dataTable['output_type'] = 'display_data';\n",
              "          await google.colab.output.renderOutput(dataTable, element);\n",
              "          const docLink = document.createElement('div');\n",
              "          docLink.innerHTML = docLinkHtml;\n",
              "          element.appendChild(docLink);\n",
              "        }\n",
              "      </script>\n",
              "    </div>\n",
              "  </div>\n",
              "  "
            ]
          },
          "metadata": {},
          "execution_count": 140
        }
      ]
    },
    {
      "cell_type": "code",
      "execution_count": 141,
      "metadata": {
        "id": "SCMpegPvXvX5",
        "outputId": "ed398d09-f6ca-40c6-8c73-bca3767e702b",
        "colab": {
          "base_uri": "https://localhost:8080/",
          "height": 404
        }
      },
      "outputs": [
        {
          "output_type": "stream",
          "name": "stdout",
          "text": [
            "the df1 Shape is :  (5, 3)\n",
            "the df2 Shape is :  (2, 3)\n",
            "the new joined Dataframe Shape is :  (7, 3)\n",
            "\n",
            "\n",
            "Now we have a homogeneous df\n"
          ]
        },
        {
          "output_type": "execute_result",
          "data": {
            "text/plain": [
              "         age    city  country\n",
              "name                         \n",
              "Jess      30   Paris   France\n",
              "Nick      35  Berlin  Germany\n",
              "Winston   40  Madrid    Spain\n",
              "Tom       27   Paris   France\n",
              "Alex      52  London       UK\n",
              "Matthew   32  London       UK\n",
              "Philippe  45  London       UK"
            ],
            "text/html": [
              "\n",
              "  <div id=\"df-a79f0096-be5b-4668-8d2b-7c7127f02594\">\n",
              "    <div class=\"colab-df-container\">\n",
              "      <div>\n",
              "<style scoped>\n",
              "    .dataframe tbody tr th:only-of-type {\n",
              "        vertical-align: middle;\n",
              "    }\n",
              "\n",
              "    .dataframe tbody tr th {\n",
              "        vertical-align: top;\n",
              "    }\n",
              "\n",
              "    .dataframe thead th {\n",
              "        text-align: right;\n",
              "    }\n",
              "</style>\n",
              "<table border=\"1\" class=\"dataframe\">\n",
              "  <thead>\n",
              "    <tr style=\"text-align: right;\">\n",
              "      <th></th>\n",
              "      <th>age</th>\n",
              "      <th>city</th>\n",
              "      <th>country</th>\n",
              "    </tr>\n",
              "    <tr>\n",
              "      <th>name</th>\n",
              "      <th></th>\n",
              "      <th></th>\n",
              "      <th></th>\n",
              "    </tr>\n",
              "  </thead>\n",
              "  <tbody>\n",
              "    <tr>\n",
              "      <th>Jess</th>\n",
              "      <td>30</td>\n",
              "      <td>Paris</td>\n",
              "      <td>France</td>\n",
              "    </tr>\n",
              "    <tr>\n",
              "      <th>Nick</th>\n",
              "      <td>35</td>\n",
              "      <td>Berlin</td>\n",
              "      <td>Germany</td>\n",
              "    </tr>\n",
              "    <tr>\n",
              "      <th>Winston</th>\n",
              "      <td>40</td>\n",
              "      <td>Madrid</td>\n",
              "      <td>Spain</td>\n",
              "    </tr>\n",
              "    <tr>\n",
              "      <th>Tom</th>\n",
              "      <td>27</td>\n",
              "      <td>Paris</td>\n",
              "      <td>France</td>\n",
              "    </tr>\n",
              "    <tr>\n",
              "      <th>Alex</th>\n",
              "      <td>52</td>\n",
              "      <td>London</td>\n",
              "      <td>UK</td>\n",
              "    </tr>\n",
              "    <tr>\n",
              "      <th>Matthew</th>\n",
              "      <td>32</td>\n",
              "      <td>London</td>\n",
              "      <td>UK</td>\n",
              "    </tr>\n",
              "    <tr>\n",
              "      <th>Philippe</th>\n",
              "      <td>45</td>\n",
              "      <td>London</td>\n",
              "      <td>UK</td>\n",
              "    </tr>\n",
              "  </tbody>\n",
              "</table>\n",
              "</div>\n",
              "      <button class=\"colab-df-convert\" onclick=\"convertToInteractive('df-a79f0096-be5b-4668-8d2b-7c7127f02594')\"\n",
              "              title=\"Convert this dataframe to an interactive table.\"\n",
              "              style=\"display:none;\">\n",
              "        \n",
              "  <svg xmlns=\"http://www.w3.org/2000/svg\" height=\"24px\"viewBox=\"0 0 24 24\"\n",
              "       width=\"24px\">\n",
              "    <path d=\"M0 0h24v24H0V0z\" fill=\"none\"/>\n",
              "    <path d=\"M18.56 5.44l.94 2.06.94-2.06 2.06-.94-2.06-.94-.94-2.06-.94 2.06-2.06.94zm-11 1L8.5 8.5l.94-2.06 2.06-.94-2.06-.94L8.5 2.5l-.94 2.06-2.06.94zm10 10l.94 2.06.94-2.06 2.06-.94-2.06-.94-.94-2.06-.94 2.06-2.06.94z\"/><path d=\"M17.41 7.96l-1.37-1.37c-.4-.4-.92-.59-1.43-.59-.52 0-1.04.2-1.43.59L10.3 9.45l-7.72 7.72c-.78.78-.78 2.05 0 2.83L4 21.41c.39.39.9.59 1.41.59.51 0 1.02-.2 1.41-.59l7.78-7.78 2.81-2.81c.8-.78.8-2.07 0-2.86zM5.41 20L4 18.59l7.72-7.72 1.47 1.35L5.41 20z\"/>\n",
              "  </svg>\n",
              "      </button>\n",
              "      \n",
              "  <style>\n",
              "    .colab-df-container {\n",
              "      display:flex;\n",
              "      flex-wrap:wrap;\n",
              "      gap: 12px;\n",
              "    }\n",
              "\n",
              "    .colab-df-convert {\n",
              "      background-color: #E8F0FE;\n",
              "      border: none;\n",
              "      border-radius: 50%;\n",
              "      cursor: pointer;\n",
              "      display: none;\n",
              "      fill: #1967D2;\n",
              "      height: 32px;\n",
              "      padding: 0 0 0 0;\n",
              "      width: 32px;\n",
              "    }\n",
              "\n",
              "    .colab-df-convert:hover {\n",
              "      background-color: #E2EBFA;\n",
              "      box-shadow: 0px 1px 2px rgba(60, 64, 67, 0.3), 0px 1px 3px 1px rgba(60, 64, 67, 0.15);\n",
              "      fill: #174EA6;\n",
              "    }\n",
              "\n",
              "    [theme=dark] .colab-df-convert {\n",
              "      background-color: #3B4455;\n",
              "      fill: #D2E3FC;\n",
              "    }\n",
              "\n",
              "    [theme=dark] .colab-df-convert:hover {\n",
              "      background-color: #434B5C;\n",
              "      box-shadow: 0px 1px 3px 1px rgba(0, 0, 0, 0.15);\n",
              "      filter: drop-shadow(0px 1px 2px rgba(0, 0, 0, 0.3));\n",
              "      fill: #FFFFFF;\n",
              "    }\n",
              "  </style>\n",
              "\n",
              "      <script>\n",
              "        const buttonEl =\n",
              "          document.querySelector('#df-a79f0096-be5b-4668-8d2b-7c7127f02594 button.colab-df-convert');\n",
              "        buttonEl.style.display =\n",
              "          google.colab.kernel.accessAllowed ? 'block' : 'none';\n",
              "\n",
              "        async function convertToInteractive(key) {\n",
              "          const element = document.querySelector('#df-a79f0096-be5b-4668-8d2b-7c7127f02594');\n",
              "          const dataTable =\n",
              "            await google.colab.kernel.invokeFunction('convertToInteractive',\n",
              "                                                     [key], {});\n",
              "          if (!dataTable) return;\n",
              "\n",
              "          const docLinkHtml = 'Like what you see? Visit the ' +\n",
              "            '<a target=\"_blank\" href=https://colab.research.google.com/notebooks/data_table.ipynb>data table notebook</a>'\n",
              "            + ' to learn more about interactive tables.';\n",
              "          element.innerHTML = '';\n",
              "          dataTable['output_type'] = 'display_data';\n",
              "          await google.colab.output.renderOutput(dataTable, element);\n",
              "          const docLink = document.createElement('div');\n",
              "          docLink.innerHTML = docLinkHtml;\n",
              "          element.appendChild(docLink);\n",
              "        }\n",
              "      </script>\n",
              "    </div>\n",
              "  </div>\n",
              "  "
            ]
          },
          "metadata": {},
          "execution_count": 141
        }
      ],
      "source": [
        "# join the dfs into a single one\n",
        "\n",
        "# concatenate all df into a single one\n",
        "df = pd.concat([df1, df2]) # it will use the column names  to join by\n",
        "\n",
        "# check dataframes shapes\n",
        "print('the df1 Shape is : ', df1.shape)\n",
        "print('the df2 Shape is : ', df2.shape)\n",
        "print('the new joined Dataframe Shape is : ', df.shape)\n",
        "print('')\n",
        "\n",
        "# visualize the new df\n",
        "print('')\n",
        "print('Now we have a homogeneous df')\n",
        "df"
      ]
    },
    {
      "cell_type": "markdown",
      "source": [
        "## Add columns or rows"
      ],
      "metadata": {
        "id": "cdOAL37p7q5V"
      }
    },
    {
      "cell_type": "code",
      "source": [
        "# add region a column region where all alues will be 'Europe'\n",
        "\n",
        "df['region'] = 'Europe'\n",
        "df"
      ],
      "metadata": {
        "id": "beCG9jQalfDY",
        "outputId": "484758e0-5684-49ca-9465-3207ed683423",
        "colab": {
          "base_uri": "https://localhost:8080/",
          "height": 300
        }
      },
      "execution_count": 142,
      "outputs": [
        {
          "output_type": "execute_result",
          "data": {
            "text/plain": [
              "         age    city  country  region\n",
              "name                                 \n",
              "Jess      30   Paris   France  Europe\n",
              "Nick      35  Berlin  Germany  Europe\n",
              "Winston   40  Madrid    Spain  Europe\n",
              "Tom       27   Paris   France  Europe\n",
              "Alex      52  London       UK  Europe\n",
              "Matthew   32  London       UK  Europe\n",
              "Philippe  45  London       UK  Europe"
            ],
            "text/html": [
              "\n",
              "  <div id=\"df-e6d65ee5-bf45-4e3e-9115-4087e38fea29\">\n",
              "    <div class=\"colab-df-container\">\n",
              "      <div>\n",
              "<style scoped>\n",
              "    .dataframe tbody tr th:only-of-type {\n",
              "        vertical-align: middle;\n",
              "    }\n",
              "\n",
              "    .dataframe tbody tr th {\n",
              "        vertical-align: top;\n",
              "    }\n",
              "\n",
              "    .dataframe thead th {\n",
              "        text-align: right;\n",
              "    }\n",
              "</style>\n",
              "<table border=\"1\" class=\"dataframe\">\n",
              "  <thead>\n",
              "    <tr style=\"text-align: right;\">\n",
              "      <th></th>\n",
              "      <th>age</th>\n",
              "      <th>city</th>\n",
              "      <th>country</th>\n",
              "      <th>region</th>\n",
              "    </tr>\n",
              "    <tr>\n",
              "      <th>name</th>\n",
              "      <th></th>\n",
              "      <th></th>\n",
              "      <th></th>\n",
              "      <th></th>\n",
              "    </tr>\n",
              "  </thead>\n",
              "  <tbody>\n",
              "    <tr>\n",
              "      <th>Jess</th>\n",
              "      <td>30</td>\n",
              "      <td>Paris</td>\n",
              "      <td>France</td>\n",
              "      <td>Europe</td>\n",
              "    </tr>\n",
              "    <tr>\n",
              "      <th>Nick</th>\n",
              "      <td>35</td>\n",
              "      <td>Berlin</td>\n",
              "      <td>Germany</td>\n",
              "      <td>Europe</td>\n",
              "    </tr>\n",
              "    <tr>\n",
              "      <th>Winston</th>\n",
              "      <td>40</td>\n",
              "      <td>Madrid</td>\n",
              "      <td>Spain</td>\n",
              "      <td>Europe</td>\n",
              "    </tr>\n",
              "    <tr>\n",
              "      <th>Tom</th>\n",
              "      <td>27</td>\n",
              "      <td>Paris</td>\n",
              "      <td>France</td>\n",
              "      <td>Europe</td>\n",
              "    </tr>\n",
              "    <tr>\n",
              "      <th>Alex</th>\n",
              "      <td>52</td>\n",
              "      <td>London</td>\n",
              "      <td>UK</td>\n",
              "      <td>Europe</td>\n",
              "    </tr>\n",
              "    <tr>\n",
              "      <th>Matthew</th>\n",
              "      <td>32</td>\n",
              "      <td>London</td>\n",
              "      <td>UK</td>\n",
              "      <td>Europe</td>\n",
              "    </tr>\n",
              "    <tr>\n",
              "      <th>Philippe</th>\n",
              "      <td>45</td>\n",
              "      <td>London</td>\n",
              "      <td>UK</td>\n",
              "      <td>Europe</td>\n",
              "    </tr>\n",
              "  </tbody>\n",
              "</table>\n",
              "</div>\n",
              "      <button class=\"colab-df-convert\" onclick=\"convertToInteractive('df-e6d65ee5-bf45-4e3e-9115-4087e38fea29')\"\n",
              "              title=\"Convert this dataframe to an interactive table.\"\n",
              "              style=\"display:none;\">\n",
              "        \n",
              "  <svg xmlns=\"http://www.w3.org/2000/svg\" height=\"24px\"viewBox=\"0 0 24 24\"\n",
              "       width=\"24px\">\n",
              "    <path d=\"M0 0h24v24H0V0z\" fill=\"none\"/>\n",
              "    <path d=\"M18.56 5.44l.94 2.06.94-2.06 2.06-.94-2.06-.94-.94-2.06-.94 2.06-2.06.94zm-11 1L8.5 8.5l.94-2.06 2.06-.94-2.06-.94L8.5 2.5l-.94 2.06-2.06.94zm10 10l.94 2.06.94-2.06 2.06-.94-2.06-.94-.94-2.06-.94 2.06-2.06.94z\"/><path d=\"M17.41 7.96l-1.37-1.37c-.4-.4-.92-.59-1.43-.59-.52 0-1.04.2-1.43.59L10.3 9.45l-7.72 7.72c-.78.78-.78 2.05 0 2.83L4 21.41c.39.39.9.59 1.41.59.51 0 1.02-.2 1.41-.59l7.78-7.78 2.81-2.81c.8-.78.8-2.07 0-2.86zM5.41 20L4 18.59l7.72-7.72 1.47 1.35L5.41 20z\"/>\n",
              "  </svg>\n",
              "      </button>\n",
              "      \n",
              "  <style>\n",
              "    .colab-df-container {\n",
              "      display:flex;\n",
              "      flex-wrap:wrap;\n",
              "      gap: 12px;\n",
              "    }\n",
              "\n",
              "    .colab-df-convert {\n",
              "      background-color: #E8F0FE;\n",
              "      border: none;\n",
              "      border-radius: 50%;\n",
              "      cursor: pointer;\n",
              "      display: none;\n",
              "      fill: #1967D2;\n",
              "      height: 32px;\n",
              "      padding: 0 0 0 0;\n",
              "      width: 32px;\n",
              "    }\n",
              "\n",
              "    .colab-df-convert:hover {\n",
              "      background-color: #E2EBFA;\n",
              "      box-shadow: 0px 1px 2px rgba(60, 64, 67, 0.3), 0px 1px 3px 1px rgba(60, 64, 67, 0.15);\n",
              "      fill: #174EA6;\n",
              "    }\n",
              "\n",
              "    [theme=dark] .colab-df-convert {\n",
              "      background-color: #3B4455;\n",
              "      fill: #D2E3FC;\n",
              "    }\n",
              "\n",
              "    [theme=dark] .colab-df-convert:hover {\n",
              "      background-color: #434B5C;\n",
              "      box-shadow: 0px 1px 3px 1px rgba(0, 0, 0, 0.15);\n",
              "      filter: drop-shadow(0px 1px 2px rgba(0, 0, 0, 0.3));\n",
              "      fill: #FFFFFF;\n",
              "    }\n",
              "  </style>\n",
              "\n",
              "      <script>\n",
              "        const buttonEl =\n",
              "          document.querySelector('#df-e6d65ee5-bf45-4e3e-9115-4087e38fea29 button.colab-df-convert');\n",
              "        buttonEl.style.display =\n",
              "          google.colab.kernel.accessAllowed ? 'block' : 'none';\n",
              "\n",
              "        async function convertToInteractive(key) {\n",
              "          const element = document.querySelector('#df-e6d65ee5-bf45-4e3e-9115-4087e38fea29');\n",
              "          const dataTable =\n",
              "            await google.colab.kernel.invokeFunction('convertToInteractive',\n",
              "                                                     [key], {});\n",
              "          if (!dataTable) return;\n",
              "\n",
              "          const docLinkHtml = 'Like what you see? Visit the ' +\n",
              "            '<a target=\"_blank\" href=https://colab.research.google.com/notebooks/data_table.ipynb>data table notebook</a>'\n",
              "            + ' to learn more about interactive tables.';\n",
              "          element.innerHTML = '';\n",
              "          dataTable['output_type'] = 'display_data';\n",
              "          await google.colab.output.renderOutput(dataTable, element);\n",
              "          const docLink = document.createElement('div');\n",
              "          docLink.innerHTML = docLinkHtml;\n",
              "          element.appendChild(docLink);\n",
              "        }\n",
              "      </script>\n",
              "    </div>\n",
              "  </div>\n",
              "  "
            ]
          },
          "metadata": {},
          "execution_count": 142
        }
      ]
    },
    {
      "cell_type": "code",
      "source": [
        "# add a column salary, with respective values\n",
        "# please keep in mind that the length has to be the same\n",
        "\n",
        "salary = ['40000', '45000', '50000', '55000', '60000', '65000', '70000'] # the list has to have the same nb of element as the nb of rows\n",
        "\n",
        "df['salary']= salary\n",
        "\n",
        "print(df.shape)\n",
        "df"
      ],
      "metadata": {
        "id": "cykZ_PfvllnZ",
        "outputId": "d7abc023-433f-440a-b8a2-89d2afb55c15",
        "colab": {
          "base_uri": "https://localhost:8080/",
          "height": 318
        }
      },
      "execution_count": 143,
      "outputs": [
        {
          "output_type": "stream",
          "name": "stdout",
          "text": [
            "(7, 5)\n"
          ]
        },
        {
          "output_type": "execute_result",
          "data": {
            "text/plain": [
              "         age    city  country  region salary\n",
              "name                                        \n",
              "Jess      30   Paris   France  Europe  40000\n",
              "Nick      35  Berlin  Germany  Europe  45000\n",
              "Winston   40  Madrid    Spain  Europe  50000\n",
              "Tom       27   Paris   France  Europe  55000\n",
              "Alex      52  London       UK  Europe  60000\n",
              "Matthew   32  London       UK  Europe  65000\n",
              "Philippe  45  London       UK  Europe  70000"
            ],
            "text/html": [
              "\n",
              "  <div id=\"df-f2e28ee5-817e-451b-be6b-cf39a86fb12f\">\n",
              "    <div class=\"colab-df-container\">\n",
              "      <div>\n",
              "<style scoped>\n",
              "    .dataframe tbody tr th:only-of-type {\n",
              "        vertical-align: middle;\n",
              "    }\n",
              "\n",
              "    .dataframe tbody tr th {\n",
              "        vertical-align: top;\n",
              "    }\n",
              "\n",
              "    .dataframe thead th {\n",
              "        text-align: right;\n",
              "    }\n",
              "</style>\n",
              "<table border=\"1\" class=\"dataframe\">\n",
              "  <thead>\n",
              "    <tr style=\"text-align: right;\">\n",
              "      <th></th>\n",
              "      <th>age</th>\n",
              "      <th>city</th>\n",
              "      <th>country</th>\n",
              "      <th>region</th>\n",
              "      <th>salary</th>\n",
              "    </tr>\n",
              "    <tr>\n",
              "      <th>name</th>\n",
              "      <th></th>\n",
              "      <th></th>\n",
              "      <th></th>\n",
              "      <th></th>\n",
              "      <th></th>\n",
              "    </tr>\n",
              "  </thead>\n",
              "  <tbody>\n",
              "    <tr>\n",
              "      <th>Jess</th>\n",
              "      <td>30</td>\n",
              "      <td>Paris</td>\n",
              "      <td>France</td>\n",
              "      <td>Europe</td>\n",
              "      <td>40000</td>\n",
              "    </tr>\n",
              "    <tr>\n",
              "      <th>Nick</th>\n",
              "      <td>35</td>\n",
              "      <td>Berlin</td>\n",
              "      <td>Germany</td>\n",
              "      <td>Europe</td>\n",
              "      <td>45000</td>\n",
              "    </tr>\n",
              "    <tr>\n",
              "      <th>Winston</th>\n",
              "      <td>40</td>\n",
              "      <td>Madrid</td>\n",
              "      <td>Spain</td>\n",
              "      <td>Europe</td>\n",
              "      <td>50000</td>\n",
              "    </tr>\n",
              "    <tr>\n",
              "      <th>Tom</th>\n",
              "      <td>27</td>\n",
              "      <td>Paris</td>\n",
              "      <td>France</td>\n",
              "      <td>Europe</td>\n",
              "      <td>55000</td>\n",
              "    </tr>\n",
              "    <tr>\n",
              "      <th>Alex</th>\n",
              "      <td>52</td>\n",
              "      <td>London</td>\n",
              "      <td>UK</td>\n",
              "      <td>Europe</td>\n",
              "      <td>60000</td>\n",
              "    </tr>\n",
              "    <tr>\n",
              "      <th>Matthew</th>\n",
              "      <td>32</td>\n",
              "      <td>London</td>\n",
              "      <td>UK</td>\n",
              "      <td>Europe</td>\n",
              "      <td>65000</td>\n",
              "    </tr>\n",
              "    <tr>\n",
              "      <th>Philippe</th>\n",
              "      <td>45</td>\n",
              "      <td>London</td>\n",
              "      <td>UK</td>\n",
              "      <td>Europe</td>\n",
              "      <td>70000</td>\n",
              "    </tr>\n",
              "  </tbody>\n",
              "</table>\n",
              "</div>\n",
              "      <button class=\"colab-df-convert\" onclick=\"convertToInteractive('df-f2e28ee5-817e-451b-be6b-cf39a86fb12f')\"\n",
              "              title=\"Convert this dataframe to an interactive table.\"\n",
              "              style=\"display:none;\">\n",
              "        \n",
              "  <svg xmlns=\"http://www.w3.org/2000/svg\" height=\"24px\"viewBox=\"0 0 24 24\"\n",
              "       width=\"24px\">\n",
              "    <path d=\"M0 0h24v24H0V0z\" fill=\"none\"/>\n",
              "    <path d=\"M18.56 5.44l.94 2.06.94-2.06 2.06-.94-2.06-.94-.94-2.06-.94 2.06-2.06.94zm-11 1L8.5 8.5l.94-2.06 2.06-.94-2.06-.94L8.5 2.5l-.94 2.06-2.06.94zm10 10l.94 2.06.94-2.06 2.06-.94-2.06-.94-.94-2.06-.94 2.06-2.06.94z\"/><path d=\"M17.41 7.96l-1.37-1.37c-.4-.4-.92-.59-1.43-.59-.52 0-1.04.2-1.43.59L10.3 9.45l-7.72 7.72c-.78.78-.78 2.05 0 2.83L4 21.41c.39.39.9.59 1.41.59.51 0 1.02-.2 1.41-.59l7.78-7.78 2.81-2.81c.8-.78.8-2.07 0-2.86zM5.41 20L4 18.59l7.72-7.72 1.47 1.35L5.41 20z\"/>\n",
              "  </svg>\n",
              "      </button>\n",
              "      \n",
              "  <style>\n",
              "    .colab-df-container {\n",
              "      display:flex;\n",
              "      flex-wrap:wrap;\n",
              "      gap: 12px;\n",
              "    }\n",
              "\n",
              "    .colab-df-convert {\n",
              "      background-color: #E8F0FE;\n",
              "      border: none;\n",
              "      border-radius: 50%;\n",
              "      cursor: pointer;\n",
              "      display: none;\n",
              "      fill: #1967D2;\n",
              "      height: 32px;\n",
              "      padding: 0 0 0 0;\n",
              "      width: 32px;\n",
              "    }\n",
              "\n",
              "    .colab-df-convert:hover {\n",
              "      background-color: #E2EBFA;\n",
              "      box-shadow: 0px 1px 2px rgba(60, 64, 67, 0.3), 0px 1px 3px 1px rgba(60, 64, 67, 0.15);\n",
              "      fill: #174EA6;\n",
              "    }\n",
              "\n",
              "    [theme=dark] .colab-df-convert {\n",
              "      background-color: #3B4455;\n",
              "      fill: #D2E3FC;\n",
              "    }\n",
              "\n",
              "    [theme=dark] .colab-df-convert:hover {\n",
              "      background-color: #434B5C;\n",
              "      box-shadow: 0px 1px 3px 1px rgba(0, 0, 0, 0.15);\n",
              "      filter: drop-shadow(0px 1px 2px rgba(0, 0, 0, 0.3));\n",
              "      fill: #FFFFFF;\n",
              "    }\n",
              "  </style>\n",
              "\n",
              "      <script>\n",
              "        const buttonEl =\n",
              "          document.querySelector('#df-f2e28ee5-817e-451b-be6b-cf39a86fb12f button.colab-df-convert');\n",
              "        buttonEl.style.display =\n",
              "          google.colab.kernel.accessAllowed ? 'block' : 'none';\n",
              "\n",
              "        async function convertToInteractive(key) {\n",
              "          const element = document.querySelector('#df-f2e28ee5-817e-451b-be6b-cf39a86fb12f');\n",
              "          const dataTable =\n",
              "            await google.colab.kernel.invokeFunction('convertToInteractive',\n",
              "                                                     [key], {});\n",
              "          if (!dataTable) return;\n",
              "\n",
              "          const docLinkHtml = 'Like what you see? Visit the ' +\n",
              "            '<a target=\"_blank\" href=https://colab.research.google.com/notebooks/data_table.ipynb>data table notebook</a>'\n",
              "            + ' to learn more about interactive tables.';\n",
              "          element.innerHTML = '';\n",
              "          dataTable['output_type'] = 'display_data';\n",
              "          await google.colab.output.renderOutput(dataTable, element);\n",
              "          const docLink = document.createElement('div');\n",
              "          docLink.innerHTML = docLinkHtml;\n",
              "          element.appendChild(docLink);\n",
              "        }\n",
              "      </script>\n",
              "    </div>\n",
              "  </div>\n",
              "  "
            ]
          },
          "metadata": {},
          "execution_count": 143
        }
      ]
    },
    {
      "cell_type": "code",
      "source": [
        "# add a new row\n",
        "df.loc['John']= [40, 'New York','USA', 'North America', '75000']\n",
        "df"
      ],
      "metadata": {
        "id": "a6aaUu4x9QZP",
        "outputId": "ac0ab1a2-4083-422a-9caf-df946f95f33b",
        "colab": {
          "base_uri": "https://localhost:8080/",
          "height": 332
        }
      },
      "execution_count": 144,
      "outputs": [
        {
          "output_type": "execute_result",
          "data": {
            "text/plain": [
              "         age      city  country         region salary\n",
              "name                                                 \n",
              "Jess      30     Paris   France         Europe  40000\n",
              "Nick      35    Berlin  Germany         Europe  45000\n",
              "Winston   40    Madrid    Spain         Europe  50000\n",
              "Tom       27     Paris   France         Europe  55000\n",
              "Alex      52    London       UK         Europe  60000\n",
              "Matthew   32    London       UK         Europe  65000\n",
              "Philippe  45    London       UK         Europe  70000\n",
              "John      40  New York      USA  North America  75000"
            ],
            "text/html": [
              "\n",
              "  <div id=\"df-52d1dc58-a28c-4a80-a9e7-194353b3c11c\">\n",
              "    <div class=\"colab-df-container\">\n",
              "      <div>\n",
              "<style scoped>\n",
              "    .dataframe tbody tr th:only-of-type {\n",
              "        vertical-align: middle;\n",
              "    }\n",
              "\n",
              "    .dataframe tbody tr th {\n",
              "        vertical-align: top;\n",
              "    }\n",
              "\n",
              "    .dataframe thead th {\n",
              "        text-align: right;\n",
              "    }\n",
              "</style>\n",
              "<table border=\"1\" class=\"dataframe\">\n",
              "  <thead>\n",
              "    <tr style=\"text-align: right;\">\n",
              "      <th></th>\n",
              "      <th>age</th>\n",
              "      <th>city</th>\n",
              "      <th>country</th>\n",
              "      <th>region</th>\n",
              "      <th>salary</th>\n",
              "    </tr>\n",
              "    <tr>\n",
              "      <th>name</th>\n",
              "      <th></th>\n",
              "      <th></th>\n",
              "      <th></th>\n",
              "      <th></th>\n",
              "      <th></th>\n",
              "    </tr>\n",
              "  </thead>\n",
              "  <tbody>\n",
              "    <tr>\n",
              "      <th>Jess</th>\n",
              "      <td>30</td>\n",
              "      <td>Paris</td>\n",
              "      <td>France</td>\n",
              "      <td>Europe</td>\n",
              "      <td>40000</td>\n",
              "    </tr>\n",
              "    <tr>\n",
              "      <th>Nick</th>\n",
              "      <td>35</td>\n",
              "      <td>Berlin</td>\n",
              "      <td>Germany</td>\n",
              "      <td>Europe</td>\n",
              "      <td>45000</td>\n",
              "    </tr>\n",
              "    <tr>\n",
              "      <th>Winston</th>\n",
              "      <td>40</td>\n",
              "      <td>Madrid</td>\n",
              "      <td>Spain</td>\n",
              "      <td>Europe</td>\n",
              "      <td>50000</td>\n",
              "    </tr>\n",
              "    <tr>\n",
              "      <th>Tom</th>\n",
              "      <td>27</td>\n",
              "      <td>Paris</td>\n",
              "      <td>France</td>\n",
              "      <td>Europe</td>\n",
              "      <td>55000</td>\n",
              "    </tr>\n",
              "    <tr>\n",
              "      <th>Alex</th>\n",
              "      <td>52</td>\n",
              "      <td>London</td>\n",
              "      <td>UK</td>\n",
              "      <td>Europe</td>\n",
              "      <td>60000</td>\n",
              "    </tr>\n",
              "    <tr>\n",
              "      <th>Matthew</th>\n",
              "      <td>32</td>\n",
              "      <td>London</td>\n",
              "      <td>UK</td>\n",
              "      <td>Europe</td>\n",
              "      <td>65000</td>\n",
              "    </tr>\n",
              "    <tr>\n",
              "      <th>Philippe</th>\n",
              "      <td>45</td>\n",
              "      <td>London</td>\n",
              "      <td>UK</td>\n",
              "      <td>Europe</td>\n",
              "      <td>70000</td>\n",
              "    </tr>\n",
              "    <tr>\n",
              "      <th>John</th>\n",
              "      <td>40</td>\n",
              "      <td>New York</td>\n",
              "      <td>USA</td>\n",
              "      <td>North America</td>\n",
              "      <td>75000</td>\n",
              "    </tr>\n",
              "  </tbody>\n",
              "</table>\n",
              "</div>\n",
              "      <button class=\"colab-df-convert\" onclick=\"convertToInteractive('df-52d1dc58-a28c-4a80-a9e7-194353b3c11c')\"\n",
              "              title=\"Convert this dataframe to an interactive table.\"\n",
              "              style=\"display:none;\">\n",
              "        \n",
              "  <svg xmlns=\"http://www.w3.org/2000/svg\" height=\"24px\"viewBox=\"0 0 24 24\"\n",
              "       width=\"24px\">\n",
              "    <path d=\"M0 0h24v24H0V0z\" fill=\"none\"/>\n",
              "    <path d=\"M18.56 5.44l.94 2.06.94-2.06 2.06-.94-2.06-.94-.94-2.06-.94 2.06-2.06.94zm-11 1L8.5 8.5l.94-2.06 2.06-.94-2.06-.94L8.5 2.5l-.94 2.06-2.06.94zm10 10l.94 2.06.94-2.06 2.06-.94-2.06-.94-.94-2.06-.94 2.06-2.06.94z\"/><path d=\"M17.41 7.96l-1.37-1.37c-.4-.4-.92-.59-1.43-.59-.52 0-1.04.2-1.43.59L10.3 9.45l-7.72 7.72c-.78.78-.78 2.05 0 2.83L4 21.41c.39.39.9.59 1.41.59.51 0 1.02-.2 1.41-.59l7.78-7.78 2.81-2.81c.8-.78.8-2.07 0-2.86zM5.41 20L4 18.59l7.72-7.72 1.47 1.35L5.41 20z\"/>\n",
              "  </svg>\n",
              "      </button>\n",
              "      \n",
              "  <style>\n",
              "    .colab-df-container {\n",
              "      display:flex;\n",
              "      flex-wrap:wrap;\n",
              "      gap: 12px;\n",
              "    }\n",
              "\n",
              "    .colab-df-convert {\n",
              "      background-color: #E8F0FE;\n",
              "      border: none;\n",
              "      border-radius: 50%;\n",
              "      cursor: pointer;\n",
              "      display: none;\n",
              "      fill: #1967D2;\n",
              "      height: 32px;\n",
              "      padding: 0 0 0 0;\n",
              "      width: 32px;\n",
              "    }\n",
              "\n",
              "    .colab-df-convert:hover {\n",
              "      background-color: #E2EBFA;\n",
              "      box-shadow: 0px 1px 2px rgba(60, 64, 67, 0.3), 0px 1px 3px 1px rgba(60, 64, 67, 0.15);\n",
              "      fill: #174EA6;\n",
              "    }\n",
              "\n",
              "    [theme=dark] .colab-df-convert {\n",
              "      background-color: #3B4455;\n",
              "      fill: #D2E3FC;\n",
              "    }\n",
              "\n",
              "    [theme=dark] .colab-df-convert:hover {\n",
              "      background-color: #434B5C;\n",
              "      box-shadow: 0px 1px 3px 1px rgba(0, 0, 0, 0.15);\n",
              "      filter: drop-shadow(0px 1px 2px rgba(0, 0, 0, 0.3));\n",
              "      fill: #FFFFFF;\n",
              "    }\n",
              "  </style>\n",
              "\n",
              "      <script>\n",
              "        const buttonEl =\n",
              "          document.querySelector('#df-52d1dc58-a28c-4a80-a9e7-194353b3c11c button.colab-df-convert');\n",
              "        buttonEl.style.display =\n",
              "          google.colab.kernel.accessAllowed ? 'block' : 'none';\n",
              "\n",
              "        async function convertToInteractive(key) {\n",
              "          const element = document.querySelector('#df-52d1dc58-a28c-4a80-a9e7-194353b3c11c');\n",
              "          const dataTable =\n",
              "            await google.colab.kernel.invokeFunction('convertToInteractive',\n",
              "                                                     [key], {});\n",
              "          if (!dataTable) return;\n",
              "\n",
              "          const docLinkHtml = 'Like what you see? Visit the ' +\n",
              "            '<a target=\"_blank\" href=https://colab.research.google.com/notebooks/data_table.ipynb>data table notebook</a>'\n",
              "            + ' to learn more about interactive tables.';\n",
              "          element.innerHTML = '';\n",
              "          dataTable['output_type'] = 'display_data';\n",
              "          await google.colab.output.renderOutput(dataTable, element);\n",
              "          const docLink = document.createElement('div');\n",
              "          docLink.innerHTML = docLinkHtml;\n",
              "          element.appendChild(docLink);\n",
              "        }\n",
              "      </script>\n",
              "    </div>\n",
              "  </div>\n",
              "  "
            ]
          },
          "metadata": {},
          "execution_count": 144
        }
      ]
    },
    {
      "cell_type": "markdown",
      "source": [
        "## Modify the df"
      ],
      "metadata": {
        "id": "Ksid4CP_D3Ce"
      }
    },
    {
      "cell_type": "code",
      "source": [
        "# Philippe moved to Paris and we want to update the df\n",
        "\n",
        "df.loc['Philippe', ['city', 'country']] = ['Paris', 'France']\n",
        "df"
      ],
      "metadata": {
        "id": "vBsA8cZEBf66",
        "outputId": "6bf65d6d-fe72-4678-f06c-33e0885b8623",
        "colab": {
          "base_uri": "https://localhost:8080/",
          "height": 332
        }
      },
      "execution_count": 145,
      "outputs": [
        {
          "output_type": "execute_result",
          "data": {
            "text/plain": [
              "         age      city  country         region salary\n",
              "name                                                 \n",
              "Jess      30     Paris   France         Europe  40000\n",
              "Nick      35    Berlin  Germany         Europe  45000\n",
              "Winston   40    Madrid    Spain         Europe  50000\n",
              "Tom       27     Paris   France         Europe  55000\n",
              "Alex      52    London       UK         Europe  60000\n",
              "Matthew   32    London       UK         Europe  65000\n",
              "Philippe  45     Paris   France         Europe  70000\n",
              "John      40  New York      USA  North America  75000"
            ],
            "text/html": [
              "\n",
              "  <div id=\"df-56cb4ed2-9f50-4153-8415-6f4d5396f787\">\n",
              "    <div class=\"colab-df-container\">\n",
              "      <div>\n",
              "<style scoped>\n",
              "    .dataframe tbody tr th:only-of-type {\n",
              "        vertical-align: middle;\n",
              "    }\n",
              "\n",
              "    .dataframe tbody tr th {\n",
              "        vertical-align: top;\n",
              "    }\n",
              "\n",
              "    .dataframe thead th {\n",
              "        text-align: right;\n",
              "    }\n",
              "</style>\n",
              "<table border=\"1\" class=\"dataframe\">\n",
              "  <thead>\n",
              "    <tr style=\"text-align: right;\">\n",
              "      <th></th>\n",
              "      <th>age</th>\n",
              "      <th>city</th>\n",
              "      <th>country</th>\n",
              "      <th>region</th>\n",
              "      <th>salary</th>\n",
              "    </tr>\n",
              "    <tr>\n",
              "      <th>name</th>\n",
              "      <th></th>\n",
              "      <th></th>\n",
              "      <th></th>\n",
              "      <th></th>\n",
              "      <th></th>\n",
              "    </tr>\n",
              "  </thead>\n",
              "  <tbody>\n",
              "    <tr>\n",
              "      <th>Jess</th>\n",
              "      <td>30</td>\n",
              "      <td>Paris</td>\n",
              "      <td>France</td>\n",
              "      <td>Europe</td>\n",
              "      <td>40000</td>\n",
              "    </tr>\n",
              "    <tr>\n",
              "      <th>Nick</th>\n",
              "      <td>35</td>\n",
              "      <td>Berlin</td>\n",
              "      <td>Germany</td>\n",
              "      <td>Europe</td>\n",
              "      <td>45000</td>\n",
              "    </tr>\n",
              "    <tr>\n",
              "      <th>Winston</th>\n",
              "      <td>40</td>\n",
              "      <td>Madrid</td>\n",
              "      <td>Spain</td>\n",
              "      <td>Europe</td>\n",
              "      <td>50000</td>\n",
              "    </tr>\n",
              "    <tr>\n",
              "      <th>Tom</th>\n",
              "      <td>27</td>\n",
              "      <td>Paris</td>\n",
              "      <td>France</td>\n",
              "      <td>Europe</td>\n",
              "      <td>55000</td>\n",
              "    </tr>\n",
              "    <tr>\n",
              "      <th>Alex</th>\n",
              "      <td>52</td>\n",
              "      <td>London</td>\n",
              "      <td>UK</td>\n",
              "      <td>Europe</td>\n",
              "      <td>60000</td>\n",
              "    </tr>\n",
              "    <tr>\n",
              "      <th>Matthew</th>\n",
              "      <td>32</td>\n",
              "      <td>London</td>\n",
              "      <td>UK</td>\n",
              "      <td>Europe</td>\n",
              "      <td>65000</td>\n",
              "    </tr>\n",
              "    <tr>\n",
              "      <th>Philippe</th>\n",
              "      <td>45</td>\n",
              "      <td>Paris</td>\n",
              "      <td>France</td>\n",
              "      <td>Europe</td>\n",
              "      <td>70000</td>\n",
              "    </tr>\n",
              "    <tr>\n",
              "      <th>John</th>\n",
              "      <td>40</td>\n",
              "      <td>New York</td>\n",
              "      <td>USA</td>\n",
              "      <td>North America</td>\n",
              "      <td>75000</td>\n",
              "    </tr>\n",
              "  </tbody>\n",
              "</table>\n",
              "</div>\n",
              "      <button class=\"colab-df-convert\" onclick=\"convertToInteractive('df-56cb4ed2-9f50-4153-8415-6f4d5396f787')\"\n",
              "              title=\"Convert this dataframe to an interactive table.\"\n",
              "              style=\"display:none;\">\n",
              "        \n",
              "  <svg xmlns=\"http://www.w3.org/2000/svg\" height=\"24px\"viewBox=\"0 0 24 24\"\n",
              "       width=\"24px\">\n",
              "    <path d=\"M0 0h24v24H0V0z\" fill=\"none\"/>\n",
              "    <path d=\"M18.56 5.44l.94 2.06.94-2.06 2.06-.94-2.06-.94-.94-2.06-.94 2.06-2.06.94zm-11 1L8.5 8.5l.94-2.06 2.06-.94-2.06-.94L8.5 2.5l-.94 2.06-2.06.94zm10 10l.94 2.06.94-2.06 2.06-.94-2.06-.94-.94-2.06-.94 2.06-2.06.94z\"/><path d=\"M17.41 7.96l-1.37-1.37c-.4-.4-.92-.59-1.43-.59-.52 0-1.04.2-1.43.59L10.3 9.45l-7.72 7.72c-.78.78-.78 2.05 0 2.83L4 21.41c.39.39.9.59 1.41.59.51 0 1.02-.2 1.41-.59l7.78-7.78 2.81-2.81c.8-.78.8-2.07 0-2.86zM5.41 20L4 18.59l7.72-7.72 1.47 1.35L5.41 20z\"/>\n",
              "  </svg>\n",
              "      </button>\n",
              "      \n",
              "  <style>\n",
              "    .colab-df-container {\n",
              "      display:flex;\n",
              "      flex-wrap:wrap;\n",
              "      gap: 12px;\n",
              "    }\n",
              "\n",
              "    .colab-df-convert {\n",
              "      background-color: #E8F0FE;\n",
              "      border: none;\n",
              "      border-radius: 50%;\n",
              "      cursor: pointer;\n",
              "      display: none;\n",
              "      fill: #1967D2;\n",
              "      height: 32px;\n",
              "      padding: 0 0 0 0;\n",
              "      width: 32px;\n",
              "    }\n",
              "\n",
              "    .colab-df-convert:hover {\n",
              "      background-color: #E2EBFA;\n",
              "      box-shadow: 0px 1px 2px rgba(60, 64, 67, 0.3), 0px 1px 3px 1px rgba(60, 64, 67, 0.15);\n",
              "      fill: #174EA6;\n",
              "    }\n",
              "\n",
              "    [theme=dark] .colab-df-convert {\n",
              "      background-color: #3B4455;\n",
              "      fill: #D2E3FC;\n",
              "    }\n",
              "\n",
              "    [theme=dark] .colab-df-convert:hover {\n",
              "      background-color: #434B5C;\n",
              "      box-shadow: 0px 1px 3px 1px rgba(0, 0, 0, 0.15);\n",
              "      filter: drop-shadow(0px 1px 2px rgba(0, 0, 0, 0.3));\n",
              "      fill: #FFFFFF;\n",
              "    }\n",
              "  </style>\n",
              "\n",
              "      <script>\n",
              "        const buttonEl =\n",
              "          document.querySelector('#df-56cb4ed2-9f50-4153-8415-6f4d5396f787 button.colab-df-convert');\n",
              "        buttonEl.style.display =\n",
              "          google.colab.kernel.accessAllowed ? 'block' : 'none';\n",
              "\n",
              "        async function convertToInteractive(key) {\n",
              "          const element = document.querySelector('#df-56cb4ed2-9f50-4153-8415-6f4d5396f787');\n",
              "          const dataTable =\n",
              "            await google.colab.kernel.invokeFunction('convertToInteractive',\n",
              "                                                     [key], {});\n",
              "          if (!dataTable) return;\n",
              "\n",
              "          const docLinkHtml = 'Like what you see? Visit the ' +\n",
              "            '<a target=\"_blank\" href=https://colab.research.google.com/notebooks/data_table.ipynb>data table notebook</a>'\n",
              "            + ' to learn more about interactive tables.';\n",
              "          element.innerHTML = '';\n",
              "          dataTable['output_type'] = 'display_data';\n",
              "          await google.colab.output.renderOutput(dataTable, element);\n",
              "          const docLink = document.createElement('div');\n",
              "          docLink.innerHTML = docLinkHtml;\n",
              "          element.appendChild(docLink);\n",
              "        }\n",
              "      </script>\n",
              "    </div>\n",
              "  </div>\n",
              "  "
            ]
          },
          "metadata": {},
          "execution_count": 145
        }
      ]
    },
    {
      "cell_type": "code",
      "source": [
        "# Philippe moved back  to London and even got a promotion and we want to update the df\n",
        "\n",
        "df.iloc[6, [1, 2, 4]]= ['London', 'UK', '80000'] \n",
        "\n",
        "df"
      ],
      "metadata": {
        "id": "SR-kgJjkCJH9",
        "outputId": "8a6d2d64-e0a3-47da-e86c-4ea3434e42d5",
        "colab": {
          "base_uri": "https://localhost:8080/",
          "height": 332
        }
      },
      "execution_count": 146,
      "outputs": [
        {
          "output_type": "execute_result",
          "data": {
            "text/plain": [
              "         age      city  country         region salary\n",
              "name                                                 \n",
              "Jess      30     Paris   France         Europe  40000\n",
              "Nick      35    Berlin  Germany         Europe  45000\n",
              "Winston   40    Madrid    Spain         Europe  50000\n",
              "Tom       27     Paris   France         Europe  55000\n",
              "Alex      52    London       UK         Europe  60000\n",
              "Matthew   32    London       UK         Europe  65000\n",
              "Philippe  45    London       UK         Europe  80000\n",
              "John      40  New York      USA  North America  75000"
            ],
            "text/html": [
              "\n",
              "  <div id=\"df-4072651b-254e-4cd5-a58f-9351e303d5f7\">\n",
              "    <div class=\"colab-df-container\">\n",
              "      <div>\n",
              "<style scoped>\n",
              "    .dataframe tbody tr th:only-of-type {\n",
              "        vertical-align: middle;\n",
              "    }\n",
              "\n",
              "    .dataframe tbody tr th {\n",
              "        vertical-align: top;\n",
              "    }\n",
              "\n",
              "    .dataframe thead th {\n",
              "        text-align: right;\n",
              "    }\n",
              "</style>\n",
              "<table border=\"1\" class=\"dataframe\">\n",
              "  <thead>\n",
              "    <tr style=\"text-align: right;\">\n",
              "      <th></th>\n",
              "      <th>age</th>\n",
              "      <th>city</th>\n",
              "      <th>country</th>\n",
              "      <th>region</th>\n",
              "      <th>salary</th>\n",
              "    </tr>\n",
              "    <tr>\n",
              "      <th>name</th>\n",
              "      <th></th>\n",
              "      <th></th>\n",
              "      <th></th>\n",
              "      <th></th>\n",
              "      <th></th>\n",
              "    </tr>\n",
              "  </thead>\n",
              "  <tbody>\n",
              "    <tr>\n",
              "      <th>Jess</th>\n",
              "      <td>30</td>\n",
              "      <td>Paris</td>\n",
              "      <td>France</td>\n",
              "      <td>Europe</td>\n",
              "      <td>40000</td>\n",
              "    </tr>\n",
              "    <tr>\n",
              "      <th>Nick</th>\n",
              "      <td>35</td>\n",
              "      <td>Berlin</td>\n",
              "      <td>Germany</td>\n",
              "      <td>Europe</td>\n",
              "      <td>45000</td>\n",
              "    </tr>\n",
              "    <tr>\n",
              "      <th>Winston</th>\n",
              "      <td>40</td>\n",
              "      <td>Madrid</td>\n",
              "      <td>Spain</td>\n",
              "      <td>Europe</td>\n",
              "      <td>50000</td>\n",
              "    </tr>\n",
              "    <tr>\n",
              "      <th>Tom</th>\n",
              "      <td>27</td>\n",
              "      <td>Paris</td>\n",
              "      <td>France</td>\n",
              "      <td>Europe</td>\n",
              "      <td>55000</td>\n",
              "    </tr>\n",
              "    <tr>\n",
              "      <th>Alex</th>\n",
              "      <td>52</td>\n",
              "      <td>London</td>\n",
              "      <td>UK</td>\n",
              "      <td>Europe</td>\n",
              "      <td>60000</td>\n",
              "    </tr>\n",
              "    <tr>\n",
              "      <th>Matthew</th>\n",
              "      <td>32</td>\n",
              "      <td>London</td>\n",
              "      <td>UK</td>\n",
              "      <td>Europe</td>\n",
              "      <td>65000</td>\n",
              "    </tr>\n",
              "    <tr>\n",
              "      <th>Philippe</th>\n",
              "      <td>45</td>\n",
              "      <td>London</td>\n",
              "      <td>UK</td>\n",
              "      <td>Europe</td>\n",
              "      <td>80000</td>\n",
              "    </tr>\n",
              "    <tr>\n",
              "      <th>John</th>\n",
              "      <td>40</td>\n",
              "      <td>New York</td>\n",
              "      <td>USA</td>\n",
              "      <td>North America</td>\n",
              "      <td>75000</td>\n",
              "    </tr>\n",
              "  </tbody>\n",
              "</table>\n",
              "</div>\n",
              "      <button class=\"colab-df-convert\" onclick=\"convertToInteractive('df-4072651b-254e-4cd5-a58f-9351e303d5f7')\"\n",
              "              title=\"Convert this dataframe to an interactive table.\"\n",
              "              style=\"display:none;\">\n",
              "        \n",
              "  <svg xmlns=\"http://www.w3.org/2000/svg\" height=\"24px\"viewBox=\"0 0 24 24\"\n",
              "       width=\"24px\">\n",
              "    <path d=\"M0 0h24v24H0V0z\" fill=\"none\"/>\n",
              "    <path d=\"M18.56 5.44l.94 2.06.94-2.06 2.06-.94-2.06-.94-.94-2.06-.94 2.06-2.06.94zm-11 1L8.5 8.5l.94-2.06 2.06-.94-2.06-.94L8.5 2.5l-.94 2.06-2.06.94zm10 10l.94 2.06.94-2.06 2.06-.94-2.06-.94-.94-2.06-.94 2.06-2.06.94z\"/><path d=\"M17.41 7.96l-1.37-1.37c-.4-.4-.92-.59-1.43-.59-.52 0-1.04.2-1.43.59L10.3 9.45l-7.72 7.72c-.78.78-.78 2.05 0 2.83L4 21.41c.39.39.9.59 1.41.59.51 0 1.02-.2 1.41-.59l7.78-7.78 2.81-2.81c.8-.78.8-2.07 0-2.86zM5.41 20L4 18.59l7.72-7.72 1.47 1.35L5.41 20z\"/>\n",
              "  </svg>\n",
              "      </button>\n",
              "      \n",
              "  <style>\n",
              "    .colab-df-container {\n",
              "      display:flex;\n",
              "      flex-wrap:wrap;\n",
              "      gap: 12px;\n",
              "    }\n",
              "\n",
              "    .colab-df-convert {\n",
              "      background-color: #E8F0FE;\n",
              "      border: none;\n",
              "      border-radius: 50%;\n",
              "      cursor: pointer;\n",
              "      display: none;\n",
              "      fill: #1967D2;\n",
              "      height: 32px;\n",
              "      padding: 0 0 0 0;\n",
              "      width: 32px;\n",
              "    }\n",
              "\n",
              "    .colab-df-convert:hover {\n",
              "      background-color: #E2EBFA;\n",
              "      box-shadow: 0px 1px 2px rgba(60, 64, 67, 0.3), 0px 1px 3px 1px rgba(60, 64, 67, 0.15);\n",
              "      fill: #174EA6;\n",
              "    }\n",
              "\n",
              "    [theme=dark] .colab-df-convert {\n",
              "      background-color: #3B4455;\n",
              "      fill: #D2E3FC;\n",
              "    }\n",
              "\n",
              "    [theme=dark] .colab-df-convert:hover {\n",
              "      background-color: #434B5C;\n",
              "      box-shadow: 0px 1px 3px 1px rgba(0, 0, 0, 0.15);\n",
              "      filter: drop-shadow(0px 1px 2px rgba(0, 0, 0, 0.3));\n",
              "      fill: #FFFFFF;\n",
              "    }\n",
              "  </style>\n",
              "\n",
              "      <script>\n",
              "        const buttonEl =\n",
              "          document.querySelector('#df-4072651b-254e-4cd5-a58f-9351e303d5f7 button.colab-df-convert');\n",
              "        buttonEl.style.display =\n",
              "          google.colab.kernel.accessAllowed ? 'block' : 'none';\n",
              "\n",
              "        async function convertToInteractive(key) {\n",
              "          const element = document.querySelector('#df-4072651b-254e-4cd5-a58f-9351e303d5f7');\n",
              "          const dataTable =\n",
              "            await google.colab.kernel.invokeFunction('convertToInteractive',\n",
              "                                                     [key], {});\n",
              "          if (!dataTable) return;\n",
              "\n",
              "          const docLinkHtml = 'Like what you see? Visit the ' +\n",
              "            '<a target=\"_blank\" href=https://colab.research.google.com/notebooks/data_table.ipynb>data table notebook</a>'\n",
              "            + ' to learn more about interactive tables.';\n",
              "          element.innerHTML = '';\n",
              "          dataTable['output_type'] = 'display_data';\n",
              "          await google.colab.output.renderOutput(dataTable, element);\n",
              "          const docLink = document.createElement('div');\n",
              "          docLink.innerHTML = docLinkHtml;\n",
              "          element.appendChild(docLink);\n",
              "        }\n",
              "      </script>\n",
              "    </div>\n",
              "  </div>\n",
              "  "
            ]
          },
          "metadata": {},
          "execution_count": 146
        }
      ]
    },
    {
      "cell_type": "markdown",
      "source": [
        "## Explore df"
      ],
      "metadata": {
        "id": "6XtJyKUF8H5r"
      }
    },
    {
      "cell_type": "code",
      "execution_count": 147,
      "metadata": {
        "id": "yseGtfbScVfi",
        "outputId": "00e51a20-a5ab-44b7-90e5-c19442af0bdb",
        "colab": {
          "base_uri": "https://localhost:8080/"
        }
      },
      "outputs": [
        {
          "output_type": "stream",
          "name": "stdout",
          "text": [
            "<class 'pandas.core.frame.DataFrame'>\n",
            "Index: 8 entries, Jess to John\n",
            "Data columns (total 5 columns):\n",
            " #   Column   Non-Null Count  Dtype \n",
            "---  ------   --------------  ----- \n",
            " 0   age      8 non-null      object\n",
            " 1   city     8 non-null      object\n",
            " 2   country  8 non-null      object\n",
            " 3   region   8 non-null      object\n",
            " 4   salary   8 non-null      object\n",
            "dtypes: object(5)\n",
            "memory usage: 684.0+ bytes\n"
          ]
        }
      ],
      "source": [
        "# general info of df\n",
        "\n",
        "df.info()"
      ]
    },
    {
      "cell_type": "code",
      "execution_count": 148,
      "metadata": {
        "id": "QvQMEv9_coSn",
        "outputId": "18286e60-4069-40ad-a073-6dacc1493055",
        "colab": {
          "base_uri": "https://localhost:8080/"
        }
      },
      "outputs": [
        {
          "output_type": "stream",
          "name": "stdout",
          "text": [
            "<class 'pandas.core.frame.DataFrame'>\n",
            "Index: 8 entries, Jess to John\n",
            "Data columns (total 5 columns):\n",
            " #   Column   Non-Null Count  Dtype \n",
            "---  ------   --------------  ----- \n",
            " 0   age      8 non-null      int64 \n",
            " 1   city     8 non-null      object\n",
            " 2   country  8 non-null      object\n",
            " 3   region   8 non-null      object\n",
            " 4   salary   8 non-null      int64 \n",
            "dtypes: int64(2), object(3)\n",
            "memory usage: 684.0+ bytes\n"
          ]
        }
      ],
      "source": [
        "# salary and age are object dtype, but we want it as numeric\n",
        "\n",
        "# convert column of a DataFrame\n",
        "df[\"age\"] = pd.to_numeric(df[\"age\"])\n",
        "df[\"salary\"] = pd.to_numeric(df.salary)\n",
        "df.info()"
      ]
    },
    {
      "cell_type": "code",
      "execution_count": 149,
      "metadata": {
        "id": "gltC1Y6Pcx6Q",
        "outputId": "69b2a382-ad70-4014-d76e-fdf09a983b5d",
        "colab": {
          "base_uri": "https://localhost:8080/",
          "height": 300
        }
      },
      "outputs": [
        {
          "output_type": "execute_result",
          "data": {
            "text/plain": [
              "             age        salary\n",
              "count   8.000000      8.000000\n",
              "mean   37.625000  58750.000000\n",
              "std     8.296944  14078.859532\n",
              "min    27.000000  40000.000000\n",
              "25%    31.500000  48750.000000\n",
              "50%    37.500000  57500.000000\n",
              "75%    41.250000  67500.000000\n",
              "max    52.000000  80000.000000"
            ],
            "text/html": [
              "\n",
              "  <div id=\"df-27069c3f-5fb1-4120-a772-0014e759210b\">\n",
              "    <div class=\"colab-df-container\">\n",
              "      <div>\n",
              "<style scoped>\n",
              "    .dataframe tbody tr th:only-of-type {\n",
              "        vertical-align: middle;\n",
              "    }\n",
              "\n",
              "    .dataframe tbody tr th {\n",
              "        vertical-align: top;\n",
              "    }\n",
              "\n",
              "    .dataframe thead th {\n",
              "        text-align: right;\n",
              "    }\n",
              "</style>\n",
              "<table border=\"1\" class=\"dataframe\">\n",
              "  <thead>\n",
              "    <tr style=\"text-align: right;\">\n",
              "      <th></th>\n",
              "      <th>age</th>\n",
              "      <th>salary</th>\n",
              "    </tr>\n",
              "  </thead>\n",
              "  <tbody>\n",
              "    <tr>\n",
              "      <th>count</th>\n",
              "      <td>8.000000</td>\n",
              "      <td>8.000000</td>\n",
              "    </tr>\n",
              "    <tr>\n",
              "      <th>mean</th>\n",
              "      <td>37.625000</td>\n",
              "      <td>58750.000000</td>\n",
              "    </tr>\n",
              "    <tr>\n",
              "      <th>std</th>\n",
              "      <td>8.296944</td>\n",
              "      <td>14078.859532</td>\n",
              "    </tr>\n",
              "    <tr>\n",
              "      <th>min</th>\n",
              "      <td>27.000000</td>\n",
              "      <td>40000.000000</td>\n",
              "    </tr>\n",
              "    <tr>\n",
              "      <th>25%</th>\n",
              "      <td>31.500000</td>\n",
              "      <td>48750.000000</td>\n",
              "    </tr>\n",
              "    <tr>\n",
              "      <th>50%</th>\n",
              "      <td>37.500000</td>\n",
              "      <td>57500.000000</td>\n",
              "    </tr>\n",
              "    <tr>\n",
              "      <th>75%</th>\n",
              "      <td>41.250000</td>\n",
              "      <td>67500.000000</td>\n",
              "    </tr>\n",
              "    <tr>\n",
              "      <th>max</th>\n",
              "      <td>52.000000</td>\n",
              "      <td>80000.000000</td>\n",
              "    </tr>\n",
              "  </tbody>\n",
              "</table>\n",
              "</div>\n",
              "      <button class=\"colab-df-convert\" onclick=\"convertToInteractive('df-27069c3f-5fb1-4120-a772-0014e759210b')\"\n",
              "              title=\"Convert this dataframe to an interactive table.\"\n",
              "              style=\"display:none;\">\n",
              "        \n",
              "  <svg xmlns=\"http://www.w3.org/2000/svg\" height=\"24px\"viewBox=\"0 0 24 24\"\n",
              "       width=\"24px\">\n",
              "    <path d=\"M0 0h24v24H0V0z\" fill=\"none\"/>\n",
              "    <path d=\"M18.56 5.44l.94 2.06.94-2.06 2.06-.94-2.06-.94-.94-2.06-.94 2.06-2.06.94zm-11 1L8.5 8.5l.94-2.06 2.06-.94-2.06-.94L8.5 2.5l-.94 2.06-2.06.94zm10 10l.94 2.06.94-2.06 2.06-.94-2.06-.94-.94-2.06-.94 2.06-2.06.94z\"/><path d=\"M17.41 7.96l-1.37-1.37c-.4-.4-.92-.59-1.43-.59-.52 0-1.04.2-1.43.59L10.3 9.45l-7.72 7.72c-.78.78-.78 2.05 0 2.83L4 21.41c.39.39.9.59 1.41.59.51 0 1.02-.2 1.41-.59l7.78-7.78 2.81-2.81c.8-.78.8-2.07 0-2.86zM5.41 20L4 18.59l7.72-7.72 1.47 1.35L5.41 20z\"/>\n",
              "  </svg>\n",
              "      </button>\n",
              "      \n",
              "  <style>\n",
              "    .colab-df-container {\n",
              "      display:flex;\n",
              "      flex-wrap:wrap;\n",
              "      gap: 12px;\n",
              "    }\n",
              "\n",
              "    .colab-df-convert {\n",
              "      background-color: #E8F0FE;\n",
              "      border: none;\n",
              "      border-radius: 50%;\n",
              "      cursor: pointer;\n",
              "      display: none;\n",
              "      fill: #1967D2;\n",
              "      height: 32px;\n",
              "      padding: 0 0 0 0;\n",
              "      width: 32px;\n",
              "    }\n",
              "\n",
              "    .colab-df-convert:hover {\n",
              "      background-color: #E2EBFA;\n",
              "      box-shadow: 0px 1px 2px rgba(60, 64, 67, 0.3), 0px 1px 3px 1px rgba(60, 64, 67, 0.15);\n",
              "      fill: #174EA6;\n",
              "    }\n",
              "\n",
              "    [theme=dark] .colab-df-convert {\n",
              "      background-color: #3B4455;\n",
              "      fill: #D2E3FC;\n",
              "    }\n",
              "\n",
              "    [theme=dark] .colab-df-convert:hover {\n",
              "      background-color: #434B5C;\n",
              "      box-shadow: 0px 1px 3px 1px rgba(0, 0, 0, 0.15);\n",
              "      filter: drop-shadow(0px 1px 2px rgba(0, 0, 0, 0.3));\n",
              "      fill: #FFFFFF;\n",
              "    }\n",
              "  </style>\n",
              "\n",
              "      <script>\n",
              "        const buttonEl =\n",
              "          document.querySelector('#df-27069c3f-5fb1-4120-a772-0014e759210b button.colab-df-convert');\n",
              "        buttonEl.style.display =\n",
              "          google.colab.kernel.accessAllowed ? 'block' : 'none';\n",
              "\n",
              "        async function convertToInteractive(key) {\n",
              "          const element = document.querySelector('#df-27069c3f-5fb1-4120-a772-0014e759210b');\n",
              "          const dataTable =\n",
              "            await google.colab.kernel.invokeFunction('convertToInteractive',\n",
              "                                                     [key], {});\n",
              "          if (!dataTable) return;\n",
              "\n",
              "          const docLinkHtml = 'Like what you see? Visit the ' +\n",
              "            '<a target=\"_blank\" href=https://colab.research.google.com/notebooks/data_table.ipynb>data table notebook</a>'\n",
              "            + ' to learn more about interactive tables.';\n",
              "          element.innerHTML = '';\n",
              "          dataTable['output_type'] = 'display_data';\n",
              "          await google.colab.output.renderOutput(dataTable, element);\n",
              "          const docLink = document.createElement('div');\n",
              "          docLink.innerHTML = docLinkHtml;\n",
              "          element.appendChild(docLink);\n",
              "        }\n",
              "      </script>\n",
              "    </div>\n",
              "  </div>\n",
              "  "
            ]
          },
          "metadata": {},
          "execution_count": 149
        }
      ],
      "source": [
        "# df describe\n",
        "\n",
        "df.describe()"
      ]
    },
    {
      "cell_type": "code",
      "execution_count": 150,
      "metadata": {
        "id": "YE3QM_BhYrHs",
        "outputId": "0058f1b7-8bfb-4198-d125-64ddf482d402",
        "colab": {
          "base_uri": "https://localhost:8080/"
        }
      },
      "outputs": [
        {
          "output_type": "execute_result",
          "data": {
            "text/plain": [
              "array(['Paris', 'Berlin', 'Madrid', 'London', 'New York'], dtype=object)"
            ]
          },
          "metadata": {},
          "execution_count": 150
        }
      ],
      "source": [
        "# distinct cities\n",
        "\n",
        "df.city.unique()"
      ]
    },
    {
      "cell_type": "code",
      "execution_count": 151,
      "metadata": {
        "id": "Rn6swduVY9o6",
        "outputId": "1413bf85-f3c9-40b8-8a2d-7fc57b1ca468",
        "colab": {
          "base_uri": "https://localhost:8080/"
        }
      },
      "outputs": [
        {
          "output_type": "execute_result",
          "data": {
            "text/plain": [
              "5"
            ]
          },
          "metadata": {},
          "execution_count": 151
        }
      ],
      "source": [
        "\n",
        "# number of distinct cities\n",
        "len(df['city'].unique())"
      ]
    },
    {
      "cell_type": "markdown",
      "metadata": {
        "id": "8dRDNJTZbKGx"
      },
      "source": [
        "## Groupby"
      ]
    },
    {
      "cell_type": "code",
      "execution_count": 152,
      "metadata": {
        "id": "lLkDe2Q-bPZb",
        "outputId": "8537bab4-8d75-4c2c-c314-51a505098cda",
        "colab": {
          "base_uri": "https://localhost:8080/"
        }
      },
      "outputs": [
        {
          "output_type": "execute_result",
          "data": {
            "text/plain": [
              "city\n",
              "Berlin      35.0\n",
              "London      43.0\n",
              "Madrid      40.0\n",
              "New York    40.0\n",
              "Paris       28.5\n",
              "Name: age, dtype: float64"
            ]
          },
          "metadata": {},
          "execution_count": 152
        }
      ],
      "source": [
        "#check the mean age by city\n",
        "df.groupby(by=[\"city\"])['age'].mean()"
      ]
    },
    {
      "cell_type": "code",
      "execution_count": 156,
      "metadata": {
        "id": "Cjqu7rrhZzrc",
        "outputId": "14de5e35-fa19-4857-d553-d3c8403d2cb1",
        "colab": {
          "base_uri": "https://localhost:8080/"
        }
      },
      "outputs": [
        {
          "output_type": "execute_result",
          "data": {
            "text/plain": [
              "city\n",
              "Berlin       45000\n",
              "London      205000\n",
              "Madrid       50000\n",
              "New York     75000\n",
              "Paris        95000\n",
              "Name: salary, dtype: int64"
            ]
          },
          "metadata": {},
          "execution_count": 156
        }
      ],
      "source": [
        "# #check the total salary by city\n",
        "df.groupby(by=[\"city\"])['salary'].sum()"
      ]
    },
    {
      "cell_type": "code",
      "source": [
        "df.groupby(by=[\"country\"])[\"city\"].count()"
      ],
      "metadata": {
        "id": "-yiLvKa8fDqY",
        "outputId": "475aa13e-8344-4569-a8be-9fbccdd86e3e",
        "colab": {
          "base_uri": "https://localhost:8080/"
        }
      },
      "execution_count": 158,
      "outputs": [
        {
          "output_type": "execute_result",
          "data": {
            "text/plain": [
              "country\n",
              "France     2\n",
              "Germany    1\n",
              "Spain      1\n",
              "UK         3\n",
              "USA        1\n",
              "Name: city, dtype: int64"
            ]
          },
          "metadata": {},
          "execution_count": 158
        }
      ]
    },
    {
      "cell_type": "code",
      "execution_count": 154,
      "metadata": {
        "id": "5Ygrjq15eHcb",
        "outputId": "d27a77d8-cfca-4aa5-ebd2-d7c93b29cceb",
        "colab": {
          "base_uri": "https://localhost:8080/"
        }
      },
      "outputs": [
        {
          "output_type": "execute_result",
          "data": {
            "text/plain": [
              "region         country\n",
              "Europe         France     47500.000000\n",
              "               Germany    45000.000000\n",
              "               Spain      50000.000000\n",
              "               UK         68333.333333\n",
              "North America  USA        75000.000000\n",
              "Name: salary, dtype: float64"
            ]
          },
          "metadata": {},
          "execution_count": 154
        }
      ],
      "source": [
        "# group by 2 variables\n",
        "\n",
        "df.groupby(by=['region', \"country\"])['salary'].mean()"
      ]
    },
    {
      "cell_type": "markdown",
      "metadata": {
        "id": "Iaab7nlWe-43"
      },
      "source": [
        "## Pivot"
      ]
    },
    {
      "cell_type": "markdown",
      "source": [
        "Create a spreadsheet-style pivot table as a DataFrame.\n",
        "\n",
        "The levels in the pivot table will be stored in MultiIndex objects (hierarchical indexes) on the index and columns of the result DataFrame"
      ],
      "metadata": {
        "id": "ETOwQZXnIWvk"
      }
    },
    {
      "cell_type": "markdown",
      "source": [
        "More about pivot function in python https://pandas.pydata.org/docs/reference/api/pandas.pivot_table.html"
      ],
      "metadata": {
        "id": "inZ1PdfsIYVl"
      }
    },
    {
      "cell_type": "code",
      "execution_count": 159,
      "metadata": {
        "id": "EmV20Ha_eIy6",
        "outputId": "e740d32e-5465-4a79-d319-59ae2d3c022e",
        "colab": {
          "base_uri": "https://localhost:8080/",
          "height": 332
        }
      },
      "outputs": [
        {
          "output_type": "execute_result",
          "data": {
            "text/plain": [
              "     Box Color   Size  Qty  Weigth\n",
              "0   wood   red  small    1       2\n",
              "1   wood   red  large    2       4\n",
              "2   wood   red  large    2       5\n",
              "3   wood  blue  small    3       5\n",
              "4   wood  blue  small    3       6\n",
              "5  paper   red  large    4       6\n",
              "6  paper   red  small    5       8\n",
              "7  paper  blue  small    6       9\n",
              "8  paper  blue  large    7       9"
            ],
            "text/html": [
              "\n",
              "  <div id=\"df-c7620c1d-83b5-4527-9e19-0d3cee098c63\">\n",
              "    <div class=\"colab-df-container\">\n",
              "      <div>\n",
              "<style scoped>\n",
              "    .dataframe tbody tr th:only-of-type {\n",
              "        vertical-align: middle;\n",
              "    }\n",
              "\n",
              "    .dataframe tbody tr th {\n",
              "        vertical-align: top;\n",
              "    }\n",
              "\n",
              "    .dataframe thead th {\n",
              "        text-align: right;\n",
              "    }\n",
              "</style>\n",
              "<table border=\"1\" class=\"dataframe\">\n",
              "  <thead>\n",
              "    <tr style=\"text-align: right;\">\n",
              "      <th></th>\n",
              "      <th>Box</th>\n",
              "      <th>Color</th>\n",
              "      <th>Size</th>\n",
              "      <th>Qty</th>\n",
              "      <th>Weigth</th>\n",
              "    </tr>\n",
              "  </thead>\n",
              "  <tbody>\n",
              "    <tr>\n",
              "      <th>0</th>\n",
              "      <td>wood</td>\n",
              "      <td>red</td>\n",
              "      <td>small</td>\n",
              "      <td>1</td>\n",
              "      <td>2</td>\n",
              "    </tr>\n",
              "    <tr>\n",
              "      <th>1</th>\n",
              "      <td>wood</td>\n",
              "      <td>red</td>\n",
              "      <td>large</td>\n",
              "      <td>2</td>\n",
              "      <td>4</td>\n",
              "    </tr>\n",
              "    <tr>\n",
              "      <th>2</th>\n",
              "      <td>wood</td>\n",
              "      <td>red</td>\n",
              "      <td>large</td>\n",
              "      <td>2</td>\n",
              "      <td>5</td>\n",
              "    </tr>\n",
              "    <tr>\n",
              "      <th>3</th>\n",
              "      <td>wood</td>\n",
              "      <td>blue</td>\n",
              "      <td>small</td>\n",
              "      <td>3</td>\n",
              "      <td>5</td>\n",
              "    </tr>\n",
              "    <tr>\n",
              "      <th>4</th>\n",
              "      <td>wood</td>\n",
              "      <td>blue</td>\n",
              "      <td>small</td>\n",
              "      <td>3</td>\n",
              "      <td>6</td>\n",
              "    </tr>\n",
              "    <tr>\n",
              "      <th>5</th>\n",
              "      <td>paper</td>\n",
              "      <td>red</td>\n",
              "      <td>large</td>\n",
              "      <td>4</td>\n",
              "      <td>6</td>\n",
              "    </tr>\n",
              "    <tr>\n",
              "      <th>6</th>\n",
              "      <td>paper</td>\n",
              "      <td>red</td>\n",
              "      <td>small</td>\n",
              "      <td>5</td>\n",
              "      <td>8</td>\n",
              "    </tr>\n",
              "    <tr>\n",
              "      <th>7</th>\n",
              "      <td>paper</td>\n",
              "      <td>blue</td>\n",
              "      <td>small</td>\n",
              "      <td>6</td>\n",
              "      <td>9</td>\n",
              "    </tr>\n",
              "    <tr>\n",
              "      <th>8</th>\n",
              "      <td>paper</td>\n",
              "      <td>blue</td>\n",
              "      <td>large</td>\n",
              "      <td>7</td>\n",
              "      <td>9</td>\n",
              "    </tr>\n",
              "  </tbody>\n",
              "</table>\n",
              "</div>\n",
              "      <button class=\"colab-df-convert\" onclick=\"convertToInteractive('df-c7620c1d-83b5-4527-9e19-0d3cee098c63')\"\n",
              "              title=\"Convert this dataframe to an interactive table.\"\n",
              "              style=\"display:none;\">\n",
              "        \n",
              "  <svg xmlns=\"http://www.w3.org/2000/svg\" height=\"24px\"viewBox=\"0 0 24 24\"\n",
              "       width=\"24px\">\n",
              "    <path d=\"M0 0h24v24H0V0z\" fill=\"none\"/>\n",
              "    <path d=\"M18.56 5.44l.94 2.06.94-2.06 2.06-.94-2.06-.94-.94-2.06-.94 2.06-2.06.94zm-11 1L8.5 8.5l.94-2.06 2.06-.94-2.06-.94L8.5 2.5l-.94 2.06-2.06.94zm10 10l.94 2.06.94-2.06 2.06-.94-2.06-.94-.94-2.06-.94 2.06-2.06.94z\"/><path d=\"M17.41 7.96l-1.37-1.37c-.4-.4-.92-.59-1.43-.59-.52 0-1.04.2-1.43.59L10.3 9.45l-7.72 7.72c-.78.78-.78 2.05 0 2.83L4 21.41c.39.39.9.59 1.41.59.51 0 1.02-.2 1.41-.59l7.78-7.78 2.81-2.81c.8-.78.8-2.07 0-2.86zM5.41 20L4 18.59l7.72-7.72 1.47 1.35L5.41 20z\"/>\n",
              "  </svg>\n",
              "      </button>\n",
              "      \n",
              "  <style>\n",
              "    .colab-df-container {\n",
              "      display:flex;\n",
              "      flex-wrap:wrap;\n",
              "      gap: 12px;\n",
              "    }\n",
              "\n",
              "    .colab-df-convert {\n",
              "      background-color: #E8F0FE;\n",
              "      border: none;\n",
              "      border-radius: 50%;\n",
              "      cursor: pointer;\n",
              "      display: none;\n",
              "      fill: #1967D2;\n",
              "      height: 32px;\n",
              "      padding: 0 0 0 0;\n",
              "      width: 32px;\n",
              "    }\n",
              "\n",
              "    .colab-df-convert:hover {\n",
              "      background-color: #E2EBFA;\n",
              "      box-shadow: 0px 1px 2px rgba(60, 64, 67, 0.3), 0px 1px 3px 1px rgba(60, 64, 67, 0.15);\n",
              "      fill: #174EA6;\n",
              "    }\n",
              "\n",
              "    [theme=dark] .colab-df-convert {\n",
              "      background-color: #3B4455;\n",
              "      fill: #D2E3FC;\n",
              "    }\n",
              "\n",
              "    [theme=dark] .colab-df-convert:hover {\n",
              "      background-color: #434B5C;\n",
              "      box-shadow: 0px 1px 3px 1px rgba(0, 0, 0, 0.15);\n",
              "      filter: drop-shadow(0px 1px 2px rgba(0, 0, 0, 0.3));\n",
              "      fill: #FFFFFF;\n",
              "    }\n",
              "  </style>\n",
              "\n",
              "      <script>\n",
              "        const buttonEl =\n",
              "          document.querySelector('#df-c7620c1d-83b5-4527-9e19-0d3cee098c63 button.colab-df-convert');\n",
              "        buttonEl.style.display =\n",
              "          google.colab.kernel.accessAllowed ? 'block' : 'none';\n",
              "\n",
              "        async function convertToInteractive(key) {\n",
              "          const element = document.querySelector('#df-c7620c1d-83b5-4527-9e19-0d3cee098c63');\n",
              "          const dataTable =\n",
              "            await google.colab.kernel.invokeFunction('convertToInteractive',\n",
              "                                                     [key], {});\n",
              "          if (!dataTable) return;\n",
              "\n",
              "          const docLinkHtml = 'Like what you see? Visit the ' +\n",
              "            '<a target=\"_blank\" href=https://colab.research.google.com/notebooks/data_table.ipynb>data table notebook</a>'\n",
              "            + ' to learn more about interactive tables.';\n",
              "          element.innerHTML = '';\n",
              "          dataTable['output_type'] = 'display_data';\n",
              "          await google.colab.output.renderOutput(dataTable, element);\n",
              "          const docLink = document.createElement('div');\n",
              "          docLink.innerHTML = docLinkHtml;\n",
              "          element.appendChild(docLink);\n",
              "        }\n",
              "      </script>\n",
              "    </div>\n",
              "  </div>\n",
              "  "
            ]
          },
          "metadata": {},
          "execution_count": 159
        }
      ],
      "source": [
        "# create a table that contains data about some packaging\n",
        "\n",
        "# the Box can be of wood or paper\n",
        "# in colors red or blue\n",
        "# of size small or large\n",
        "# with thier respective quantity and weight\n",
        "\n",
        "table = pd.DataFrame({\"Box\": [\"wood\", \"wood\", \"wood\", \"wood\", \"wood\",\n",
        "                         \"paper\", \"paper\", \"paper\", \"paper\"],\n",
        "                   \"Color\": [\"red\", \"red\", \"red\", \"blue\", \"blue\",\n",
        "                         \"red\", \"red\", \"blue\", \"blue\"],\n",
        "                   \"Size\": [\"small\", \"large\", \"large\", \"small\",\n",
        "                         \"small\", \"large\", \"small\", \"small\",\n",
        "                         \"large\"],\n",
        "                   \"Qty\": [1, 2, 2, 3, 3, 4, 5, 6, 7],\n",
        "                   \"Weigth\": [2, 4, 5, 5, 6, 6, 8, 9, 9]})\n",
        "\n",
        "table"
      ]
    },
    {
      "cell_type": "code",
      "source": [
        "# import numpy module that help to work with numerical datatypes\n",
        "\n",
        "import numpy as np"
      ],
      "metadata": {
        "id": "uQCkFye9_Rrn"
      },
      "execution_count": 160,
      "outputs": []
    },
    {
      "cell_type": "markdown",
      "source": [
        "MOre about numpy package https://numpy.org/"
      ],
      "metadata": {
        "id": "Fsil3Mql_SZ5"
      }
    },
    {
      "cell_type": "code",
      "execution_count": 161,
      "metadata": {
        "id": "fI5V4JMQfC_O",
        "outputId": "d1583657-54ad-448e-88d8-1103167cbdd0",
        "colab": {
          "base_uri": "https://localhost:8080/",
          "height": 206
        }
      },
      "outputs": [
        {
          "output_type": "execute_result",
          "data": {
            "text/plain": [
              "Size         large  small\n",
              "Box   Color              \n",
              "paper blue     7.0    6.0\n",
              "      red      4.0    5.0\n",
              "wood  blue     NaN    6.0\n",
              "      red      4.0    1.0"
            ],
            "text/html": [
              "\n",
              "  <div id=\"df-ba93b876-5b48-4e28-97ec-15ed65272cce\">\n",
              "    <div class=\"colab-df-container\">\n",
              "      <div>\n",
              "<style scoped>\n",
              "    .dataframe tbody tr th:only-of-type {\n",
              "        vertical-align: middle;\n",
              "    }\n",
              "\n",
              "    .dataframe tbody tr th {\n",
              "        vertical-align: top;\n",
              "    }\n",
              "\n",
              "    .dataframe thead th {\n",
              "        text-align: right;\n",
              "    }\n",
              "</style>\n",
              "<table border=\"1\" class=\"dataframe\">\n",
              "  <thead>\n",
              "    <tr style=\"text-align: right;\">\n",
              "      <th></th>\n",
              "      <th>Size</th>\n",
              "      <th>large</th>\n",
              "      <th>small</th>\n",
              "    </tr>\n",
              "    <tr>\n",
              "      <th>Box</th>\n",
              "      <th>Color</th>\n",
              "      <th></th>\n",
              "      <th></th>\n",
              "    </tr>\n",
              "  </thead>\n",
              "  <tbody>\n",
              "    <tr>\n",
              "      <th rowspan=\"2\" valign=\"top\">paper</th>\n",
              "      <th>blue</th>\n",
              "      <td>7.0</td>\n",
              "      <td>6.0</td>\n",
              "    </tr>\n",
              "    <tr>\n",
              "      <th>red</th>\n",
              "      <td>4.0</td>\n",
              "      <td>5.0</td>\n",
              "    </tr>\n",
              "    <tr>\n",
              "      <th rowspan=\"2\" valign=\"top\">wood</th>\n",
              "      <th>blue</th>\n",
              "      <td>NaN</td>\n",
              "      <td>6.0</td>\n",
              "    </tr>\n",
              "    <tr>\n",
              "      <th>red</th>\n",
              "      <td>4.0</td>\n",
              "      <td>1.0</td>\n",
              "    </tr>\n",
              "  </tbody>\n",
              "</table>\n",
              "</div>\n",
              "      <button class=\"colab-df-convert\" onclick=\"convertToInteractive('df-ba93b876-5b48-4e28-97ec-15ed65272cce')\"\n",
              "              title=\"Convert this dataframe to an interactive table.\"\n",
              "              style=\"display:none;\">\n",
              "        \n",
              "  <svg xmlns=\"http://www.w3.org/2000/svg\" height=\"24px\"viewBox=\"0 0 24 24\"\n",
              "       width=\"24px\">\n",
              "    <path d=\"M0 0h24v24H0V0z\" fill=\"none\"/>\n",
              "    <path d=\"M18.56 5.44l.94 2.06.94-2.06 2.06-.94-2.06-.94-.94-2.06-.94 2.06-2.06.94zm-11 1L8.5 8.5l.94-2.06 2.06-.94-2.06-.94L8.5 2.5l-.94 2.06-2.06.94zm10 10l.94 2.06.94-2.06 2.06-.94-2.06-.94-.94-2.06-.94 2.06-2.06.94z\"/><path d=\"M17.41 7.96l-1.37-1.37c-.4-.4-.92-.59-1.43-.59-.52 0-1.04.2-1.43.59L10.3 9.45l-7.72 7.72c-.78.78-.78 2.05 0 2.83L4 21.41c.39.39.9.59 1.41.59.51 0 1.02-.2 1.41-.59l7.78-7.78 2.81-2.81c.8-.78.8-2.07 0-2.86zM5.41 20L4 18.59l7.72-7.72 1.47 1.35L5.41 20z\"/>\n",
              "  </svg>\n",
              "      </button>\n",
              "      \n",
              "  <style>\n",
              "    .colab-df-container {\n",
              "      display:flex;\n",
              "      flex-wrap:wrap;\n",
              "      gap: 12px;\n",
              "    }\n",
              "\n",
              "    .colab-df-convert {\n",
              "      background-color: #E8F0FE;\n",
              "      border: none;\n",
              "      border-radius: 50%;\n",
              "      cursor: pointer;\n",
              "      display: none;\n",
              "      fill: #1967D2;\n",
              "      height: 32px;\n",
              "      padding: 0 0 0 0;\n",
              "      width: 32px;\n",
              "    }\n",
              "\n",
              "    .colab-df-convert:hover {\n",
              "      background-color: #E2EBFA;\n",
              "      box-shadow: 0px 1px 2px rgba(60, 64, 67, 0.3), 0px 1px 3px 1px rgba(60, 64, 67, 0.15);\n",
              "      fill: #174EA6;\n",
              "    }\n",
              "\n",
              "    [theme=dark] .colab-df-convert {\n",
              "      background-color: #3B4455;\n",
              "      fill: #D2E3FC;\n",
              "    }\n",
              "\n",
              "    [theme=dark] .colab-df-convert:hover {\n",
              "      background-color: #434B5C;\n",
              "      box-shadow: 0px 1px 3px 1px rgba(0, 0, 0, 0.15);\n",
              "      filter: drop-shadow(0px 1px 2px rgba(0, 0, 0, 0.3));\n",
              "      fill: #FFFFFF;\n",
              "    }\n",
              "  </style>\n",
              "\n",
              "      <script>\n",
              "        const buttonEl =\n",
              "          document.querySelector('#df-ba93b876-5b48-4e28-97ec-15ed65272cce button.colab-df-convert');\n",
              "        buttonEl.style.display =\n",
              "          google.colab.kernel.accessAllowed ? 'block' : 'none';\n",
              "\n",
              "        async function convertToInteractive(key) {\n",
              "          const element = document.querySelector('#df-ba93b876-5b48-4e28-97ec-15ed65272cce');\n",
              "          const dataTable =\n",
              "            await google.colab.kernel.invokeFunction('convertToInteractive',\n",
              "                                                     [key], {});\n",
              "          if (!dataTable) return;\n",
              "\n",
              "          const docLinkHtml = 'Like what you see? Visit the ' +\n",
              "            '<a target=\"_blank\" href=https://colab.research.google.com/notebooks/data_table.ipynb>data table notebook</a>'\n",
              "            + ' to learn more about interactive tables.';\n",
              "          element.innerHTML = '';\n",
              "          dataTable['output_type'] = 'display_data';\n",
              "          await google.colab.output.renderOutput(dataTable, element);\n",
              "          const docLink = document.createElement('div');\n",
              "          docLink.innerHTML = docLinkHtml;\n",
              "          element.appendChild(docLink);\n",
              "        }\n",
              "      </script>\n",
              "    </div>\n",
              "  </div>\n",
              "  "
            ]
          },
          "metadata": {},
          "execution_count": 161
        }
      ],
      "source": [
        "# pivot table dataframe, to get the sum of Qty by Box and Color (rows), and split by Size (columns)\n",
        "\n",
        "pivot = pd.pivot_table(table, # data to pivot\n",
        "                       values='Qty', # column to aggregate\n",
        "                       index=['Box', 'Color'], # Grouper, Keys to group by on the pivot table index.\n",
        "                       columns=['Size'], # Keys to group by on the pivot table column., will be the columns value\n",
        "                       aggfunc=np.sum)# the aggregation function from numpy package\n",
        "\n",
        "pivot"
      ]
    },
    {
      "cell_type": "markdown",
      "source": [
        "## DataFrame Practice ***"
      ],
      "metadata": {
        "id": "GimcEwZddelu"
      }
    },
    {
      "cell_type": "code",
      "source": [
        "# create a variable called \"data\" with a dictionnary (*** with {}  ***) and print it out\n",
        "\n",
        "# 1s key:value pair : 'Name':['Jai', 'Princi', 'Gaurav', 'Anuj']\n",
        "# 2nd key:value pair : 'Age':[27, 24, 22, 32]\n",
        "# 3rd key:value pair : 'Address':['Delhi', 'Kanpur', 'Allahabad', 'Kannauj']\n",
        "# 4th key;value pair : 'Qualification':['Phd', 'MA', 'MCA', 'Phd']"
      ],
      "metadata": {
        "id": "Ck2SCc3FKggz"
      },
      "execution_count": null,
      "outputs": []
    },
    {
      "cell_type": "code",
      "source": [
        "#@title Display Solution 1\n",
        "\n",
        "# Define a dictionary containing employee data\n",
        "data = {'Name':['Jai', 'Princi', 'Gaurav', 'Anuj'],\n",
        "        'Age':[27, 24, 22, 32],\n",
        "        'Address':['Delhi', 'Kanpur', 'Allahabad', 'Kannauj'],\n",
        "        'Qualification':['Phd', 'MA', 'MCA', 'Phd']}\n",
        "\n",
        "data"
      ],
      "metadata": {
        "id": "hbVjzUCsKuHQ"
      },
      "execution_count": null,
      "outputs": []
    },
    {
      "cell_type": "code",
      "source": [
        "# create a dataframe 'df1' from dictionary \"data\"\n",
        "\n",
        "# don't forget to import pandas package as pd \n",
        "\n",
        "import pandas as pd\n",
        "\n",
        "# display the dataframe\n",
        "\n",
        "# your code here ..."
      ],
      "metadata": {
        "id": "5JNrb-5DLiyY"
      },
      "execution_count": null,
      "outputs": []
    },
    {
      "cell_type": "code",
      "source": [
        "#@title Display solution 2\n",
        "\n",
        "import pandas as pd\n",
        "\n",
        "# Convert the dictionary into DataFrame and call it df1\n",
        "df1 = pd.DataFrame(data)\n",
        "\n",
        "df1"
      ],
      "metadata": {
        "id": "XVUjwFTmLkuJ"
      },
      "execution_count": null,
      "outputs": []
    },
    {
      "cell_type": "code",
      "source": [
        "# display the first 2 rows of df1\n",
        "\n",
        "# your code here"
      ],
      "metadata": {
        "id": "EWYP7I17MpLW"
      },
      "execution_count": null,
      "outputs": []
    },
    {
      "cell_type": "code",
      "source": [
        "#@title Display Solution 3\n",
        "\n",
        "# display the first 2 rows of df1\n",
        "\n",
        "df1.head(2)"
      ],
      "metadata": {
        "id": "b5OyVrxcMtIc"
      },
      "execution_count": null,
      "outputs": []
    },
    {
      "cell_type": "code",
      "source": [
        "# display the last row of the df1\n",
        "\n",
        "# your code here ..."
      ],
      "metadata": {
        "id": "5IMpy0KmM4vf"
      },
      "execution_count": null,
      "outputs": []
    },
    {
      "cell_type": "code",
      "source": [
        "#@title Dsiplay Solution 4\n",
        "\n",
        "df1.tail(1)"
      ],
      "metadata": {
        "id": "VUDV3miSM9Lt"
      },
      "execution_count": null,
      "outputs": []
    },
    {
      "cell_type": "code",
      "source": [
        "# what are the dimensions of df1\n",
        "\n",
        "# your code here..."
      ],
      "metadata": {
        "id": "ZLE-vvqXNEEQ"
      },
      "execution_count": null,
      "outputs": []
    },
    {
      "cell_type": "code",
      "source": [
        "#@title Dsiplay Solution 5\n",
        "\n",
        "# what are the dimensions of df1\n",
        "\n",
        "df1.shape"
      ],
      "metadata": {
        "id": "4ndeXkVxNHRZ"
      },
      "execution_count": null,
      "outputs": []
    },
    {
      "cell_type": "code",
      "source": [
        "# how many rows ?\n",
        "\n",
        "# your code here..."
      ],
      "metadata": {
        "id": "BNElze5tNNd7"
      },
      "execution_count": null,
      "outputs": []
    },
    {
      "cell_type": "code",
      "source": [
        "#@title Display Solution 6\n",
        "\n",
        "# how many rows ?\n",
        "\n",
        "print(len(df1))\n",
        "\n",
        "# OR ...\n",
        "\n",
        "df1.shape[0]\n"
      ],
      "metadata": {
        "id": "RGxr9pTUNSHZ"
      },
      "execution_count": null,
      "outputs": []
    },
    {
      "cell_type": "code",
      "source": [
        "# how many columns\n",
        "\n",
        "# your code here ..."
      ],
      "metadata": {
        "id": "irc8-kylNf8S"
      },
      "execution_count": null,
      "outputs": []
    },
    {
      "cell_type": "code",
      "source": [
        "#@title Display Solution 7\n",
        "\n",
        "# how many columns\n",
        "\n",
        "print(df1.shape[1])\n",
        "\n",
        "# or \n",
        "\n",
        "len(df1.columns)"
      ],
      "metadata": {
        "id": "L-zQAhgVNiyO"
      },
      "execution_count": null,
      "outputs": []
    },
    {
      "cell_type": "code",
      "source": [
        "# what are the name of the columns"
      ],
      "metadata": {
        "id": "k0I9WeR9N3BI"
      },
      "execution_count": null,
      "outputs": []
    },
    {
      "cell_type": "code",
      "source": [
        "#@title Display Solution 8\n",
        "\n",
        "# what are the name of the columns\n",
        "\n",
        "df1.columns"
      ],
      "metadata": {
        "id": "ny_IhL20N43m"
      },
      "execution_count": null,
      "outputs": []
    },
    {
      "cell_type": "code",
      "source": [
        "# return the name of the second columns\n",
        "\n",
        "# your code here ..."
      ],
      "metadata": {
        "id": "nDYKxYCBODpg"
      },
      "execution_count": null,
      "outputs": []
    },
    {
      "cell_type": "code",
      "source": [
        "#@title Display Solution 9\n",
        "\n",
        "# return the name of the second columns (in Python logic)\n",
        "\n",
        "df1.columns[1]"
      ],
      "metadata": {
        "id": "SkQlN37wOHmB"
      },
      "execution_count": null,
      "outputs": []
    },
    {
      "cell_type": "markdown",
      "source": [
        "Locations & Slicing"
      ],
      "metadata": {
        "id": "r1-KCvcKOZSY"
      }
    },
    {
      "cell_type": "code",
      "source": [
        "###  Locations -----------\n",
        "\n",
        "# access the 2nd row (with .iloc) (in python logic)\n",
        "\n",
        "# your code here ...."
      ],
      "metadata": {
        "id": "laHH7hA3Odfv"
      },
      "execution_count": null,
      "outputs": []
    },
    {
      "cell_type": "code",
      "source": [
        "#@title Display Solution 10\n",
        "\n",
        "# access the 2nd row\n",
        "\n",
        "print(df1)\n",
        "print('')\n",
        "df1.iloc[1]"
      ],
      "metadata": {
        "id": "nTM-4cDZOjfl"
      },
      "execution_count": null,
      "outputs": []
    },
    {
      "cell_type": "code",
      "source": [
        "# return the data with .iloc\n",
        "\n",
        "'''\n",
        "Age  Adress \n",
        "24   Kanpur\n",
        "22   Allahabad\n",
        "'''\n",
        "\n",
        "# your code here..."
      ],
      "metadata": {
        "id": "qYgKSeCnO8Y9"
      },
      "execution_count": null,
      "outputs": []
    },
    {
      "cell_type": "code",
      "source": [
        "#@title Display Solution 11\n",
        "\n",
        "# return the data with .iloc\n",
        "\n",
        "'''\n",
        "Age  Adress \n",
        "24   Kanpur\n",
        "22   Allahabad\n",
        "'''\n",
        "\n",
        "df1.iloc[1:3, 1:3]"
      ],
      "metadata": {
        "id": "WWqXTZdmO_R4"
      },
      "execution_count": null,
      "outputs": []
    },
    {
      "cell_type": "code",
      "source": [
        "# return the data with .iloc\n",
        "\n",
        "'''\n",
        "Name  Age \n",
        "Jay   27\n",
        "Anuj  32\n",
        "'''\n",
        "\n",
        "# your code here...\n"
      ],
      "metadata": {
        "id": "8dVE-xcxQFFw"
      },
      "execution_count": null,
      "outputs": []
    },
    {
      "cell_type": "code",
      "source": [
        "#@title Display Solution 12\n",
        "\n",
        "# return the data with .iloc\n",
        "\n",
        "'''\n",
        "Name  Age \n",
        "Jay   27\n",
        "Anuj  32\n",
        "'''\n",
        "\n",
        "\n",
        "df1.iloc[[0, -1], [0,1]]"
      ],
      "metadata": {
        "id": "kUqkUu8SQT2a"
      },
      "execution_count": null,
      "outputs": []
    },
    {
      "cell_type": "code",
      "source": [
        "# return qualification for rows from 'Jai' to 'Anuj' with .loc \n",
        "\n",
        "# don't forget to reset the index by using column 'Name' (*** .set_index() ***)\n",
        "\n",
        "# your code here..."
      ],
      "metadata": {
        "id": "FTurB5eqPfFM"
      },
      "execution_count": null,
      "outputs": []
    },
    {
      "cell_type": "code",
      "source": [],
      "metadata": {
        "id": "-jjDpse3P0AO"
      },
      "execution_count": null,
      "outputs": []
    },
    {
      "cell_type": "code",
      "source": [
        "#@title Display Solution 13\n",
        "\n",
        "# return qualification for 'Jai' to 'Anuj' with .loc (!!! reset the index)\n",
        "\n",
        "print(df1)\n",
        "\n",
        "print('')\n",
        "\n",
        "df1 = df1.set_index('Name')\n",
        "\n",
        "df1.loc['Jai':'Anuj', 'Qualification']\n"
      ],
      "metadata": {
        "id": "LenGjne0PjD9",
        "cellView": "form"
      },
      "execution_count": null,
      "outputs": []
    },
    {
      "cell_type": "code",
      "source": [
        "# return the qualification and city for 'Jai' , 'Anuj', 'Gaurav' with .loc\n",
        "\n",
        "# your code here ...\n"
      ],
      "metadata": {
        "id": "exiLcd-HSLu0"
      },
      "execution_count": null,
      "outputs": []
    },
    {
      "cell_type": "code",
      "source": [
        "#@title Display Solution 14\n",
        "\n",
        "# return the qualification and city for 'Jai' , 'Anuj', 'Gaurav' with .loc\n",
        "\n",
        "\n",
        "df1.loc[['Jai' , 'Anuj', 'Gaurav'], 'Qualification']"
      ],
      "metadata": {
        "id": "x62nPf_FSQM0"
      },
      "execution_count": null,
      "outputs": []
    },
    {
      "cell_type": "code",
      "source": [
        "####  Filter -------------\n",
        "\n",
        "# access the only the data where Qualification is Phd\n",
        "\n",
        "# your code here ...\n"
      ],
      "metadata": {
        "id": "7zS_dMQ9SjGn"
      },
      "execution_count": null,
      "outputs": []
    },
    {
      "cell_type": "code",
      "source": [
        "#@title Display Solution 15\n",
        "\n",
        "# access the only the data where Qualification is Phd\n",
        "\n",
        "\n",
        "df1[df1['Qualification'] == 'Phd']"
      ],
      "metadata": {
        "id": "WTSE7Ev5SnFh"
      },
      "execution_count": null,
      "outputs": []
    },
    {
      "cell_type": "markdown",
      "source": [
        "*Join dataframes*"
      ],
      "metadata": {
        "id": "l-TJHO8fTDhn"
      }
    },
    {
      "cell_type": "code",
      "source": [
        "#### Join dfs ---------\n",
        "\n",
        "# create another dataframe df2\n",
        "\n",
        "# Define a dictionary containing employee data\n",
        "data = {'Name':['Matt', 'Joe'],\n",
        "        'Age':[65, 43 ],\n",
        "        'Address':['Monge', 'Chatelet'],\n",
        "        'Qualification':[ 'MCA', 'Phd']}\n",
        " \n",
        "# Convert the dictionary into DataFrame and call it df2\n",
        "\n",
        "# your code here ...\n"
      ],
      "metadata": {
        "id": "opNOR0hXTGxa"
      },
      "execution_count": null,
      "outputs": []
    },
    {
      "cell_type": "code",
      "source": [
        "#@title Display Solution 16\n",
        "\n",
        "# # Convert the dictionary into DataFrame and call it df2\n",
        "\n",
        "df2 = pd.DataFrame(data)\n",
        "df2"
      ],
      "metadata": {
        "id": "l126o6SfTT6m"
      },
      "execution_count": null,
      "outputs": []
    },
    {
      "cell_type": "code",
      "source": [
        "# joinf df1 and df2 into a new dataframe df\n",
        "\n",
        "# your code here\n"
      ],
      "metadata": {
        "id": "NCmjJSWLT6HR"
      },
      "execution_count": null,
      "outputs": []
    },
    {
      "cell_type": "code",
      "source": [
        "#@title Display Solution 17"
      ],
      "metadata": {
        "id": "x09xQH3yUphM"
      },
      "execution_count": null,
      "outputs": []
    },
    {
      "cell_type": "code",
      "source": [
        "# check the dimension of the new joined df\n",
        "\n",
        "# your code here"
      ],
      "metadata": {
        "id": "3SMJFg39T7_4"
      },
      "execution_count": null,
      "outputs": []
    },
    {
      "cell_type": "code",
      "source": [
        "#@title Display Solution 18"
      ],
      "metadata": {
        "id": "GhrbfHJHUww_"
      },
      "execution_count": null,
      "outputs": []
    },
    {
      "cell_type": "code",
      "source": [
        "#### Modify df ----------\n",
        "\n",
        "# add a new row ['Calib', '34', 'Monge', 'Phd]\n",
        "\n",
        "# your code here ...\n"
      ],
      "metadata": {
        "id": "AfW5lBUGUCYL"
      },
      "execution_count": null,
      "outputs": []
    },
    {
      "cell_type": "code",
      "source": [
        "#@title Display Solution 19"
      ],
      "metadata": {
        "id": "U7MKISr_U1Y3"
      },
      "execution_count": null,
      "outputs": []
    },
    {
      "cell_type": "code",
      "source": [
        "# Matt changed the address to 'LA Défense' or 'La Défense' , update the data frame with .iloc (LA Défense) and loc (La Défense)\n",
        "\n",
        "# your code here"
      ],
      "metadata": {
        "id": "dX0NWudMUI6u"
      },
      "execution_count": null,
      "outputs": []
    },
    {
      "cell_type": "code",
      "source": [
        "#@title Display Solution 20"
      ],
      "metadata": {
        "id": "ZmKwLtmsU3OH"
      },
      "execution_count": null,
      "outputs": []
    },
    {
      "cell_type": "code",
      "source": [
        "#### Explore df ------------\n",
        "\n",
        "# what data type are columns\n",
        "\n",
        "# your code here\n"
      ],
      "metadata": {
        "id": "mXeSU9a5UN_3"
      },
      "execution_count": null,
      "outputs": []
    },
    {
      "cell_type": "code",
      "source": [
        "#@title Display Solution 21"
      ],
      "metadata": {
        "id": "9ksYhRnGU5NI"
      },
      "execution_count": null,
      "outputs": []
    },
    {
      "cell_type": "code",
      "source": [
        "#### Filter ----\n",
        "\n",
        "# filter data of people that have Phf\n",
        "\n",
        "# your code here"
      ],
      "metadata": {
        "id": "FBcZExmBUTC0"
      },
      "execution_count": null,
      "outputs": []
    },
    {
      "cell_type": "code",
      "source": [
        "#@title Display Solution 22"
      ],
      "metadata": {
        "id": "_Wo-Yi7XU6yp"
      },
      "execution_count": null,
      "outputs": []
    },
    {
      "cell_type": "code",
      "source": [
        "#### Groupby -----------\n",
        "\n",
        "# what's the average age of people that have Phd\n",
        "\n",
        "# your code here\n"
      ],
      "metadata": {
        "id": "JnFE8KS9UYTl"
      },
      "execution_count": null,
      "outputs": []
    },
    {
      "cell_type": "code",
      "source": [
        "#@title Display Solution 23"
      ],
      "metadata": {
        "id": "lEDeBft9U8o4"
      },
      "execution_count": null,
      "outputs": []
    },
    {
      "cell_type": "code",
      "source": [
        "#### Pivot -----------\n",
        "\n",
        "# create a pivot table where rows are the qualifications and names, columns their adress, and values in the pivot table is the mean age\n",
        "\n",
        "## hint\n",
        "# first import numpy package as np\n",
        "# use pd.pivot_table() with necessary arguments\n",
        "\n",
        "# your code here ..."
      ],
      "metadata": {
        "id": "c4u4Z8dDz-pI"
      },
      "execution_count": null,
      "outputs": []
    },
    {
      "cell_type": "code",
      "source": [
        "#@title Display Solution 24"
      ],
      "metadata": {
        "id": "rSZFcb0PVAKc"
      },
      "execution_count": 162,
      "outputs": []
    },
    {
      "cell_type": "markdown",
      "metadata": {
        "id": "6eKEbOwah5gZ"
      },
      "source": [
        "# 11 Loops"
      ]
    },
    {
      "cell_type": "markdown",
      "source": [
        "##  FOR"
      ],
      "metadata": {
        "id": "Ib4sbLHfdskF"
      }
    },
    {
      "cell_type": "markdown",
      "source": [
        "A **for** loop is used for iterating over a sequence (that is either a list, a tuple, a dictionary, a set, or a string).\n",
        "\n",
        "With the for loop we can execute a set of statements, once for each item in a list, tuple, set etc"
      ],
      "metadata": {
        "id": "cTJf_Fr7eLQe"
      }
    },
    {
      "cell_type": "code",
      "execution_count": 1,
      "metadata": {
        "id": "NZ0yzBqufPxX",
        "outputId": "9aba8f55-b3ed-4a9e-e29a-7606c95a5eed",
        "colab": {
          "base_uri": "https://localhost:8080/"
        }
      },
      "outputs": [
        {
          "output_type": "execute_result",
          "data": {
            "text/plain": [
              "['Apple', 'Orange', 'Banana', 'Kiwi']"
            ]
          },
          "metadata": {},
          "execution_count": 1
        }
      ],
      "source": [
        "# visualize code execution\n",
        "# https://pythontutor.com/python-debugger.html\n",
        "\n",
        "# create a list of groceries\n",
        "groceries = ['Apple','Orange', 'Banana', 'Kiwi']\n",
        "\n",
        "groceries"
      ]
    },
    {
      "cell_type": "markdown",
      "source": [
        "the syntax of a 'for loop':\n",
        "\n",
        "\n",
        "**for** element **in** list:   \n",
        " _____*do something *\n",
        "\n",
        "It's like saying : for each element in the list, do something with it\n",
        "\n",
        "\n",
        "\n",
        "\n",
        "\n"
      ],
      "metadata": {
        "id": "W8OhPgNtfSP1"
      }
    },
    {
      "cell_type": "markdown",
      "source": [],
      "metadata": {
        "id": "LVSedurAg12q"
      }
    },
    {
      "cell_type": "code",
      "source": [
        "# iterate through list to access/print each element of the list\n",
        "for item in groceries:\n",
        "    print(item)"
      ],
      "metadata": {
        "id": "F54uHz-1euAL",
        "outputId": "169cae61-30ef-4f46-e14e-47011e7a89d6",
        "colab": {
          "base_uri": "https://localhost:8080/"
        }
      },
      "execution_count": 2,
      "outputs": [
        {
          "output_type": "stream",
          "name": "stdout",
          "text": [
            "Apple\n",
            "Orange\n",
            "Banana\n",
            "Kiwi\n"
          ]
        }
      ]
    },
    {
      "cell_type": "code",
      "source": [
        "for fruit in groceries:\n",
        "  if fruit == \"Apple\":\n",
        "    print(fruit, \"==> is an Apple\")\n",
        "  else:\n",
        "    print(fruit, \"==> is not an Apple\")"
      ],
      "metadata": {
        "id": "Kdl-SG8qipoc",
        "outputId": "b800133f-ae6a-4196-a19b-f6a43bf6c8c4",
        "colab": {
          "base_uri": "https://localhost:8080/"
        }
      },
      "execution_count": 163,
      "outputs": [
        {
          "output_type": "stream",
          "name": "stdout",
          "text": [
            "Apple ==> is an Apple\n",
            "Orange ==> is not an Apple\n",
            "Banana ==> is not an Apple\n",
            "Kiwi ==> is not an Apple\n"
          ]
        }
      ]
    },
    {
      "cell_type": "code",
      "source": [
        "# we can iterate with condition\n",
        "\n",
        "numbers = [-2, 4, -1, 8, 10]\n",
        "\n",
        "# if element is positive then...\n",
        "# devide each element in the list by 2\n",
        "# else, print that this number is not positive\n",
        "\n",
        "for number in numbers:\n",
        "  if number > 0:\n",
        "      print(number/2)\n",
        "  else:\n",
        "    print('this number is not positive')"
      ],
      "metadata": {
        "id": "cQs4Oqw7hpnV",
        "outputId": "e1649f5c-1d8a-4a59-d15e-d2ce4074103a",
        "colab": {
          "base_uri": "https://localhost:8080/"
        }
      },
      "execution_count": 3,
      "outputs": [
        {
          "output_type": "stream",
          "name": "stdout",
          "text": [
            "this number is not positive\n",
            "2.0\n",
            "this number is not positive\n",
            "4.0\n",
            "5.0\n"
          ]
        }
      ]
    },
    {
      "cell_type": "code",
      "source": [
        "# we can iterate through a chain of strings\n",
        "\n",
        "string = 'ilovepython'\n",
        "\n",
        "for letter in string:\n",
        "  print(letter)\n"
      ],
      "metadata": {
        "id": "TyK4fmiZuIiK",
        "outputId": "c8f201fc-14ae-4c5e-84ca-9ba7c205b888",
        "colab": {
          "base_uri": "https://localhost:8080/"
        }
      },
      "execution_count": 4,
      "outputs": [
        {
          "output_type": "stream",
          "name": "stdout",
          "text": [
            "i\n",
            "l\n",
            "o\n",
            "v\n",
            "e\n",
            "p\n",
            "y\n",
            "t\n",
            "h\n",
            "o\n",
            "n\n"
          ]
        }
      ]
    },
    {
      "cell_type": "code",
      "source": [
        "# iterate through a chain of strings and do something\n",
        "\n",
        "vowels = ['a', 'e', 'i', 'o', 'u']\n",
        "\n",
        "# iterate through the string 'ilovepython' and if the letter is a vowel then print it in CAPITALS with function upper()\n",
        "for letter in string:\n",
        "  if letter in vowels:\n",
        "    print(letter.upper())\n",
        "  else:\n",
        "    print(letter)"
      ],
      "metadata": {
        "id": "uYNFXnikubKg",
        "outputId": "7069e3e7-2909-4b2e-d1af-051ed6f068e7",
        "colab": {
          "base_uri": "https://localhost:8080/"
        }
      },
      "execution_count": 165,
      "outputs": [
        {
          "output_type": "stream",
          "name": "stdout",
          "text": [
            "I\n",
            "l\n",
            "O\n",
            "v\n",
            "E\n",
            "p\n",
            "y\n",
            "t\n",
            "h\n",
            "O\n",
            "n\n"
          ]
        }
      ]
    },
    {
      "cell_type": "markdown",
      "source": [
        "Nested LIsts"
      ],
      "metadata": {
        "id": "tf-3sMEHuFzy"
      }
    },
    {
      "cell_type": "code",
      "execution_count": 164,
      "metadata": {
        "id": "69oherPCiP-B",
        "outputId": "c9071d20-1f97-42ed-dfdf-973adfc4e48b",
        "colab": {
          "base_uri": "https://localhost:8080/"
        }
      },
      "outputs": [
        {
          "output_type": "execute_result",
          "data": {
            "text/plain": [
              "[['Apple', 4], ['Orange', 2], ['Banana', 6], ['Kiwi', 5]]"
            ]
          },
          "metadata": {},
          "execution_count": 164
        }
      ],
      "source": [
        "# iterate through nested lists\n",
        "\n",
        "fruit_list = [['Apple', 4],['Orange', 2],['Banana', 6],['Kiwi', 5]]\n",
        "fruit_list"
      ]
    },
    {
      "cell_type": "code",
      "execution_count": 166,
      "metadata": {
        "id": "elKUPogujRdk",
        "outputId": "866c70b8-c572-4e4a-e677-94ce05edc386",
        "colab": {
          "base_uri": "https://localhost:8080/"
        }
      },
      "outputs": [
        {
          "output_type": "execute_result",
          "data": {
            "text/plain": [
              "2"
            ]
          },
          "metadata": {},
          "execution_count": 166
        }
      ],
      "source": [
        "# access 1 element from the second item (\"2\")\n",
        "fruit_list[1][1]"
      ]
    },
    {
      "cell_type": "code",
      "source": [
        "# return 'Banana:\n",
        "\n",
        "# fruit_list[???] # the element  ['Banana', 6]\n",
        "\n",
        "fruit_list[2][0] # only the sub_element 'Banana'"
      ],
      "metadata": {
        "id": "H89NzsWdjo1E",
        "outputId": "32bbfeee-00f0-4aa6-e15f-b73f8d2730cb",
        "colab": {
          "base_uri": "https://localhost:8080/",
          "height": 35
        }
      },
      "execution_count": 167,
      "outputs": [
        {
          "output_type": "execute_result",
          "data": {
            "text/plain": [
              "'Banana'"
            ],
            "application/vnd.google.colaboratory.intrinsic+json": {
              "type": "string"
            }
          },
          "metadata": {},
          "execution_count": 167
        }
      ]
    },
    {
      "cell_type": "code",
      "execution_count": 168,
      "metadata": {
        "id": "bH79QaIvjKGF",
        "outputId": "760b5364-f95d-472e-d4a8-557a9dc5dc2a",
        "colab": {
          "base_uri": "https://localhost:8080/"
        }
      },
      "outputs": [
        {
          "output_type": "stream",
          "name": "stdout",
          "text": [
            "['Apple', 4]\n",
            "['Orange', 2]\n",
            "['Banana', 6]\n",
            "['Kiwi', 5]\n"
          ]
        }
      ],
      "source": [
        "for element in fruit_list:\n",
        "    print(element)"
      ]
    },
    {
      "cell_type": "code",
      "execution_count": 169,
      "metadata": {
        "id": "S5EUd2mRjKxx",
        "outputId": "4486b7f6-a09a-48ee-b2a8-3ba1732a8190",
        "colab": {
          "base_uri": "https://localhost:8080/"
        }
      },
      "outputs": [
        {
          "output_type": "stream",
          "name": "stdout",
          "text": [
            "[['Apple', 4], ['Orange', 2], ['Banana', 6], ['Kiwi', 5]]\n",
            "\n",
            "[]\n",
            "\n",
            "['Apple', 4, 'Orange', 2, 'Banana', 6, 'Kiwi', 5]\n"
          ]
        }
      ],
      "source": [
        "# sometimes you'll need to access each element in a nested list and store them in a flat list (regular list) \n",
        "\n",
        "# iterate through nested lists\n",
        "# accesst each element and sore it as a flat list\n",
        "# the expected output: ['Apple', 4, 'Orange', 2, 'Banana', 6, 'Kiwi', 5]\n",
        "\n",
        "# create a copy of fruit_list called copy_list wtth copy() function\n",
        "\n",
        "copy_list = fruit_list.copy()\n",
        "print(copy_list)\n",
        "print('')\n",
        "\n",
        "# creat an empty list where we'll store all elements\n",
        "\n",
        "flat_list = [] # empty list\n",
        "print(flat_list)\n",
        "print('')\n",
        "\n",
        "for sublist in copy_list:\n",
        "    for item in sublist:\n",
        "        flat_list.append(item)\n",
        "\n",
        "print(flat_list)"
      ]
    },
    {
      "cell_type": "code",
      "execution_count": 170,
      "metadata": {
        "id": "URP_k3QXkwot",
        "outputId": "6760a0c6-3240-455a-d140-761b2985cdd2",
        "colab": {
          "base_uri": "https://localhost:8080/",
          "height": 217
        }
      },
      "outputs": [
        {
          "output_type": "error",
          "ename": "NameError",
          "evalue": "ignored",
          "traceback": [
            "\u001b[0;31m---------------------------------------------------------------------------\u001b[0m",
            "\u001b[0;31mNameError\u001b[0m                                 Traceback (most recent call last)",
            "\u001b[0;32m<ipython-input-170-9b210dcd7bd7>\u001b[0m in \u001b[0;36m<module>\u001b[0;34m\u001b[0m\n\u001b[1;32m      1\u001b[0m \u001b[0;31m# another syntax to get the same result\u001b[0m\u001b[0;34m\u001b[0m\u001b[0;34m\u001b[0m\u001b[0;34m\u001b[0m\u001b[0m\n\u001b[1;32m      2\u001b[0m \u001b[0;31m# iterate through a nested loop\u001b[0m\u001b[0;34m\u001b[0m\u001b[0;34m\u001b[0m\u001b[0;34m\u001b[0m\u001b[0m\n\u001b[0;32m----> 3\u001b[0;31m \u001b[0mflat_list\u001b[0m \u001b[0;34m=\u001b[0m \u001b[0;34m[\u001b[0m\u001b[0mitem\u001b[0m \u001b[0;32mfor\u001b[0m \u001b[0msublist\u001b[0m \u001b[0;32min\u001b[0m \u001b[0ml\u001b[0m \u001b[0;32mfor\u001b[0m \u001b[0mitem\u001b[0m \u001b[0;32min\u001b[0m \u001b[0msublist\u001b[0m\u001b[0;34m]\u001b[0m\u001b[0;34m\u001b[0m\u001b[0;34m\u001b[0m\u001b[0m\n\u001b[0m\u001b[1;32m      4\u001b[0m \u001b[0mflat_list\u001b[0m\u001b[0;34m\u001b[0m\u001b[0;34m\u001b[0m\u001b[0m\n",
            "\u001b[0;31mNameError\u001b[0m: name 'l' is not defined"
          ]
        }
      ],
      "source": [
        "# another syntax to get the same result\n",
        "# iterate through a nested loop \n",
        "flat_list = [item for sublist in l for item in sublist]\n",
        "flat_list"
      ]
    },
    {
      "cell_type": "markdown",
      "source": [
        "## WHILE"
      ],
      "metadata": {
        "id": "t1slvTG7dvpV"
      }
    },
    {
      "cell_type": "markdown",
      "source": [
        "With the while loop we can execute a set of statements as long as a condition is true"
      ],
      "metadata": {
        "id": "5ZUMaT2ise3T"
      }
    },
    {
      "cell_type": "code",
      "source": [
        "# as long i is less then 10, print i\n",
        "\n",
        "i = 1\n",
        "while i < 10:\n",
        "  print(i)\n",
        "  i += 1 # increment by 1"
      ],
      "metadata": {
        "id": "OO_qBHHor_M2",
        "outputId": "f7bf884c-be96-46b6-cbdc-4cc50cea0ab3",
        "colab": {
          "base_uri": "https://localhost:8080/"
        }
      },
      "execution_count": 171,
      "outputs": [
        {
          "output_type": "stream",
          "name": "stdout",
          "text": [
            "1\n",
            "2\n",
            "3\n",
            "4\n",
            "5\n",
            "6\n",
            "7\n",
            "8\n",
            "9\n"
          ]
        }
      ]
    },
    {
      "cell_type": "code",
      "source": [
        "# exit when i gets to 4\n",
        "\n",
        "i = 1\n",
        "while i < 10:\n",
        "  print(i)\n",
        "  if i == 4:\n",
        "    break\n",
        "  i += 1"
      ],
      "metadata": {
        "id": "XP6EspmVwtKa",
        "outputId": "18f51a2d-a94a-4d3a-8852-88b63d3f086c",
        "colab": {
          "base_uri": "https://localhost:8080/"
        }
      },
      "execution_count": 172,
      "outputs": [
        {
          "output_type": "stream",
          "name": "stdout",
          "text": [
            "1\n",
            "2\n",
            "3\n",
            "4\n"
          ]
        }
      ]
    },
    {
      "cell_type": "markdown",
      "source": [
        "## Loops Practice ***"
      ],
      "metadata": {
        "id": "zfVPNcX9xCiF"
      }
    },
    {
      "cell_type": "code",
      "source": [
        "# Create a list \"numbers\"\n",
        "\n",
        "numbers = [0, -2, 3, 4, -1, 8, -5]\n",
        "\n",
        "# write a code (using for loop),  to iterate through the lis numbers\n",
        " # to multiply each element of the list by 3, if this element > 0,\n",
        " #  multiply by 2 if element is < 0,\n",
        " # and return 0 if element is 0\n",
        "\n"
      ],
      "metadata": {
        "id": "gnX60iQxy8IG"
      },
      "execution_count": null,
      "outputs": []
    },
    {
      "cell_type": "code",
      "source": [],
      "metadata": {
        "id": "r9fF9ui3GNUw"
      },
      "execution_count": null,
      "outputs": []
    },
    {
      "cell_type": "markdown",
      "metadata": {
        "id": "et9L2zSBIg2B"
      },
      "source": [
        "# 12.&nbsp;Functions"
      ]
    },
    {
      "cell_type": "markdown",
      "source": [
        "A function is a block of code which only runs when it is called.\n",
        "\n",
        "You can pass data, known as parameters, into a function.\n",
        "\n",
        "A function can return data as a result."
      ],
      "metadata": {
        "id": "_SRANGfNyX38"
      }
    },
    {
      "cell_type": "markdown",
      "source": [
        "More about functions https://www.w3schools.com/python/python_functions.asp"
      ],
      "metadata": {
        "id": "WgDA6MVmyYya"
      }
    },
    {
      "cell_type": "code",
      "execution_count": 173,
      "metadata": {
        "id": "siK6KnwfIjEG",
        "outputId": "7005d5b3-0caa-4095-ad57-2169eed0cb52",
        "colab": {
          "base_uri": "https://localhost:8080/"
        }
      },
      "outputs": [
        {
          "output_type": "stream",
          "name": "stdout",
          "text": [
            "2.29\n"
          ]
        }
      ],
      "source": [
        "# create a function called operation\n",
        "# the syntax of a function is the keyword def, name of the function, the parameters to use, and the action of the function\n",
        "\n",
        "# write a function operation, when given the parameter x, would add + 2.6 to it, and then devided by 5.5\n",
        "# store the output int a variable \"result\"\n",
        "# and print out the output\n",
        "\n",
        "def operation(x):\n",
        "    result = (x + 2.6)/5.5\n",
        "    print(round(result, 2))\n",
        "\n",
        "\n",
        "operation(10)\n"
      ]
    },
    {
      "cell_type": "markdown",
      "metadata": {
        "id": "gkowOQa65cmv"
      },
      "source": [
        "Body Fat Calculator"
      ]
    },
    {
      "cell_type": "code",
      "execution_count": 174,
      "metadata": {
        "id": "2CcJwiOOJ2vV",
        "outputId": "cc36e7a1-b6d9-46ee-8482-c438adc2fbbf",
        "colab": {
          "base_uri": "https://localhost:8080/"
        }
      },
      "outputs": [
        {
          "output_type": "execute_result",
          "data": {
            "text/plain": [
              "2.8404040404040405"
            ]
          },
          "metadata": {},
          "execution_count": 174
        }
      ],
      "source": [
        "# compute body fat\n",
        "\n",
        "height = 165 # in inches (devide cm by 2,54)\n",
        "weight = 110 # in pounds (multiply kg by 2,205))\n",
        "\n",
        "# CALCULATE YOUR BODY MASS INDEX (BMI)\n",
        "bmi = (weight/(height**2) ) * 703 # conversion factor of 703\n",
        "bmi\n"
      ]
    },
    {
      "cell_type": "code",
      "execution_count": 175,
      "metadata": {
        "id": "9XDQgGcy46L-"
      },
      "outputs": [],
      "source": [
        "# create a function called bmi that would automatically compte the body fat \n",
        "\n",
        "def bmi(height,weight):\n",
        "  bmi= (weight/(height**2) ) * 703 \n",
        "  print('your Body Mass Index is ', round(bmi, 2))"
      ]
    },
    {
      "cell_type": "code",
      "execution_count": 176,
      "metadata": {
        "id": "zePBBlC15M6w",
        "outputId": "cbb73fff-2660-41f0-8eb1-352936394ee0",
        "colab": {
          "base_uri": "https://localhost:8080/"
        }
      },
      "outputs": [
        {
          "output_type": "stream",
          "name": "stdout",
          "text": [
            "your Body Mass Index is  1.64\n"
          ]
        }
      ],
      "source": [
        "bmi(168, 66)"
      ]
    },
    {
      "cell_type": "code",
      "execution_count": 177,
      "metadata": {
        "id": "jfiI_Z8H5STy",
        "outputId": "2054c590-76dc-4daa-d7be-237693859c1f",
        "colab": {
          "base_uri": "https://localhost:8080/"
        }
      },
      "outputs": [
        {
          "output_type": "stream",
          "name": "stdout",
          "text": [
            "your Body Mass Index is  18.3\n"
          ]
        }
      ],
      "source": [
        "bmi(height=65,weight=110)"
      ]
    },
    {
      "cell_type": "markdown",
      "metadata": {
        "id": "Vhx3iKza5thE"
      },
      "source": [
        "*Body Fat Percentage for women*"
      ]
    },
    {
      "cell_type": "code",
      "execution_count": 178,
      "metadata": {
        "id": "UgzoGwG5LU8v",
        "outputId": "bb66db52-3ba0-4726-eaec-a077d6717d99",
        "colab": {
          "base_uri": "https://localhost:8080/"
        }
      },
      "outputs": [
        {
          "output_type": "stream",
          "name": "stdout",
          "text": [
            "23.46\n"
          ]
        }
      ],
      "source": [
        "def bfp_women(bmi, age):\n",
        "  body_fat_pct = (1.20 * bmi) + (0.23 * age) - 5.4\n",
        "  print(body_fat_pct)\n",
        "\n",
        "bfp_women(bmi= 18.3, age = 30)"
      ]
    },
    {
      "cell_type": "markdown",
      "metadata": {
        "id": "UTVeRB4Q52MI"
      },
      "source": [
        "*Body fat diagnos for women*\n"
      ]
    },
    {
      "cell_type": "markdown",
      "metadata": {
        "id": "y9EleC05PeVJ"
      },
      "source": [
        "Women diagnosis:\n",
        "\n",
        "20-40 yrs old: \n",
        "\n",
        "\n",
        "> \n",
        "Underfat: under 21 percent, Healthy: 21-33 percent, Overweight: 33-39 percent, Obese: Over 39 percent\n",
        "\n",
        "41-60 yrs old:\n",
        "\n",
        "> \n",
        "\n",
        "Underfat: under 23 percent, Healthy: 23-35 percent, Overweight : 35-40 percent Obese: over 40 percent \n",
        "\n",
        "\n",
        "61-79 yrs old:\n",
        "\n",
        "> \n",
        "\n",
        "Underfat: under 24 percent, Healthy: 24-36 percent, Overweight: 36-42 percent, Obese: over 42 percent Men:"
      ]
    },
    {
      "cell_type": "code",
      "execution_count": null,
      "metadata": {
        "id": "S-PEaNEiPypE"
      },
      "outputs": [],
      "source": [
        "def bfp_women_diagnosis(height, weight, age):\n",
        "  bmi = (weight/(height**2) ) * 703\n",
        "  body_fat_pct = round(((1.20 * bmi) + (0.23 * age) - 5.4),2)\n",
        "  if age <=40:\n",
        "     if body_fat_pct < 21:\n",
        "        print('your fat percentage is: ',  body_fat_pct, \"you are underfat\")\n",
        "     elif bmi >= 21 and bmi < 33:\n",
        "        print('your fat percentage  is: ',  body_fat_pct, \"you are healthy\")\n",
        "     elif bmi >= 33 and bmi < 40:\n",
        "        print('your fat percentage  is: ',  body_fat_pct, \"you are overweight\")\n",
        "     else : \n",
        "        print('your fat percentage  is: ',  body_fat_pct, \"you are obese\")\n",
        "  if age > 40 and age <=60:\n",
        "     if body_fat_pct < 23:\n",
        "        print('your fat percentage is: ',  body_fat_pct, \"you are underfat\")\n",
        "     elif bmi >= 23 and bmi < 35:\n",
        "        print('your fat percentage  is: ',  body_fat_pct, \"you are healthy\")\n",
        "     elif bmi >= 35 and bmi < 40:\n",
        "        print('your fat percentage  is: ',  body_fat_pct, \"you are overweight\")\n",
        "     else : \n",
        "        print('your fat percentage  is: ',  body_fat_pct, \"you are obese\")\n",
        "  if age > 60:\n",
        "     if body_fat_pct < 24:\n",
        "        print('your fat percentage is: ',  body_fat_pct, \"you are underfat\")\n",
        "     elif bmi >= 24 and bmi < 36:\n",
        "        print('your fat percentage  is: ',  body_fat_pct, \"you are healthy\")\n",
        "     elif bmi >= 36 and bmi < 42:\n",
        "        print('your fat percentage  is: ',  body_fat_pct, \"you are healthy\")\n",
        "     else : \n",
        "        print('your fat percentage  is: ',  body_fat_pct, \"you are obese\")\n",
        "\n",
        "bfp_women_diagnosis(65, 180, 30)"
      ]
    },
    {
      "cell_type": "markdown",
      "metadata": {
        "id": "m-kpbX8f6CJX"
      },
      "source": [
        "*Body Fat Percentage for men*"
      ]
    },
    {
      "cell_type": "code",
      "execution_count": null,
      "metadata": {
        "id": "nRRlQL81NdoY"
      },
      "outputs": [],
      "source": [
        "def bfp_men(height, weight, age):\n",
        "  bmi  = (weight/(height**2) ) * 703\n",
        "  body_fat_pct = (1.20 * bmi) + (0.23 * age) - 16.2\n",
        "  print(body_fat_pct)\n",
        "\n",
        "bfp_men(height= 69, weight= 170, age = 40)"
      ]
    },
    {
      "cell_type": "markdown",
      "metadata": {
        "id": "Y5i03TgBKlab"
      },
      "source": [
        "\n",
        "Men:\n",
        "\n",
        "20-40 yrs old: \n",
        "> Underfat: under 8 percent, Healthy: 8-19 percent, Overweight: 19-25 percent, Obese: over 25 percent\n",
        "\n",
        "41-60 yrs old:\n",
        "\n",
        "> Underfat: under 11 percent, Healthy: 11-22 percent, Overweight: 22-27 percent, Obese: over 27 percent\n",
        "\n",
        "61-79 yrs old:\n",
        "\n",
        "> Underfat: under 13 percent, Healthy: 13-25 percent, Overweight: 25-30 percent, Obese: over 30 percent\n",
        "\n",
        "\n",
        " \n",
        " "
      ]
    },
    {
      "cell_type": "markdown",
      "metadata": {
        "id": "sX_gBua_UoVP"
      },
      "source": [
        "## Function Practice ***"
      ]
    },
    {
      "cell_type": "markdown",
      "metadata": {
        "id": "6vQnA4Y3UTcx"
      },
      "source": [
        "*   write a function **bfp_men_diagnosis()** that would calculate the bfp for men and would do tha diagnosis \n",
        "*   write a function **bfp_diagnosis()** that would calculate the bfp would do tha diagnosis, no matter women or men giving arguments (height= , weight= , age = , gender = )\n",
        "\n"
      ]
    },
    {
      "cell_type": "code",
      "execution_count": null,
      "metadata": {
        "id": "ftjDqT04USdQ"
      },
      "outputs": [],
      "source": []
    },
    {
      "cell_type": "code",
      "execution_count": null,
      "metadata": {
        "id": "v5ANKkX7OGcE"
      },
      "outputs": [],
      "source": []
    }
  ],
  "metadata": {
    "colab": {
      "provenance": [],
      "toc_visible": true,
      "include_colab_link": true
    },
    "kernelspec": {
      "display_name": "Python 3 (ipykernel)",
      "language": "python",
      "name": "python3"
    },
    "language_info": {
      "codemirror_mode": {
        "name": "ipython",
        "version": 3
      },
      "file_extension": ".py",
      "mimetype": "text/x-python",
      "name": "python",
      "nbconvert_exporter": "python",
      "pygments_lexer": "ipython3",
      "version": "3.9.7"
    }
  },
  "nbformat": 4,
  "nbformat_minor": 0
}